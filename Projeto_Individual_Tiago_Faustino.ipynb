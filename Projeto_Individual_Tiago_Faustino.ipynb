{
  "nbformat": 4,
  "nbformat_minor": 0,
  "metadata": {
    "colab": {
      "name": "Projeto_Individual_Tiago_Faustino.ipynb",
      "provenance": []
    },
    "kernelspec": {
      "name": "python3",
      "display_name": "Python 3"
    },
    "language_info": {
      "name": "python"
    }
  },
  "cells": [
    {
      "cell_type": "markdown",
      "source": [
        "#**Nível Pandas**\n",
        "\n",
        "\n"
      ],
      "metadata": {
        "id": "n7mUFKGDsM3a"
      }
    },
    {
      "cell_type": "markdown",
      "source": [
        "##**Procedimentos iniciais**"
      ],
      "metadata": {
        "id": "JLzoQS8h38em"
      }
    },
    {
      "cell_type": "markdown",
      "source": [
        "###**Bibliotecas**"
      ],
      "metadata": {
        "id": "olVCRnMNqFTB"
      }
    },
    {
      "cell_type": "code",
      "execution_count": null,
      "metadata": {
        "id": "O6Xb-sMIp2Pk"
      },
      "outputs": [],
      "source": [
        "'''\n",
        "Importando as bibliotecas necessárias.\n",
        "'''\n",
        "import pandas as pd\n",
        "from google.colab import drive\n",
        "import csv\n",
        "import os\n",
        "from google.cloud import storage\n",
        "from pymongo import MongoClient\n",
        "import dns\n",
        "from datetime import datetime"
      ]
    },
    {
      "cell_type": "markdown",
      "source": [
        "###**Instalações adicionais requeridas**"
      ],
      "metadata": {
        "id": "zbvqPkyQ2oBN"
      }
    },
    {
      "cell_type": "code",
      "source": [
        "'''\n",
        "Após a instação execute, novamente, a seção 'Bibliotecas'.\n",
        "'''\n",
        "!pip install \"pymongo[srv]\""
      ],
      "metadata": {
        "colab": {
          "base_uri": "https://localhost:8080/"
        },
        "id": "CK1VcT2R2gBI",
        "outputId": "51a63dfb-a845-4653-8097-a7314ef26ebd"
      },
      "execution_count": null,
      "outputs": [
        {
          "output_type": "stream",
          "name": "stdout",
          "text": [
            "Looking in indexes: https://pypi.org/simple, https://us-python.pkg.dev/colab-wheels/public/simple/\n",
            "Requirement already satisfied: pymongo[srv] in /usr/local/lib/python3.7/dist-packages (4.1.1)\n",
            "Collecting dnspython<3.0.0,>=1.16.0\n",
            "  Downloading dnspython-2.2.1-py3-none-any.whl (269 kB)\n",
            "\u001b[K     |████████████████████████████████| 269 kB 15.7 MB/s \n",
            "\u001b[?25hInstalling collected packages: dnspython\n",
            "Successfully installed dnspython-2.2.1\n"
          ]
        }
      ]
    },
    {
      "cell_type": "markdown",
      "source": [
        "###**Montando o Drive**"
      ],
      "metadata": {
        "id": "WasqvZ2FqKIx"
      }
    },
    {
      "cell_type": "code",
      "source": [
        "'''\n",
        "Comando aplicado para montar o ambiente do Drive.\n",
        "'''\n",
        "drive.mount('/content/drive')"
      ],
      "metadata": {
        "colab": {
          "base_uri": "https://localhost:8080/"
        },
        "id": "TufK7asOqERz",
        "outputId": "cfae8801-abf2-495b-8153-83b6174fa661"
      },
      "execution_count": null,
      "outputs": [
        {
          "output_type": "stream",
          "name": "stdout",
          "text": [
            "Drive already mounted at /content/drive; to attempt to forcibly remount, call drive.mount(\"/content/drive\", force_remount=True).\n"
          ]
        }
      ]
    },
    {
      "cell_type": "markdown",
      "source": [
        "##**(E) Extração dos dados**"
      ],
      "metadata": {
        "id": "qaHrrChQ_xyF"
      }
    },
    {
      "cell_type": "markdown",
      "source": [
        "###**(E) Extração dos dados - parte 1/2**"
      ],
      "metadata": {
        "id": "-NYLloRI9V3G"
      }
    },
    {
      "cell_type": "markdown",
      "source": [
        "####**Leitura**"
      ],
      "metadata": {
        "id": "XWUqo6-Ksnla"
      }
    },
    {
      "cell_type": "code",
      "source": [
        "'''\n",
        "Lendo arquivo .CSV com o Pandas.\n",
        "'''\n",
        "df = pd.read_csv('/content/marketing_campaign.csv', encoding = 'utf-8', sep=';')"
      ],
      "metadata": {
        "id": "dPyq1O-Fp_BL"
      },
      "execution_count": null,
      "outputs": []
    },
    {
      "cell_type": "code",
      "source": [
        "'''\n",
        "Verificando as 5 primeiras linhas do DataFrame.\n",
        "'''\n",
        "df.head()"
      ],
      "metadata": {
        "colab": {
          "base_uri": "https://localhost:8080/",
          "height": 299
        },
        "id": "lYyyIogysOra",
        "outputId": "d3864669-ede1-4c9c-b42f-98d7414d1d14"
      },
      "execution_count": null,
      "outputs": [
        {
          "output_type": "execute_result",
          "data": {
            "text/plain": [
              "     ID  Year_Birth   Education Marital_Status   Income  Kidhome  Teenhome  \\\n",
              "0  5524        1957  Graduation         Single  58138.0        0         0   \n",
              "1  2174        1954  Graduation         Single  46344.0        1         1   \n",
              "2  4141        1965  Graduation       Together  71613.0        0         0   \n",
              "3  6182        1984  Graduation       Together  26646.0        1         0   \n",
              "4  5324        1981         PhD        Married  58293.0        1         0   \n",
              "\n",
              "  Dt_Customer  Recency  MntWines  ...  NumWebVisitsMonth  AcceptedCmp3  \\\n",
              "0  2012-09-04       58       635  ...                  7             0   \n",
              "1  2014-03-08       38        11  ...                  5             0   \n",
              "2  2013-08-21       26       426  ...                  4             0   \n",
              "3  2014-02-10       26        11  ...                  6             0   \n",
              "4  2014-01-19       94       173  ...                  5             0   \n",
              "\n",
              "   AcceptedCmp4  AcceptedCmp5  AcceptedCmp1  AcceptedCmp2  Complain  \\\n",
              "0             0             0             0             0         0   \n",
              "1             0             0             0             0         0   \n",
              "2             0             0             0             0         0   \n",
              "3             0             0             0             0         0   \n",
              "4             0             0             0             0         0   \n",
              "\n",
              "   Z_CostContact  Z_Revenue  Response  \n",
              "0              3         11         1  \n",
              "1              3         11         0  \n",
              "2              3         11         0  \n",
              "3              3         11         0  \n",
              "4              3         11         0  \n",
              "\n",
              "[5 rows x 29 columns]"
            ],
            "text/html": [
              "\n",
              "  <div id=\"df-4d611868-ef99-4eda-a334-46dd6b115a40\">\n",
              "    <div class=\"colab-df-container\">\n",
              "      <div>\n",
              "<style scoped>\n",
              "    .dataframe tbody tr th:only-of-type {\n",
              "        vertical-align: middle;\n",
              "    }\n",
              "\n",
              "    .dataframe tbody tr th {\n",
              "        vertical-align: top;\n",
              "    }\n",
              "\n",
              "    .dataframe thead th {\n",
              "        text-align: right;\n",
              "    }\n",
              "</style>\n",
              "<table border=\"1\" class=\"dataframe\">\n",
              "  <thead>\n",
              "    <tr style=\"text-align: right;\">\n",
              "      <th></th>\n",
              "      <th>ID</th>\n",
              "      <th>Year_Birth</th>\n",
              "      <th>Education</th>\n",
              "      <th>Marital_Status</th>\n",
              "      <th>Income</th>\n",
              "      <th>Kidhome</th>\n",
              "      <th>Teenhome</th>\n",
              "      <th>Dt_Customer</th>\n",
              "      <th>Recency</th>\n",
              "      <th>MntWines</th>\n",
              "      <th>...</th>\n",
              "      <th>NumWebVisitsMonth</th>\n",
              "      <th>AcceptedCmp3</th>\n",
              "      <th>AcceptedCmp4</th>\n",
              "      <th>AcceptedCmp5</th>\n",
              "      <th>AcceptedCmp1</th>\n",
              "      <th>AcceptedCmp2</th>\n",
              "      <th>Complain</th>\n",
              "      <th>Z_CostContact</th>\n",
              "      <th>Z_Revenue</th>\n",
              "      <th>Response</th>\n",
              "    </tr>\n",
              "  </thead>\n",
              "  <tbody>\n",
              "    <tr>\n",
              "      <th>0</th>\n",
              "      <td>5524</td>\n",
              "      <td>1957</td>\n",
              "      <td>Graduation</td>\n",
              "      <td>Single</td>\n",
              "      <td>58138.0</td>\n",
              "      <td>0</td>\n",
              "      <td>0</td>\n",
              "      <td>2012-09-04</td>\n",
              "      <td>58</td>\n",
              "      <td>635</td>\n",
              "      <td>...</td>\n",
              "      <td>7</td>\n",
              "      <td>0</td>\n",
              "      <td>0</td>\n",
              "      <td>0</td>\n",
              "      <td>0</td>\n",
              "      <td>0</td>\n",
              "      <td>0</td>\n",
              "      <td>3</td>\n",
              "      <td>11</td>\n",
              "      <td>1</td>\n",
              "    </tr>\n",
              "    <tr>\n",
              "      <th>1</th>\n",
              "      <td>2174</td>\n",
              "      <td>1954</td>\n",
              "      <td>Graduation</td>\n",
              "      <td>Single</td>\n",
              "      <td>46344.0</td>\n",
              "      <td>1</td>\n",
              "      <td>1</td>\n",
              "      <td>2014-03-08</td>\n",
              "      <td>38</td>\n",
              "      <td>11</td>\n",
              "      <td>...</td>\n",
              "      <td>5</td>\n",
              "      <td>0</td>\n",
              "      <td>0</td>\n",
              "      <td>0</td>\n",
              "      <td>0</td>\n",
              "      <td>0</td>\n",
              "      <td>0</td>\n",
              "      <td>3</td>\n",
              "      <td>11</td>\n",
              "      <td>0</td>\n",
              "    </tr>\n",
              "    <tr>\n",
              "      <th>2</th>\n",
              "      <td>4141</td>\n",
              "      <td>1965</td>\n",
              "      <td>Graduation</td>\n",
              "      <td>Together</td>\n",
              "      <td>71613.0</td>\n",
              "      <td>0</td>\n",
              "      <td>0</td>\n",
              "      <td>2013-08-21</td>\n",
              "      <td>26</td>\n",
              "      <td>426</td>\n",
              "      <td>...</td>\n",
              "      <td>4</td>\n",
              "      <td>0</td>\n",
              "      <td>0</td>\n",
              "      <td>0</td>\n",
              "      <td>0</td>\n",
              "      <td>0</td>\n",
              "      <td>0</td>\n",
              "      <td>3</td>\n",
              "      <td>11</td>\n",
              "      <td>0</td>\n",
              "    </tr>\n",
              "    <tr>\n",
              "      <th>3</th>\n",
              "      <td>6182</td>\n",
              "      <td>1984</td>\n",
              "      <td>Graduation</td>\n",
              "      <td>Together</td>\n",
              "      <td>26646.0</td>\n",
              "      <td>1</td>\n",
              "      <td>0</td>\n",
              "      <td>2014-02-10</td>\n",
              "      <td>26</td>\n",
              "      <td>11</td>\n",
              "      <td>...</td>\n",
              "      <td>6</td>\n",
              "      <td>0</td>\n",
              "      <td>0</td>\n",
              "      <td>0</td>\n",
              "      <td>0</td>\n",
              "      <td>0</td>\n",
              "      <td>0</td>\n",
              "      <td>3</td>\n",
              "      <td>11</td>\n",
              "      <td>0</td>\n",
              "    </tr>\n",
              "    <tr>\n",
              "      <th>4</th>\n",
              "      <td>5324</td>\n",
              "      <td>1981</td>\n",
              "      <td>PhD</td>\n",
              "      <td>Married</td>\n",
              "      <td>58293.0</td>\n",
              "      <td>1</td>\n",
              "      <td>0</td>\n",
              "      <td>2014-01-19</td>\n",
              "      <td>94</td>\n",
              "      <td>173</td>\n",
              "      <td>...</td>\n",
              "      <td>5</td>\n",
              "      <td>0</td>\n",
              "      <td>0</td>\n",
              "      <td>0</td>\n",
              "      <td>0</td>\n",
              "      <td>0</td>\n",
              "      <td>0</td>\n",
              "      <td>3</td>\n",
              "      <td>11</td>\n",
              "      <td>0</td>\n",
              "    </tr>\n",
              "  </tbody>\n",
              "</table>\n",
              "<p>5 rows × 29 columns</p>\n",
              "</div>\n",
              "      <button class=\"colab-df-convert\" onclick=\"convertToInteractive('df-4d611868-ef99-4eda-a334-46dd6b115a40')\"\n",
              "              title=\"Convert this dataframe to an interactive table.\"\n",
              "              style=\"display:none;\">\n",
              "        \n",
              "  <svg xmlns=\"http://www.w3.org/2000/svg\" height=\"24px\"viewBox=\"0 0 24 24\"\n",
              "       width=\"24px\">\n",
              "    <path d=\"M0 0h24v24H0V0z\" fill=\"none\"/>\n",
              "    <path d=\"M18.56 5.44l.94 2.06.94-2.06 2.06-.94-2.06-.94-.94-2.06-.94 2.06-2.06.94zm-11 1L8.5 8.5l.94-2.06 2.06-.94-2.06-.94L8.5 2.5l-.94 2.06-2.06.94zm10 10l.94 2.06.94-2.06 2.06-.94-2.06-.94-.94-2.06-.94 2.06-2.06.94z\"/><path d=\"M17.41 7.96l-1.37-1.37c-.4-.4-.92-.59-1.43-.59-.52 0-1.04.2-1.43.59L10.3 9.45l-7.72 7.72c-.78.78-.78 2.05 0 2.83L4 21.41c.39.39.9.59 1.41.59.51 0 1.02-.2 1.41-.59l7.78-7.78 2.81-2.81c.8-.78.8-2.07 0-2.86zM5.41 20L4 18.59l7.72-7.72 1.47 1.35L5.41 20z\"/>\n",
              "  </svg>\n",
              "      </button>\n",
              "      \n",
              "  <style>\n",
              "    .colab-df-container {\n",
              "      display:flex;\n",
              "      flex-wrap:wrap;\n",
              "      gap: 12px;\n",
              "    }\n",
              "\n",
              "    .colab-df-convert {\n",
              "      background-color: #E8F0FE;\n",
              "      border: none;\n",
              "      border-radius: 50%;\n",
              "      cursor: pointer;\n",
              "      display: none;\n",
              "      fill: #1967D2;\n",
              "      height: 32px;\n",
              "      padding: 0 0 0 0;\n",
              "      width: 32px;\n",
              "    }\n",
              "\n",
              "    .colab-df-convert:hover {\n",
              "      background-color: #E2EBFA;\n",
              "      box-shadow: 0px 1px 2px rgba(60, 64, 67, 0.3), 0px 1px 3px 1px rgba(60, 64, 67, 0.15);\n",
              "      fill: #174EA6;\n",
              "    }\n",
              "\n",
              "    [theme=dark] .colab-df-convert {\n",
              "      background-color: #3B4455;\n",
              "      fill: #D2E3FC;\n",
              "    }\n",
              "\n",
              "    [theme=dark] .colab-df-convert:hover {\n",
              "      background-color: #434B5C;\n",
              "      box-shadow: 0px 1px 3px 1px rgba(0, 0, 0, 0.15);\n",
              "      filter: drop-shadow(0px 1px 2px rgba(0, 0, 0, 0.3));\n",
              "      fill: #FFFFFF;\n",
              "    }\n",
              "  </style>\n",
              "\n",
              "      <script>\n",
              "        const buttonEl =\n",
              "          document.querySelector('#df-4d611868-ef99-4eda-a334-46dd6b115a40 button.colab-df-convert');\n",
              "        buttonEl.style.display =\n",
              "          google.colab.kernel.accessAllowed ? 'block' : 'none';\n",
              "\n",
              "        async function convertToInteractive(key) {\n",
              "          const element = document.querySelector('#df-4d611868-ef99-4eda-a334-46dd6b115a40');\n",
              "          const dataTable =\n",
              "            await google.colab.kernel.invokeFunction('convertToInteractive',\n",
              "                                                     [key], {});\n",
              "          if (!dataTable) return;\n",
              "\n",
              "          const docLinkHtml = 'Like what you see? Visit the ' +\n",
              "            '<a target=\"_blank\" href=https://colab.research.google.com/notebooks/data_table.ipynb>data table notebook</a>'\n",
              "            + ' to learn more about interactive tables.';\n",
              "          element.innerHTML = '';\n",
              "          dataTable['output_type'] = 'display_data';\n",
              "          await google.colab.output.renderOutput(dataTable, element);\n",
              "          const docLink = document.createElement('div');\n",
              "          docLink.innerHTML = docLinkHtml;\n",
              "          element.appendChild(docLink);\n",
              "        }\n",
              "      </script>\n",
              "    </div>\n",
              "  </div>\n",
              "  "
            ]
          },
          "metadata": {},
          "execution_count": 5
        }
      ]
    },
    {
      "cell_type": "markdown",
      "source": [
        "####**Pré-analise**"
      ],
      "metadata": {
        "id": "lzdj666JtR8r"
      }
    },
    {
      "cell_type": "code",
      "source": [
        "'''\n",
        "Verificando o número de linhas e colunas do DataFrame.\n",
        "'''\n",
        "numero_linhas_df = df.shape[0]\n",
        "numero_colunas_df = df.shape[1]\n",
        "\n",
        "print('Número de linhas do DataFrame: ', numero_linhas_df)\n",
        "print('Número de colunas do DataFrame: ', numero_colunas_df)"
      ],
      "metadata": {
        "colab": {
          "base_uri": "https://localhost:8080/"
        },
        "id": "i_AzwCEos0hJ",
        "outputId": "0251009d-8d90-4675-feae-17d4ddcd6c62"
      },
      "execution_count": null,
      "outputs": [
        {
          "output_type": "stream",
          "name": "stdout",
          "text": [
            "Número de linhas do DataFrame:  2240\n",
            "Número de colunas do DataFrame:  29\n"
          ]
        }
      ]
    },
    {
      "cell_type": "code",
      "source": [
        "'''\n",
        "Verificando alguns dados estatísticos.\n",
        "'''\n",
        "df.describe()"
      ],
      "metadata": {
        "colab": {
          "base_uri": "https://localhost:8080/",
          "height": 393
        },
        "id": "UMuU6JJfvCiL",
        "outputId": "6ad4f7e9-a659-4906-a59f-f100c7e2d495"
      },
      "execution_count": null,
      "outputs": [
        {
          "output_type": "execute_result",
          "data": {
            "text/plain": [
              "                 ID   Year_Birth         Income      Kidhome     Teenhome  \\\n",
              "count   2240.000000  2240.000000    2216.000000  2240.000000  2240.000000   \n",
              "mean    5592.159821  1968.805804   52247.251354     0.444196     0.506250   \n",
              "std     3246.662198    11.984069   25173.076661     0.538398     0.544538   \n",
              "min        0.000000  1893.000000    1730.000000     0.000000     0.000000   \n",
              "25%     2828.250000  1959.000000   35303.000000     0.000000     0.000000   \n",
              "50%     5458.500000  1970.000000   51381.500000     0.000000     0.000000   \n",
              "75%     8427.750000  1977.000000   68522.000000     1.000000     1.000000   \n",
              "max    11191.000000  1996.000000  666666.000000     2.000000     2.000000   \n",
              "\n",
              "           Recency     MntWines    MntFruits  MntMeatProducts  \\\n",
              "count  2240.000000  2240.000000  2240.000000      2240.000000   \n",
              "mean     49.109375   303.935714    26.302232       166.950000   \n",
              "std      28.962453   336.597393    39.773434       225.715373   \n",
              "min       0.000000     0.000000     0.000000         0.000000   \n",
              "25%      24.000000    23.750000     1.000000        16.000000   \n",
              "50%      49.000000   173.500000     8.000000        67.000000   \n",
              "75%      74.000000   504.250000    33.000000       232.000000   \n",
              "max      99.000000  1493.000000   199.000000      1725.000000   \n",
              "\n",
              "       MntFishProducts  ...  NumWebVisitsMonth  AcceptedCmp3  AcceptedCmp4  \\\n",
              "count      2240.000000  ...        2240.000000   2240.000000   2240.000000   \n",
              "mean         37.525446  ...           5.316518      0.072768      0.074554   \n",
              "std          54.628979  ...           2.426645      0.259813      0.262728   \n",
              "min           0.000000  ...           0.000000      0.000000      0.000000   \n",
              "25%           3.000000  ...           3.000000      0.000000      0.000000   \n",
              "50%          12.000000  ...           6.000000      0.000000      0.000000   \n",
              "75%          50.000000  ...           7.000000      0.000000      0.000000   \n",
              "max         259.000000  ...          20.000000      1.000000      1.000000   \n",
              "\n",
              "       AcceptedCmp5  AcceptedCmp1  AcceptedCmp2     Complain  Z_CostContact  \\\n",
              "count   2240.000000   2240.000000   2240.000000  2240.000000         2240.0   \n",
              "mean       0.072768      0.064286      0.013393     0.009375            3.0   \n",
              "std        0.259813      0.245316      0.114976     0.096391            0.0   \n",
              "min        0.000000      0.000000      0.000000     0.000000            3.0   \n",
              "25%        0.000000      0.000000      0.000000     0.000000            3.0   \n",
              "50%        0.000000      0.000000      0.000000     0.000000            3.0   \n",
              "75%        0.000000      0.000000      0.000000     0.000000            3.0   \n",
              "max        1.000000      1.000000      1.000000     1.000000            3.0   \n",
              "\n",
              "       Z_Revenue     Response  \n",
              "count     2240.0  2240.000000  \n",
              "mean        11.0     0.149107  \n",
              "std          0.0     0.356274  \n",
              "min         11.0     0.000000  \n",
              "25%         11.0     0.000000  \n",
              "50%         11.0     0.000000  \n",
              "75%         11.0     0.000000  \n",
              "max         11.0     1.000000  \n",
              "\n",
              "[8 rows x 26 columns]"
            ],
            "text/html": [
              "\n",
              "  <div id=\"df-2171cd03-bdbf-4ff5-b5c6-42697e7348a2\">\n",
              "    <div class=\"colab-df-container\">\n",
              "      <div>\n",
              "<style scoped>\n",
              "    .dataframe tbody tr th:only-of-type {\n",
              "        vertical-align: middle;\n",
              "    }\n",
              "\n",
              "    .dataframe tbody tr th {\n",
              "        vertical-align: top;\n",
              "    }\n",
              "\n",
              "    .dataframe thead th {\n",
              "        text-align: right;\n",
              "    }\n",
              "</style>\n",
              "<table border=\"1\" class=\"dataframe\">\n",
              "  <thead>\n",
              "    <tr style=\"text-align: right;\">\n",
              "      <th></th>\n",
              "      <th>ID</th>\n",
              "      <th>Year_Birth</th>\n",
              "      <th>Income</th>\n",
              "      <th>Kidhome</th>\n",
              "      <th>Teenhome</th>\n",
              "      <th>Recency</th>\n",
              "      <th>MntWines</th>\n",
              "      <th>MntFruits</th>\n",
              "      <th>MntMeatProducts</th>\n",
              "      <th>MntFishProducts</th>\n",
              "      <th>...</th>\n",
              "      <th>NumWebVisitsMonth</th>\n",
              "      <th>AcceptedCmp3</th>\n",
              "      <th>AcceptedCmp4</th>\n",
              "      <th>AcceptedCmp5</th>\n",
              "      <th>AcceptedCmp1</th>\n",
              "      <th>AcceptedCmp2</th>\n",
              "      <th>Complain</th>\n",
              "      <th>Z_CostContact</th>\n",
              "      <th>Z_Revenue</th>\n",
              "      <th>Response</th>\n",
              "    </tr>\n",
              "  </thead>\n",
              "  <tbody>\n",
              "    <tr>\n",
              "      <th>count</th>\n",
              "      <td>2240.000000</td>\n",
              "      <td>2240.000000</td>\n",
              "      <td>2216.000000</td>\n",
              "      <td>2240.000000</td>\n",
              "      <td>2240.000000</td>\n",
              "      <td>2240.000000</td>\n",
              "      <td>2240.000000</td>\n",
              "      <td>2240.000000</td>\n",
              "      <td>2240.000000</td>\n",
              "      <td>2240.000000</td>\n",
              "      <td>...</td>\n",
              "      <td>2240.000000</td>\n",
              "      <td>2240.000000</td>\n",
              "      <td>2240.000000</td>\n",
              "      <td>2240.000000</td>\n",
              "      <td>2240.000000</td>\n",
              "      <td>2240.000000</td>\n",
              "      <td>2240.000000</td>\n",
              "      <td>2240.0</td>\n",
              "      <td>2240.0</td>\n",
              "      <td>2240.000000</td>\n",
              "    </tr>\n",
              "    <tr>\n",
              "      <th>mean</th>\n",
              "      <td>5592.159821</td>\n",
              "      <td>1968.805804</td>\n",
              "      <td>52247.251354</td>\n",
              "      <td>0.444196</td>\n",
              "      <td>0.506250</td>\n",
              "      <td>49.109375</td>\n",
              "      <td>303.935714</td>\n",
              "      <td>26.302232</td>\n",
              "      <td>166.950000</td>\n",
              "      <td>37.525446</td>\n",
              "      <td>...</td>\n",
              "      <td>5.316518</td>\n",
              "      <td>0.072768</td>\n",
              "      <td>0.074554</td>\n",
              "      <td>0.072768</td>\n",
              "      <td>0.064286</td>\n",
              "      <td>0.013393</td>\n",
              "      <td>0.009375</td>\n",
              "      <td>3.0</td>\n",
              "      <td>11.0</td>\n",
              "      <td>0.149107</td>\n",
              "    </tr>\n",
              "    <tr>\n",
              "      <th>std</th>\n",
              "      <td>3246.662198</td>\n",
              "      <td>11.984069</td>\n",
              "      <td>25173.076661</td>\n",
              "      <td>0.538398</td>\n",
              "      <td>0.544538</td>\n",
              "      <td>28.962453</td>\n",
              "      <td>336.597393</td>\n",
              "      <td>39.773434</td>\n",
              "      <td>225.715373</td>\n",
              "      <td>54.628979</td>\n",
              "      <td>...</td>\n",
              "      <td>2.426645</td>\n",
              "      <td>0.259813</td>\n",
              "      <td>0.262728</td>\n",
              "      <td>0.259813</td>\n",
              "      <td>0.245316</td>\n",
              "      <td>0.114976</td>\n",
              "      <td>0.096391</td>\n",
              "      <td>0.0</td>\n",
              "      <td>0.0</td>\n",
              "      <td>0.356274</td>\n",
              "    </tr>\n",
              "    <tr>\n",
              "      <th>min</th>\n",
              "      <td>0.000000</td>\n",
              "      <td>1893.000000</td>\n",
              "      <td>1730.000000</td>\n",
              "      <td>0.000000</td>\n",
              "      <td>0.000000</td>\n",
              "      <td>0.000000</td>\n",
              "      <td>0.000000</td>\n",
              "      <td>0.000000</td>\n",
              "      <td>0.000000</td>\n",
              "      <td>0.000000</td>\n",
              "      <td>...</td>\n",
              "      <td>0.000000</td>\n",
              "      <td>0.000000</td>\n",
              "      <td>0.000000</td>\n",
              "      <td>0.000000</td>\n",
              "      <td>0.000000</td>\n",
              "      <td>0.000000</td>\n",
              "      <td>0.000000</td>\n",
              "      <td>3.0</td>\n",
              "      <td>11.0</td>\n",
              "      <td>0.000000</td>\n",
              "    </tr>\n",
              "    <tr>\n",
              "      <th>25%</th>\n",
              "      <td>2828.250000</td>\n",
              "      <td>1959.000000</td>\n",
              "      <td>35303.000000</td>\n",
              "      <td>0.000000</td>\n",
              "      <td>0.000000</td>\n",
              "      <td>24.000000</td>\n",
              "      <td>23.750000</td>\n",
              "      <td>1.000000</td>\n",
              "      <td>16.000000</td>\n",
              "      <td>3.000000</td>\n",
              "      <td>...</td>\n",
              "      <td>3.000000</td>\n",
              "      <td>0.000000</td>\n",
              "      <td>0.000000</td>\n",
              "      <td>0.000000</td>\n",
              "      <td>0.000000</td>\n",
              "      <td>0.000000</td>\n",
              "      <td>0.000000</td>\n",
              "      <td>3.0</td>\n",
              "      <td>11.0</td>\n",
              "      <td>0.000000</td>\n",
              "    </tr>\n",
              "    <tr>\n",
              "      <th>50%</th>\n",
              "      <td>5458.500000</td>\n",
              "      <td>1970.000000</td>\n",
              "      <td>51381.500000</td>\n",
              "      <td>0.000000</td>\n",
              "      <td>0.000000</td>\n",
              "      <td>49.000000</td>\n",
              "      <td>173.500000</td>\n",
              "      <td>8.000000</td>\n",
              "      <td>67.000000</td>\n",
              "      <td>12.000000</td>\n",
              "      <td>...</td>\n",
              "      <td>6.000000</td>\n",
              "      <td>0.000000</td>\n",
              "      <td>0.000000</td>\n",
              "      <td>0.000000</td>\n",
              "      <td>0.000000</td>\n",
              "      <td>0.000000</td>\n",
              "      <td>0.000000</td>\n",
              "      <td>3.0</td>\n",
              "      <td>11.0</td>\n",
              "      <td>0.000000</td>\n",
              "    </tr>\n",
              "    <tr>\n",
              "      <th>75%</th>\n",
              "      <td>8427.750000</td>\n",
              "      <td>1977.000000</td>\n",
              "      <td>68522.000000</td>\n",
              "      <td>1.000000</td>\n",
              "      <td>1.000000</td>\n",
              "      <td>74.000000</td>\n",
              "      <td>504.250000</td>\n",
              "      <td>33.000000</td>\n",
              "      <td>232.000000</td>\n",
              "      <td>50.000000</td>\n",
              "      <td>...</td>\n",
              "      <td>7.000000</td>\n",
              "      <td>0.000000</td>\n",
              "      <td>0.000000</td>\n",
              "      <td>0.000000</td>\n",
              "      <td>0.000000</td>\n",
              "      <td>0.000000</td>\n",
              "      <td>0.000000</td>\n",
              "      <td>3.0</td>\n",
              "      <td>11.0</td>\n",
              "      <td>0.000000</td>\n",
              "    </tr>\n",
              "    <tr>\n",
              "      <th>max</th>\n",
              "      <td>11191.000000</td>\n",
              "      <td>1996.000000</td>\n",
              "      <td>666666.000000</td>\n",
              "      <td>2.000000</td>\n",
              "      <td>2.000000</td>\n",
              "      <td>99.000000</td>\n",
              "      <td>1493.000000</td>\n",
              "      <td>199.000000</td>\n",
              "      <td>1725.000000</td>\n",
              "      <td>259.000000</td>\n",
              "      <td>...</td>\n",
              "      <td>20.000000</td>\n",
              "      <td>1.000000</td>\n",
              "      <td>1.000000</td>\n",
              "      <td>1.000000</td>\n",
              "      <td>1.000000</td>\n",
              "      <td>1.000000</td>\n",
              "      <td>1.000000</td>\n",
              "      <td>3.0</td>\n",
              "      <td>11.0</td>\n",
              "      <td>1.000000</td>\n",
              "    </tr>\n",
              "  </tbody>\n",
              "</table>\n",
              "<p>8 rows × 26 columns</p>\n",
              "</div>\n",
              "      <button class=\"colab-df-convert\" onclick=\"convertToInteractive('df-2171cd03-bdbf-4ff5-b5c6-42697e7348a2')\"\n",
              "              title=\"Convert this dataframe to an interactive table.\"\n",
              "              style=\"display:none;\">\n",
              "        \n",
              "  <svg xmlns=\"http://www.w3.org/2000/svg\" height=\"24px\"viewBox=\"0 0 24 24\"\n",
              "       width=\"24px\">\n",
              "    <path d=\"M0 0h24v24H0V0z\" fill=\"none\"/>\n",
              "    <path d=\"M18.56 5.44l.94 2.06.94-2.06 2.06-.94-2.06-.94-.94-2.06-.94 2.06-2.06.94zm-11 1L8.5 8.5l.94-2.06 2.06-.94-2.06-.94L8.5 2.5l-.94 2.06-2.06.94zm10 10l.94 2.06.94-2.06 2.06-.94-2.06-.94-.94-2.06-.94 2.06-2.06.94z\"/><path d=\"M17.41 7.96l-1.37-1.37c-.4-.4-.92-.59-1.43-.59-.52 0-1.04.2-1.43.59L10.3 9.45l-7.72 7.72c-.78.78-.78 2.05 0 2.83L4 21.41c.39.39.9.59 1.41.59.51 0 1.02-.2 1.41-.59l7.78-7.78 2.81-2.81c.8-.78.8-2.07 0-2.86zM5.41 20L4 18.59l7.72-7.72 1.47 1.35L5.41 20z\"/>\n",
              "  </svg>\n",
              "      </button>\n",
              "      \n",
              "  <style>\n",
              "    .colab-df-container {\n",
              "      display:flex;\n",
              "      flex-wrap:wrap;\n",
              "      gap: 12px;\n",
              "    }\n",
              "\n",
              "    .colab-df-convert {\n",
              "      background-color: #E8F0FE;\n",
              "      border: none;\n",
              "      border-radius: 50%;\n",
              "      cursor: pointer;\n",
              "      display: none;\n",
              "      fill: #1967D2;\n",
              "      height: 32px;\n",
              "      padding: 0 0 0 0;\n",
              "      width: 32px;\n",
              "    }\n",
              "\n",
              "    .colab-df-convert:hover {\n",
              "      background-color: #E2EBFA;\n",
              "      box-shadow: 0px 1px 2px rgba(60, 64, 67, 0.3), 0px 1px 3px 1px rgba(60, 64, 67, 0.15);\n",
              "      fill: #174EA6;\n",
              "    }\n",
              "\n",
              "    [theme=dark] .colab-df-convert {\n",
              "      background-color: #3B4455;\n",
              "      fill: #D2E3FC;\n",
              "    }\n",
              "\n",
              "    [theme=dark] .colab-df-convert:hover {\n",
              "      background-color: #434B5C;\n",
              "      box-shadow: 0px 1px 3px 1px rgba(0, 0, 0, 0.15);\n",
              "      filter: drop-shadow(0px 1px 2px rgba(0, 0, 0, 0.3));\n",
              "      fill: #FFFFFF;\n",
              "    }\n",
              "  </style>\n",
              "\n",
              "      <script>\n",
              "        const buttonEl =\n",
              "          document.querySelector('#df-2171cd03-bdbf-4ff5-b5c6-42697e7348a2 button.colab-df-convert');\n",
              "        buttonEl.style.display =\n",
              "          google.colab.kernel.accessAllowed ? 'block' : 'none';\n",
              "\n",
              "        async function convertToInteractive(key) {\n",
              "          const element = document.querySelector('#df-2171cd03-bdbf-4ff5-b5c6-42697e7348a2');\n",
              "          const dataTable =\n",
              "            await google.colab.kernel.invokeFunction('convertToInteractive',\n",
              "                                                     [key], {});\n",
              "          if (!dataTable) return;\n",
              "\n",
              "          const docLinkHtml = 'Like what you see? Visit the ' +\n",
              "            '<a target=\"_blank\" href=https://colab.research.google.com/notebooks/data_table.ipynb>data table notebook</a>'\n",
              "            + ' to learn more about interactive tables.';\n",
              "          element.innerHTML = '';\n",
              "          dataTable['output_type'] = 'display_data';\n",
              "          await google.colab.output.renderOutput(dataTable, element);\n",
              "          const docLink = document.createElement('div');\n",
              "          docLink.innerHTML = docLinkHtml;\n",
              "          element.appendChild(docLink);\n",
              "        }\n",
              "      </script>\n",
              "    </div>\n",
              "  </div>\n",
              "  "
            ]
          },
          "metadata": {},
          "execution_count": 7
        }
      ]
    },
    {
      "cell_type": "code",
      "source": [
        "'''\n",
        "Verificando a existência de 'dados ausentes'.\n",
        "'''\n",
        "df.isna().sum()"
      ],
      "metadata": {
        "colab": {
          "base_uri": "https://localhost:8080/"
        },
        "id": "IduxVF9UtmfT",
        "outputId": "d9f7eb9a-e4f2-493b-f8ba-b94867a91a91"
      },
      "execution_count": null,
      "outputs": [
        {
          "output_type": "execute_result",
          "data": {
            "text/plain": [
              "ID                      0\n",
              "Year_Birth              0\n",
              "Education               0\n",
              "Marital_Status          0\n",
              "Income                 24\n",
              "Kidhome                 0\n",
              "Teenhome                0\n",
              "Dt_Customer             0\n",
              "Recency                 0\n",
              "MntWines                0\n",
              "MntFruits               0\n",
              "MntMeatProducts         0\n",
              "MntFishProducts         0\n",
              "MntSweetProducts        0\n",
              "MntGoldProds            0\n",
              "NumDealsPurchases       0\n",
              "NumWebPurchases         0\n",
              "NumCatalogPurchases     0\n",
              "NumStorePurchases       0\n",
              "NumWebVisitsMonth       0\n",
              "AcceptedCmp3            0\n",
              "AcceptedCmp4            0\n",
              "AcceptedCmp5            0\n",
              "AcceptedCmp1            0\n",
              "AcceptedCmp2            0\n",
              "Complain                0\n",
              "Z_CostContact           0\n",
              "Z_Revenue               0\n",
              "Response                0\n",
              "dtype: int64"
            ]
          },
          "metadata": {},
          "execution_count": 8
        }
      ]
    },
    {
      "cell_type": "code",
      "source": [
        "'''\n",
        "Verificando valores duplicados no dataframe.\n",
        "'''\n",
        "df.duplicated().sum()"
      ],
      "metadata": {
        "colab": {
          "base_uri": "https://localhost:8080/"
        },
        "id": "WtiZtQzFt3X6",
        "outputId": "8c5464b7-2239-491f-df11-6214aa409f1d"
      },
      "execution_count": null,
      "outputs": [
        {
          "output_type": "execute_result",
          "data": {
            "text/plain": [
              "0"
            ]
          },
          "metadata": {},
          "execution_count": 9
        }
      ]
    },
    {
      "cell_type": "code",
      "source": [
        "'''\n",
        "Verificando as características gerais do dataframe.\n",
        "'''\n",
        "df.info()"
      ],
      "metadata": {
        "colab": {
          "base_uri": "https://localhost:8080/"
        },
        "id": "KhYRhty9tXG6",
        "outputId": "1cc3b6f1-a430-4780-eef0-49898508a595"
      },
      "execution_count": null,
      "outputs": [
        {
          "output_type": "stream",
          "name": "stdout",
          "text": [
            "<class 'pandas.core.frame.DataFrame'>\n",
            "RangeIndex: 2240 entries, 0 to 2239\n",
            "Data columns (total 29 columns):\n",
            " #   Column               Non-Null Count  Dtype  \n",
            "---  ------               --------------  -----  \n",
            " 0   ID                   2240 non-null   int64  \n",
            " 1   Year_Birth           2240 non-null   int64  \n",
            " 2   Education            2240 non-null   object \n",
            " 3   Marital_Status       2240 non-null   object \n",
            " 4   Income               2216 non-null   float64\n",
            " 5   Kidhome              2240 non-null   int64  \n",
            " 6   Teenhome             2240 non-null   int64  \n",
            " 7   Dt_Customer          2240 non-null   object \n",
            " 8   Recency              2240 non-null   int64  \n",
            " 9   MntWines             2240 non-null   int64  \n",
            " 10  MntFruits            2240 non-null   int64  \n",
            " 11  MntMeatProducts      2240 non-null   int64  \n",
            " 12  MntFishProducts      2240 non-null   int64  \n",
            " 13  MntSweetProducts     2240 non-null   int64  \n",
            " 14  MntGoldProds         2240 non-null   int64  \n",
            " 15  NumDealsPurchases    2240 non-null   int64  \n",
            " 16  NumWebPurchases      2240 non-null   int64  \n",
            " 17  NumCatalogPurchases  2240 non-null   int64  \n",
            " 18  NumStorePurchases    2240 non-null   int64  \n",
            " 19  NumWebVisitsMonth    2240 non-null   int64  \n",
            " 20  AcceptedCmp3         2240 non-null   int64  \n",
            " 21  AcceptedCmp4         2240 non-null   int64  \n",
            " 22  AcceptedCmp5         2240 non-null   int64  \n",
            " 23  AcceptedCmp1         2240 non-null   int64  \n",
            " 24  AcceptedCmp2         2240 non-null   int64  \n",
            " 25  Complain             2240 non-null   int64  \n",
            " 26  Z_CostContact        2240 non-null   int64  \n",
            " 27  Z_Revenue            2240 non-null   int64  \n",
            " 28  Response             2240 non-null   int64  \n",
            "dtypes: float64(1), int64(25), object(3)\n",
            "memory usage: 507.6+ KB\n"
          ]
        }
      ]
    },
    {
      "cell_type": "code",
      "source": [
        "'''\n",
        "Explorando colunas do tipo 'object', exceto 'Dt_Customer'(vide 'Observações'adiante).\n",
        "'''\n",
        "'''\n",
        "Apresenta os valores únicos na coluna 'Education'.\n",
        "'''\n",
        "df.Education.unique()"
      ],
      "metadata": {
        "colab": {
          "base_uri": "https://localhost:8080/"
        },
        "id": "D8-tK98FpgQX",
        "outputId": "996aef61-0d38-4d28-8718-a846ff68692a"
      },
      "execution_count": null,
      "outputs": [
        {
          "output_type": "execute_result",
          "data": {
            "text/plain": [
              "array(['Graduation', 'PhD', 'Master', 'Basic', '2n Cycle'], dtype=object)"
            ]
          },
          "metadata": {},
          "execution_count": 11
        }
      ]
    },
    {
      "cell_type": "code",
      "source": [
        "'''\n",
        "Apresenta os valores únicos na coluna 'Marital_Status'.\n",
        "'''\n",
        "df.Marital_Status.unique()"
      ],
      "metadata": {
        "colab": {
          "base_uri": "https://localhost:8080/"
        },
        "id": "a5HmgGV1tAn_",
        "outputId": "e669c6ee-00c9-4447-ec9e-8101f54c89ce"
      },
      "execution_count": null,
      "outputs": [
        {
          "output_type": "execute_result",
          "data": {
            "text/plain": [
              "array(['Single', 'Together', 'Married', 'Divorced', 'Widow', 'Alone',\n",
              "       'Absurd', 'YOLO'], dtype=object)"
            ]
          },
          "metadata": {},
          "execution_count": 12
        }
      ]
    },
    {
      "cell_type": "markdown",
      "source": [
        "####**Observações**:\n",
        "\n",
        "- Não há valores duplicados no df.\n",
        "- Somente a coluna 'Income' possui 'valores ausentes'. 24 no total.\n",
        "- Coluna 'Dt_Customer' possui o tipo 'object'. Formato mais correto seria date.\n",
        "Realizar tratamento.\n",
        "- Colunas 'Education' e 'Marital_Status' possuem valores para traduzir.\n",
        "- Precisa traduzir o nome das colunas."
      ],
      "metadata": {
        "id": "3kfVP6r3wiYJ"
      }
    },
    {
      "cell_type": "markdown",
      "source": [
        "###**(E) Extração dos dados - parte 2/2**"
      ],
      "metadata": {
        "id": "Hkyob2DW-MFa"
      }
    },
    {
      "cell_type": "markdown",
      "source": [
        "####**Conexões**"
      ],
      "metadata": {
        "id": "gxycXnriALKt"
      }
    },
    {
      "cell_type": "markdown",
      "source": [
        "#####**Google Cloud Storage / Bucket**"
      ],
      "metadata": {
        "id": "z4ApQKQDAuBi"
      }
    },
    {
      "cell_type": "code",
      "source": [
        "'''\n",
        "Configurando a chave de segurança:\n",
        "'''\n",
        "service_account_key = '...' #OMITIDO POR QUESTÕES DE SEGURANÇA. AQUI VAI SUA KEY DO BUCKET'\n",
        "os.environ['GOOGLE_APPLICATION_CREDENTIALS'] = service_account_key"
      ],
      "metadata": {
        "id": "j_qXrAE-C3UH"
      },
      "execution_count": null,
      "outputs": []
    },
    {
      "cell_type": "code",
      "source": [
        "'''\n",
        "Cliente para interagir com o Google Cloud Storage (GCS).\n",
        "'''\n",
        "client = storage.Client()"
      ],
      "metadata": {
        "id": "NCaAs6WjC4Z-"
      },
      "execution_count": null,
      "outputs": []
    },
    {
      "cell_type": "code",
      "source": [
        "'''\n",
        "Acessando o bucket especificado do GCS.\n",
        "Atribuindo o acesso a uma variável.\n",
        "'''\n",
        "bucket1 = client.get_bucket('projeto-tiago-faustino-bc17')"
      ],
      "metadata": {
        "id": "-iZCT6SnC4uj"
      },
      "execution_count": null,
      "outputs": []
    },
    {
      "cell_type": "code",
      "source": [
        "'''\n",
        "Utilizando o objeto 'blob' quando do acesso ao bucket.\n",
        "Atribuindo operação a uma variável.\n",
        "\n",
        "Os blobs são objetos que podem conter grandes quantidades de texto ou \n",
        "dados binários, incluindo imagens, documentos, mídia de streaming e \n",
        "dados de arquivos.\n",
        "'''\n",
        "\n",
        "blob001 = bucket1.blob('marketing_campaign.csv')"
      ],
      "metadata": {
        "id": "BOw91fKSDCxF"
      },
      "execution_count": null,
      "outputs": []
    },
    {
      "cell_type": "code",
      "source": [
        "'''\n",
        "Carregamento do arquivo original\n",
        "'''\n",
        "'''\n",
        "Realizando o upload do arquivo original do drive montado para o bucket\n",
        "anteriormente especificado.\n",
        "'''\n",
        "blob001.upload_from_filename('/content/marketing_campaign.csv')"
      ],
      "metadata": {
        "id": "F8_AW0bcgD5K"
      },
      "execution_count": null,
      "outputs": []
    },
    {
      "cell_type": "markdown",
      "source": [
        "#####**MongoDB Atlas**"
      ],
      "metadata": {
        "id": "Bn6gFRwuAzp7"
      }
    },
    {
      "cell_type": "code",
      "source": [
        "'''\n",
        "Estabelecendo a conexão com o MongoDB Atlas\n",
        "'''\n",
        "\n",
        "'''\n",
        "Criando uma conexão utilizando o MongoClient, com string fornecida pelo\n",
        "MongoDB Atlas.\n",
        "\n",
        "Credenciais contidas na string utilizada como parâmetro.\n",
        "'''\n",
        "client = MongoClient(\"...\") #OMITIDO POR QUESTÕES DE SEGURANÇA"
      ],
      "metadata": {
        "id": "PQYS-TGjxNXQ"
      },
      "execution_count": null,
      "outputs": []
    },
    {
      "cell_type": "code",
      "source": [
        "'''\n",
        "Obtendo a base de dados criada no MongoDB Atlas e atribuindo ela\n",
        "a uma variável.\n",
        "'''\n",
        "db = client.get_database(\"projeto_individual_tiago_faustino\")"
      ],
      "metadata": {
        "id": "pZ6FaKm81E_6"
      },
      "execution_count": null,
      "outputs": []
    },
    {
      "cell_type": "code",
      "source": [
        "'''\n",
        "Retorna um array contendo o nome de todas as coleções, de acordo com o\n",
        "acesso concedido.\n",
        "'''\n",
        "controle = db.list_collection_names()\n",
        "print(controle)"
      ],
      "metadata": {
        "colab": {
          "base_uri": "https://localhost:8080/"
        },
        "id": "GwXuOXzI117g",
        "outputId": "6444cc39-36d0-4e98-a9ac-b4c9f49a56c9"
      },
      "execution_count": null,
      "outputs": [
        {
          "output_type": "stream",
          "name": "stdout",
          "text": [
            "['tratado', 'original', 'tratado_pandas', 'tratado_pyspark']\n"
          ]
        }
      ]
    },
    {
      "cell_type": "code",
      "source": [
        "'''\n",
        "Estrutura de armazenamento\n",
        "'''\n",
        "\n",
        "'''\n",
        "Criando a collection no MongoDB Atlas e\n",
        "armazenado essa collection numa variável.\n",
        "'''\n",
        "\n",
        "if 'original' not in controle:\n",
        "  db.create_collection('original')\n",
        "var_original_mongo = db['original']"
      ],
      "metadata": {
        "id": "k0cmQM1_3vXh"
      },
      "execution_count": null,
      "outputs": []
    },
    {
      "cell_type": "code",
      "source": [
        "'''\n",
        "Inserção dos dados\n",
        "'''\n",
        "'''\n",
        "Inserindo os dados do arquivo .csv original no Mongo Atlas.\n",
        "'''\n",
        "if var_original_mongo.estimated_document_count()<1:\n",
        "  var_original_mongo.insert_many(df.to_dict(orient='records'))"
      ],
      "metadata": {
        "id": "qGNUOg4-6HT3"
      },
      "execution_count": null,
      "outputs": []
    },
    {
      "cell_type": "code",
      "source": [
        "'''\n",
        "Validação (double-check)\n",
        "'''\n",
        "'''\n",
        "Validação quantitativa. Verificando a quantidade de 'documents' inseridos.\n",
        "'''\n",
        "var_original_mongo.count_documents({})\n",
        "print(var_original_mongo.count_documents({}))"
      ],
      "metadata": {
        "colab": {
          "base_uri": "https://localhost:8080/"
        },
        "id": "7wi_jLGW7Uln",
        "outputId": "a990de29-6bff-49e2-f014-3fc508f6104e"
      },
      "execution_count": null,
      "outputs": [
        {
          "output_type": "stream",
          "name": "stdout",
          "text": [
            "2240\n"
          ]
        }
      ]
    },
    {
      "cell_type": "markdown",
      "source": [
        "##**(T) Tratamento dos dados**"
      ],
      "metadata": {
        "id": "E6GIbEa_AAe9"
      }
    },
    {
      "cell_type": "markdown",
      "source": [
        "###**Recordando...**\n",
        "###**Observações após pré-análise**:\n",
        "\n",
        "> **O que se sabe?**\n",
        "\n",
        ">1. Não há valores duplicados no df, portanto, tratamento desse tipo não é necessário.\n",
        "\n",
        "\n",
        "> **O que ainda é preciso fazer?**\n",
        "\n",
        ">1. Traduzir o nome das colunas.\n",
        ">2. Traduzir os dados categóricos das colunas 'Educação' e 'Estado_Civil'.\n",
        "> - Educação: 'Graduation', 'PhD', 'Master', 'Basic' e '2n Cycle'\n",
        "\n",
        "> - Estado_Civil: 'Single', 'Together', 'Married', 'Divorced', 'Widow', 'Alone', 'Absurd' e 'YOLO'\n",
        "\n",
        ">3. Alterar o tipo da coluna 'Dt_Customer' para data.\n",
        ">4. Inserir o valor '52247.251354' (renda média) para os 24 valores ausentes da coluna 'Renda'.\n"
      ],
      "metadata": {
        "id": "Y98to5RBPlzz"
      }
    },
    {
      "cell_type": "markdown",
      "source": [
        "###**1. Traduzir o nome das colunas.**"
      ],
      "metadata": {
        "id": "kZxSLyA-qkMs"
      }
    },
    {
      "cell_type": "code",
      "source": [
        "#teste\n",
        "df1 = df"
      ],
      "metadata": {
        "id": "kIlLhLEHCY4v"
      },
      "execution_count": null,
      "outputs": []
    },
    {
      "cell_type": "code",
      "source": [
        "#teste\n",
        "df1.head()"
      ],
      "metadata": {
        "colab": {
          "base_uri": "https://localhost:8080/",
          "height": 299
        },
        "id": "pwANGFEeCezE",
        "outputId": "b168c962-a617-499b-a370-ead0ad0e0c17"
      },
      "execution_count": null,
      "outputs": [
        {
          "output_type": "execute_result",
          "data": {
            "text/plain": [
              "     ID  Year_Birth   Education Marital_Status   Income  Kidhome  Teenhome  \\\n",
              "0  5524        1957  Graduation         Single  58138.0        0         0   \n",
              "1  2174        1954  Graduation         Single  46344.0        1         1   \n",
              "2  4141        1965  Graduation       Together  71613.0        0         0   \n",
              "3  6182        1984  Graduation       Together  26646.0        1         0   \n",
              "4  5324        1981         PhD        Married  58293.0        1         0   \n",
              "\n",
              "  Dt_Customer  Recency  MntWines  ...  NumWebVisitsMonth  AcceptedCmp3  \\\n",
              "0  2012-09-04       58       635  ...                  7             0   \n",
              "1  2014-03-08       38        11  ...                  5             0   \n",
              "2  2013-08-21       26       426  ...                  4             0   \n",
              "3  2014-02-10       26        11  ...                  6             0   \n",
              "4  2014-01-19       94       173  ...                  5             0   \n",
              "\n",
              "   AcceptedCmp4  AcceptedCmp5  AcceptedCmp1  AcceptedCmp2  Complain  \\\n",
              "0             0             0             0             0         0   \n",
              "1             0             0             0             0         0   \n",
              "2             0             0             0             0         0   \n",
              "3             0             0             0             0         0   \n",
              "4             0             0             0             0         0   \n",
              "\n",
              "   Z_CostContact  Z_Revenue  Response  \n",
              "0              3         11         1  \n",
              "1              3         11         0  \n",
              "2              3         11         0  \n",
              "3              3         11         0  \n",
              "4              3         11         0  \n",
              "\n",
              "[5 rows x 29 columns]"
            ],
            "text/html": [
              "\n",
              "  <div id=\"df-70008970-e985-42cb-a59b-ffaeb72de380\">\n",
              "    <div class=\"colab-df-container\">\n",
              "      <div>\n",
              "<style scoped>\n",
              "    .dataframe tbody tr th:only-of-type {\n",
              "        vertical-align: middle;\n",
              "    }\n",
              "\n",
              "    .dataframe tbody tr th {\n",
              "        vertical-align: top;\n",
              "    }\n",
              "\n",
              "    .dataframe thead th {\n",
              "        text-align: right;\n",
              "    }\n",
              "</style>\n",
              "<table border=\"1\" class=\"dataframe\">\n",
              "  <thead>\n",
              "    <tr style=\"text-align: right;\">\n",
              "      <th></th>\n",
              "      <th>ID</th>\n",
              "      <th>Year_Birth</th>\n",
              "      <th>Education</th>\n",
              "      <th>Marital_Status</th>\n",
              "      <th>Income</th>\n",
              "      <th>Kidhome</th>\n",
              "      <th>Teenhome</th>\n",
              "      <th>Dt_Customer</th>\n",
              "      <th>Recency</th>\n",
              "      <th>MntWines</th>\n",
              "      <th>...</th>\n",
              "      <th>NumWebVisitsMonth</th>\n",
              "      <th>AcceptedCmp3</th>\n",
              "      <th>AcceptedCmp4</th>\n",
              "      <th>AcceptedCmp5</th>\n",
              "      <th>AcceptedCmp1</th>\n",
              "      <th>AcceptedCmp2</th>\n",
              "      <th>Complain</th>\n",
              "      <th>Z_CostContact</th>\n",
              "      <th>Z_Revenue</th>\n",
              "      <th>Response</th>\n",
              "    </tr>\n",
              "  </thead>\n",
              "  <tbody>\n",
              "    <tr>\n",
              "      <th>0</th>\n",
              "      <td>5524</td>\n",
              "      <td>1957</td>\n",
              "      <td>Graduation</td>\n",
              "      <td>Single</td>\n",
              "      <td>58138.0</td>\n",
              "      <td>0</td>\n",
              "      <td>0</td>\n",
              "      <td>2012-09-04</td>\n",
              "      <td>58</td>\n",
              "      <td>635</td>\n",
              "      <td>...</td>\n",
              "      <td>7</td>\n",
              "      <td>0</td>\n",
              "      <td>0</td>\n",
              "      <td>0</td>\n",
              "      <td>0</td>\n",
              "      <td>0</td>\n",
              "      <td>0</td>\n",
              "      <td>3</td>\n",
              "      <td>11</td>\n",
              "      <td>1</td>\n",
              "    </tr>\n",
              "    <tr>\n",
              "      <th>1</th>\n",
              "      <td>2174</td>\n",
              "      <td>1954</td>\n",
              "      <td>Graduation</td>\n",
              "      <td>Single</td>\n",
              "      <td>46344.0</td>\n",
              "      <td>1</td>\n",
              "      <td>1</td>\n",
              "      <td>2014-03-08</td>\n",
              "      <td>38</td>\n",
              "      <td>11</td>\n",
              "      <td>...</td>\n",
              "      <td>5</td>\n",
              "      <td>0</td>\n",
              "      <td>0</td>\n",
              "      <td>0</td>\n",
              "      <td>0</td>\n",
              "      <td>0</td>\n",
              "      <td>0</td>\n",
              "      <td>3</td>\n",
              "      <td>11</td>\n",
              "      <td>0</td>\n",
              "    </tr>\n",
              "    <tr>\n",
              "      <th>2</th>\n",
              "      <td>4141</td>\n",
              "      <td>1965</td>\n",
              "      <td>Graduation</td>\n",
              "      <td>Together</td>\n",
              "      <td>71613.0</td>\n",
              "      <td>0</td>\n",
              "      <td>0</td>\n",
              "      <td>2013-08-21</td>\n",
              "      <td>26</td>\n",
              "      <td>426</td>\n",
              "      <td>...</td>\n",
              "      <td>4</td>\n",
              "      <td>0</td>\n",
              "      <td>0</td>\n",
              "      <td>0</td>\n",
              "      <td>0</td>\n",
              "      <td>0</td>\n",
              "      <td>0</td>\n",
              "      <td>3</td>\n",
              "      <td>11</td>\n",
              "      <td>0</td>\n",
              "    </tr>\n",
              "    <tr>\n",
              "      <th>3</th>\n",
              "      <td>6182</td>\n",
              "      <td>1984</td>\n",
              "      <td>Graduation</td>\n",
              "      <td>Together</td>\n",
              "      <td>26646.0</td>\n",
              "      <td>1</td>\n",
              "      <td>0</td>\n",
              "      <td>2014-02-10</td>\n",
              "      <td>26</td>\n",
              "      <td>11</td>\n",
              "      <td>...</td>\n",
              "      <td>6</td>\n",
              "      <td>0</td>\n",
              "      <td>0</td>\n",
              "      <td>0</td>\n",
              "      <td>0</td>\n",
              "      <td>0</td>\n",
              "      <td>0</td>\n",
              "      <td>3</td>\n",
              "      <td>11</td>\n",
              "      <td>0</td>\n",
              "    </tr>\n",
              "    <tr>\n",
              "      <th>4</th>\n",
              "      <td>5324</td>\n",
              "      <td>1981</td>\n",
              "      <td>PhD</td>\n",
              "      <td>Married</td>\n",
              "      <td>58293.0</td>\n",
              "      <td>1</td>\n",
              "      <td>0</td>\n",
              "      <td>2014-01-19</td>\n",
              "      <td>94</td>\n",
              "      <td>173</td>\n",
              "      <td>...</td>\n",
              "      <td>5</td>\n",
              "      <td>0</td>\n",
              "      <td>0</td>\n",
              "      <td>0</td>\n",
              "      <td>0</td>\n",
              "      <td>0</td>\n",
              "      <td>0</td>\n",
              "      <td>3</td>\n",
              "      <td>11</td>\n",
              "      <td>0</td>\n",
              "    </tr>\n",
              "  </tbody>\n",
              "</table>\n",
              "<p>5 rows × 29 columns</p>\n",
              "</div>\n",
              "      <button class=\"colab-df-convert\" onclick=\"convertToInteractive('df-70008970-e985-42cb-a59b-ffaeb72de380')\"\n",
              "              title=\"Convert this dataframe to an interactive table.\"\n",
              "              style=\"display:none;\">\n",
              "        \n",
              "  <svg xmlns=\"http://www.w3.org/2000/svg\" height=\"24px\"viewBox=\"0 0 24 24\"\n",
              "       width=\"24px\">\n",
              "    <path d=\"M0 0h24v24H0V0z\" fill=\"none\"/>\n",
              "    <path d=\"M18.56 5.44l.94 2.06.94-2.06 2.06-.94-2.06-.94-.94-2.06-.94 2.06-2.06.94zm-11 1L8.5 8.5l.94-2.06 2.06-.94-2.06-.94L8.5 2.5l-.94 2.06-2.06.94zm10 10l.94 2.06.94-2.06 2.06-.94-2.06-.94-.94-2.06-.94 2.06-2.06.94z\"/><path d=\"M17.41 7.96l-1.37-1.37c-.4-.4-.92-.59-1.43-.59-.52 0-1.04.2-1.43.59L10.3 9.45l-7.72 7.72c-.78.78-.78 2.05 0 2.83L4 21.41c.39.39.9.59 1.41.59.51 0 1.02-.2 1.41-.59l7.78-7.78 2.81-2.81c.8-.78.8-2.07 0-2.86zM5.41 20L4 18.59l7.72-7.72 1.47 1.35L5.41 20z\"/>\n",
              "  </svg>\n",
              "      </button>\n",
              "      \n",
              "  <style>\n",
              "    .colab-df-container {\n",
              "      display:flex;\n",
              "      flex-wrap:wrap;\n",
              "      gap: 12px;\n",
              "    }\n",
              "\n",
              "    .colab-df-convert {\n",
              "      background-color: #E8F0FE;\n",
              "      border: none;\n",
              "      border-radius: 50%;\n",
              "      cursor: pointer;\n",
              "      display: none;\n",
              "      fill: #1967D2;\n",
              "      height: 32px;\n",
              "      padding: 0 0 0 0;\n",
              "      width: 32px;\n",
              "    }\n",
              "\n",
              "    .colab-df-convert:hover {\n",
              "      background-color: #E2EBFA;\n",
              "      box-shadow: 0px 1px 2px rgba(60, 64, 67, 0.3), 0px 1px 3px 1px rgba(60, 64, 67, 0.15);\n",
              "      fill: #174EA6;\n",
              "    }\n",
              "\n",
              "    [theme=dark] .colab-df-convert {\n",
              "      background-color: #3B4455;\n",
              "      fill: #D2E3FC;\n",
              "    }\n",
              "\n",
              "    [theme=dark] .colab-df-convert:hover {\n",
              "      background-color: #434B5C;\n",
              "      box-shadow: 0px 1px 3px 1px rgba(0, 0, 0, 0.15);\n",
              "      filter: drop-shadow(0px 1px 2px rgba(0, 0, 0, 0.3));\n",
              "      fill: #FFFFFF;\n",
              "    }\n",
              "  </style>\n",
              "\n",
              "      <script>\n",
              "        const buttonEl =\n",
              "          document.querySelector('#df-70008970-e985-42cb-a59b-ffaeb72de380 button.colab-df-convert');\n",
              "        buttonEl.style.display =\n",
              "          google.colab.kernel.accessAllowed ? 'block' : 'none';\n",
              "\n",
              "        async function convertToInteractive(key) {\n",
              "          const element = document.querySelector('#df-70008970-e985-42cb-a59b-ffaeb72de380');\n",
              "          const dataTable =\n",
              "            await google.colab.kernel.invokeFunction('convertToInteractive',\n",
              "                                                     [key], {});\n",
              "          if (!dataTable) return;\n",
              "\n",
              "          const docLinkHtml = 'Like what you see? Visit the ' +\n",
              "            '<a target=\"_blank\" href=https://colab.research.google.com/notebooks/data_table.ipynb>data table notebook</a>'\n",
              "            + ' to learn more about interactive tables.';\n",
              "          element.innerHTML = '';\n",
              "          dataTable['output_type'] = 'display_data';\n",
              "          await google.colab.output.renderOutput(dataTable, element);\n",
              "          const docLink = document.createElement('div');\n",
              "          docLink.innerHTML = docLinkHtml;\n",
              "          element.appendChild(docLink);\n",
              "        }\n",
              "      </script>\n",
              "    </div>\n",
              "  </div>\n",
              "  "
            ]
          },
          "metadata": {},
          "execution_count": 25
        }
      ]
    },
    {
      "cell_type": "code",
      "source": [
        "'''\n",
        "Traduzindo o nome das colunas.\n",
        "'''\n",
        "df1.rename(columns={'Year_Birth':'Ano_Nascimento','Education':'Escolaridade','Marital_Status':'Estado_Civil','Income':'Renda',\n",
        " 'Kidhome':'Crianças_Casa', 'Teenhome':'Adolescentes_Casa', 'Dt_Customer':'Data_Cadastro_Cliente', 'Recency':'Recência','MntWines':'Quantia_Vinho',\n",
        " 'MntFruits':'Quantia_Frutas', 'MntMeatProducts':'Quantia_Produtos_Carne', 'MntFishProducts':'Quantia_Produtos_Peixe', 'MntSweetProducts':'Quantia_Produtos_Doces',\n",
        " 'MntGoldProds':'Quantia_Produtos_Ouro', 'NumDealsPurchases':'Número_Compras_Desconto', 'NumWebPurchases':'Número_Compras_Website', 'NumCatalogPurchases':'Número_Compras_Catalogo',\n",
        " 'NumStorePurchases':'Número_Compras_Loja', 'NumWebVisitsMonth':'Número_Visitas_Web_Mês', 'AcceptedCmp3':'Campanha3_aceita', 'AcceptedCmp4':'Campanha4_aceita', 'AcceptedCmp5':'Campanha5_aceita',\n",
        " 'AcceptedCmp1':'Campanha1_aceita', 'AcceptedCmp2':'Campanha2_aceita', 'Complain':'Reclamações', 'Z_CostContact':'Z_Contato_Custo', 'Z_Revenue':'Z_Receita',\n",
        " 'Response':'Resposta'}, inplace=True)"
      ],
      "metadata": {
        "id": "sFc8tLfTF6CI"
      },
      "execution_count": null,
      "outputs": []
    },
    {
      "cell_type": "code",
      "source": [
        "'''\n",
        "Validando o tratamento realizado\n",
        "'''\n",
        "list(df.columns)"
      ],
      "metadata": {
        "colab": {
          "base_uri": "https://localhost:8080/"
        },
        "id": "RBiENTv2FOgP",
        "outputId": "29f5061a-9f67-4a8e-df50-eeca9b754595"
      },
      "execution_count": null,
      "outputs": [
        {
          "output_type": "execute_result",
          "data": {
            "text/plain": [
              "['ID',\n",
              " 'Ano_Nascimento',\n",
              " 'Escolaridade',\n",
              " 'Estado_Civil',\n",
              " 'Renda',\n",
              " 'Crianças_Casa',\n",
              " 'Adolescentes_Casa',\n",
              " 'Data_Cadastro_Cliente',\n",
              " 'Recência',\n",
              " 'Quantia_Vinho',\n",
              " 'Quantia_Frutas',\n",
              " 'Quantia_Produtos_Carne',\n",
              " 'Quantia_Produtos_Peixe',\n",
              " 'Quantia_Produtos_Doces',\n",
              " 'Quantia_Produtos_Ouro',\n",
              " 'Número_Compras_Desconto',\n",
              " 'Número_Compras_Website',\n",
              " 'Número_Compras_Catalogo',\n",
              " 'Número_Compras_Loja',\n",
              " 'Número_Visitas_Web_Mês',\n",
              " 'Campanha3_aceita',\n",
              " 'Campanha4_aceita',\n",
              " 'Campanha5_aceita',\n",
              " 'Campanha1_aceita',\n",
              " 'Campanha2_aceita',\n",
              " 'Reclamações',\n",
              " 'Z_Contato_Custo',\n",
              " 'Z_Receita',\n",
              " 'Resposta']"
            ]
          },
          "metadata": {},
          "execution_count": 27
        }
      ]
    },
    {
      "cell_type": "markdown",
      "source": [
        "###**2. Traduzir os dados categóricos das colunas 'Escolaridade' e 'Estado_Civil'.**"
      ],
      "metadata": {
        "id": "PLp_MoAMq60h"
      }
    },
    {
      "cell_type": "code",
      "source": [
        "'''\n",
        "Traduzindo os dados categóricos da coluna 'Escolaridade'\n",
        "\n",
        "Basic:      Ensino Fundamental\n",
        "2n Cycle:   Ensino Médio\n",
        "Graduation: Graduação\n",
        "Master:     Mestrado\n",
        "PhD:        Doutorado\n",
        "'''\n",
        "df1.Escolaridade.replace('Basic', 'Ensino Fundamental', inplace=True)\n",
        "df1.Escolaridade.replace('2n Cycle', 'Ensino Médio', inplace=True)\n",
        "df1.Escolaridade.replace('Graduation', 'Graduação', inplace=True)\n",
        "df1.Escolaridade.replace('Master', 'Mestrado', inplace=True)\n",
        "df1.Escolaridade.replace('PhD', 'Doutorado', inplace=True)"
      ],
      "metadata": {
        "id": "M9OO6uXkrx1y"
      },
      "execution_count": null,
      "outputs": []
    },
    {
      "cell_type": "code",
      "source": [
        "#teste\n",
        "df1.Escolaridade.head(50)"
      ],
      "metadata": {
        "colab": {
          "base_uri": "https://localhost:8080/"
        },
        "id": "yVK6nR1SxGeB",
        "outputId": "a678f219-d79b-461f-e6b2-c3d627c9ef5f"
      },
      "execution_count": null,
      "outputs": [
        {
          "output_type": "execute_result",
          "data": {
            "text/plain": [
              "0              Graduação\n",
              "1              Graduação\n",
              "2              Graduação\n",
              "3              Graduação\n",
              "4              Doutorado\n",
              "5               Mestrado\n",
              "6              Graduação\n",
              "7              Doutorado\n",
              "8              Doutorado\n",
              "9              Doutorado\n",
              "10             Graduação\n",
              "11    Ensino Fundamental\n",
              "12             Graduação\n",
              "13              Mestrado\n",
              "14             Graduação\n",
              "15             Doutorado\n",
              "16             Graduação\n",
              "17             Graduação\n",
              "18              Mestrado\n",
              "19          Ensino Médio\n",
              "20             Graduação\n",
              "21             Graduação\n",
              "22             Doutorado\n",
              "23             Doutorado\n",
              "24             Graduação\n",
              "25             Graduação\n",
              "26             Graduação\n",
              "27             Graduação\n",
              "28             Graduação\n",
              "29             Doutorado\n",
              "30              Mestrado\n",
              "31              Mestrado\n",
              "32             Graduação\n",
              "33             Doutorado\n",
              "34              Mestrado\n",
              "35              Mestrado\n",
              "36             Doutorado\n",
              "37          Ensino Médio\n",
              "38             Graduação\n",
              "39             Doutorado\n",
              "40             Graduação\n",
              "41              Mestrado\n",
              "42             Graduação\n",
              "43             Doutorado\n",
              "44              Mestrado\n",
              "45             Graduação\n",
              "46          Ensino Médio\n",
              "47             Graduação\n",
              "48             Graduação\n",
              "49             Doutorado\n",
              "Name: Escolaridade, dtype: object"
            ]
          },
          "metadata": {},
          "execution_count": 29
        }
      ]
    },
    {
      "cell_type": "code",
      "source": [
        "'''\n",
        "Traduzindo os dados categóricos da coluna 'Estado_Civil'\n",
        "\n",
        "Single, Alone, Together, Absurd e YOLO:   Solteiro(a), \n",
        "Married:                                  Casado(a)\n",
        "Divorced:                                 Divorciado(a)\n",
        "Widow:                                    Viúvo(a)\n",
        "'''\n",
        "df1.Estado_Civil.replace('Single','Solteiro(a)', inplace=True)\n",
        "df1.Estado_Civil.replace('Alone','Solteiro(a)', inplace=True)\n",
        "df1.Estado_Civil.replace('Together','Solteiro(a)', inplace=True)\n",
        "df1.Estado_Civil.replace('Absurd','Solteiro(a)', inplace=True)\n",
        "df1.Estado_Civil.replace('YOLO', 'Solteiro(a)', inplace=True)\n",
        "df1.Estado_Civil.replace('Married', 'Casado(a)', inplace=True)\n",
        "df1.Estado_Civil.replace('Divorced', 'Divorciado(a)', inplace=True)\n",
        "df1.Estado_Civil.replace('Widow', 'Viúvo(a)', inplace=True)"
      ],
      "metadata": {
        "id": "ofqfLl-Pxj7Z"
      },
      "execution_count": null,
      "outputs": []
    },
    {
      "cell_type": "code",
      "source": [
        "#teste\n",
        "df1.Estado_Civil.head(50)"
      ],
      "metadata": {
        "colab": {
          "base_uri": "https://localhost:8080/"
        },
        "id": "HPNqR6onG4ao",
        "outputId": "d48012f8-ccf5-4714-a261-49e686b42941"
      },
      "execution_count": null,
      "outputs": [
        {
          "output_type": "execute_result",
          "data": {
            "text/plain": [
              "0       Solteiro(a)\n",
              "1       Solteiro(a)\n",
              "2       Solteiro(a)\n",
              "3       Solteiro(a)\n",
              "4         Casado(a)\n",
              "5       Solteiro(a)\n",
              "6     Divorciado(a)\n",
              "7         Casado(a)\n",
              "8       Solteiro(a)\n",
              "9       Solteiro(a)\n",
              "10        Casado(a)\n",
              "11        Casado(a)\n",
              "12    Divorciado(a)\n",
              "13    Divorciado(a)\n",
              "14        Casado(a)\n",
              "15      Solteiro(a)\n",
              "16        Casado(a)\n",
              "17      Solteiro(a)\n",
              "18        Casado(a)\n",
              "19      Solteiro(a)\n",
              "20        Casado(a)\n",
              "21        Casado(a)\n",
              "22        Casado(a)\n",
              "23        Casado(a)\n",
              "24      Solteiro(a)\n",
              "25      Solteiro(a)\n",
              "26        Casado(a)\n",
              "27      Solteiro(a)\n",
              "28        Casado(a)\n",
              "29        Casado(a)\n",
              "30    Divorciado(a)\n",
              "31      Solteiro(a)\n",
              "32      Solteiro(a)\n",
              "33    Divorciado(a)\n",
              "34        Casado(a)\n",
              "35      Solteiro(a)\n",
              "36        Casado(a)\n",
              "37        Casado(a)\n",
              "38         Viúvo(a)\n",
              "39    Divorciado(a)\n",
              "40        Casado(a)\n",
              "41        Casado(a)\n",
              "42      Solteiro(a)\n",
              "43      Solteiro(a)\n",
              "44        Casado(a)\n",
              "45      Solteiro(a)\n",
              "46        Casado(a)\n",
              "47      Solteiro(a)\n",
              "48      Solteiro(a)\n",
              "49        Casado(a)\n",
              "Name: Estado_Civil, dtype: object"
            ]
          },
          "metadata": {},
          "execution_count": 31
        }
      ]
    },
    {
      "cell_type": "markdown",
      "source": [
        "###**3. Alterar o tipo da coluna 'Dt_Customer' para data.**\n",
        "\n"
      ],
      "metadata": {
        "id": "MdxvFPRurMub"
      }
    },
    {
      "cell_type": "code",
      "source": [
        "'''\n",
        "Alterando o tipo da coluna 'Data_Cadastro_Cliente' para 'datetime64'\n",
        "'''\n",
        "df1.Data_Cadastro_Cliente = df1.Data_Cadastro_Cliente.astype('datetime64')"
      ],
      "metadata": {
        "id": "fNYvEXIKJ0Kx"
      },
      "execution_count": null,
      "outputs": []
    },
    {
      "cell_type": "code",
      "source": [
        "'''\n",
        "Validando a alteração realizada\n",
        "'''\n",
        "df1.info()"
      ],
      "metadata": {
        "colab": {
          "base_uri": "https://localhost:8080/"
        },
        "id": "cBk8JiPBVJc5",
        "outputId": "bb6e498b-cce3-4ec8-dacb-cb16fa91b0d5"
      },
      "execution_count": null,
      "outputs": [
        {
          "output_type": "stream",
          "name": "stdout",
          "text": [
            "<class 'pandas.core.frame.DataFrame'>\n",
            "RangeIndex: 2240 entries, 0 to 2239\n",
            "Data columns (total 29 columns):\n",
            " #   Column                   Non-Null Count  Dtype         \n",
            "---  ------                   --------------  -----         \n",
            " 0   ID                       2240 non-null   int64         \n",
            " 1   Ano_Nascimento           2240 non-null   int64         \n",
            " 2   Escolaridade             2240 non-null   object        \n",
            " 3   Estado_Civil             2240 non-null   object        \n",
            " 4   Renda                    2216 non-null   float64       \n",
            " 5   Crianças_Casa            2240 non-null   int64         \n",
            " 6   Adolescentes_Casa        2240 non-null   int64         \n",
            " 7   Data_Cadastro_Cliente    2240 non-null   datetime64[ns]\n",
            " 8   Recência                 2240 non-null   int64         \n",
            " 9   Quantia_Vinho            2240 non-null   int64         \n",
            " 10  Quantia_Frutas           2240 non-null   int64         \n",
            " 11  Quantia_Produtos_Carne   2240 non-null   int64         \n",
            " 12  Quantia_Produtos_Peixe   2240 non-null   int64         \n",
            " 13  Quantia_Produtos_Doces   2240 non-null   int64         \n",
            " 14  Quantia_Produtos_Ouro    2240 non-null   int64         \n",
            " 15  Número_Compras_Desconto  2240 non-null   int64         \n",
            " 16  Número_Compras_Website   2240 non-null   int64         \n",
            " 17  Número_Compras_Catalogo  2240 non-null   int64         \n",
            " 18  Número_Compras_Loja      2240 non-null   int64         \n",
            " 19  Número_Visitas_Web_Mês   2240 non-null   int64         \n",
            " 20  Campanha3_aceita         2240 non-null   int64         \n",
            " 21  Campanha4_aceita         2240 non-null   int64         \n",
            " 22  Campanha5_aceita         2240 non-null   int64         \n",
            " 23  Campanha1_aceita         2240 non-null   int64         \n",
            " 24  Campanha2_aceita         2240 non-null   int64         \n",
            " 25  Reclamações              2240 non-null   int64         \n",
            " 26  Z_Contato_Custo          2240 non-null   int64         \n",
            " 27  Z_Receita                2240 non-null   int64         \n",
            " 28  Resposta                 2240 non-null   int64         \n",
            "dtypes: datetime64[ns](1), float64(1), int64(25), object(2)\n",
            "memory usage: 507.6+ KB\n"
          ]
        }
      ]
    },
    {
      "cell_type": "code",
      "source": [
        "'''\n",
        "#teste\n",
        "#fica no formato brasileiro, mas altera o tipo do dado da coluna para 'object' como originalmente.\n",
        "#optou-se por não aplicá-lo aqui.\n",
        "Fonte: https://cursos.alura.com.br/forum/topico-trocar-o-formato-de-data-de-um-data-frame-113595\n",
        "'''\n",
        "df1['Data_Cadastro_Cliente'] = df1['Data_Cadastro_Cliente'].dt.strftime('%m/%d/%Y') "
      ],
      "metadata": {
        "id": "SBrOpKfiLGLb"
      },
      "execution_count": null,
      "outputs": []
    },
    {
      "cell_type": "markdown",
      "source": [
        "###**4.Inserir o valor '52247.251354' (renda média) para os 24 valores ausentes da coluna 'Renda'.**"
      ],
      "metadata": {
        "id": "hfCfLuEHrVZ5"
      }
    },
    {
      "cell_type": "code",
      "source": [
        "'''\n",
        "Inserindo o valor '52247.251354' (renda média) para os 24 valores ausentes da coluna 'Renda'.\n",
        "'''\n",
        "'''\n",
        "Identificando as linhas que possuem valores ausentes.\n",
        "Abordagem 'mais de perto'.\n",
        "'''\n",
        "df1[df1.isna().sum(axis=1) > 0]"
      ],
      "metadata": {
        "colab": {
          "base_uri": "https://localhost:8080/",
          "height": 895
        },
        "id": "hpXmsA1jPU7p",
        "outputId": "544ef18c-7cf8-471b-948b-62b61e101630"
      },
      "execution_count": null,
      "outputs": [
        {
          "output_type": "execute_result",
          "data": {
            "text/plain": [
              "         ID  Ano_Nascimento  Escolaridade Estado_Civil  Renda  Crianças_Casa  \\\n",
              "10     1994            1983     Graduação    Casado(a)    NaN              1   \n",
              "27     5255            1986     Graduação  Solteiro(a)    NaN              1   \n",
              "43     7281            1959     Doutorado  Solteiro(a)    NaN              0   \n",
              "48     7244            1951     Graduação  Solteiro(a)    NaN              2   \n",
              "58     8557            1982     Graduação  Solteiro(a)    NaN              1   \n",
              "71    10629            1973  Ensino Médio    Casado(a)    NaN              1   \n",
              "90     8996            1957     Doutorado    Casado(a)    NaN              2   \n",
              "91     9235            1957     Graduação  Solteiro(a)    NaN              1   \n",
              "92     5798            1973      Mestrado  Solteiro(a)    NaN              0   \n",
              "128    8268            1961     Doutorado    Casado(a)    NaN              0   \n",
              "133    1295            1963     Graduação    Casado(a)    NaN              0   \n",
              "312    2437            1989     Graduação    Casado(a)    NaN              0   \n",
              "319    2863            1970     Graduação  Solteiro(a)    NaN              1   \n",
              "1379  10475            1970      Mestrado  Solteiro(a)    NaN              0   \n",
              "1382   2902            1958     Graduação  Solteiro(a)    NaN              1   \n",
              "1383   4345            1964  Ensino Médio  Solteiro(a)    NaN              1   \n",
              "1386   3769            1972     Doutorado  Solteiro(a)    NaN              1   \n",
              "2059   7187            1969      Mestrado  Solteiro(a)    NaN              1   \n",
              "2061   1612            1981     Doutorado  Solteiro(a)    NaN              1   \n",
              "2078   5079            1971     Graduação    Casado(a)    NaN              1   \n",
              "2079  10339            1954      Mestrado  Solteiro(a)    NaN              0   \n",
              "2081   3117            1955     Graduação  Solteiro(a)    NaN              0   \n",
              "2084   5250            1943      Mestrado     Viúvo(a)    NaN              0   \n",
              "2228   8720            1978  Ensino Médio  Solteiro(a)    NaN              0   \n",
              "\n",
              "      Adolescentes_Casa Data_Cadastro_Cliente  Recência  Quantia_Vinho  ...  \\\n",
              "10                    0            11/15/2013        11              5  ...   \n",
              "27                    0            02/20/2013        19              5  ...   \n",
              "43                    0            11/05/2013        80             81  ...   \n",
              "48                    1            01/01/2014        96             48  ...   \n",
              "58                    0            06/17/2013        57             11  ...   \n",
              "71                    0            09/14/2012        25             25  ...   \n",
              "90                    1            11/19/2012         4            230  ...   \n",
              "91                    1            05/27/2014        45              7  ...   \n",
              "92                    0            11/23/2013        87            445  ...   \n",
              "128                   1            07/11/2013        23            352  ...   \n",
              "133                   1            08/11/2013        96            231  ...   \n",
              "312                   0            06/03/2013        69            861  ...   \n",
              "319                   2            08/23/2013        67            738  ...   \n",
              "1379                  1            04/01/2013        39            187  ...   \n",
              "1382                  1            09/03/2012        87             19  ...   \n",
              "1383                  1            01/12/2014        49              5  ...   \n",
              "1386                  0            03/02/2014        17             25  ...   \n",
              "2059                  1            05/18/2013        52            375  ...   \n",
              "2061                  0            05/31/2013        82             23  ...   \n",
              "2078                  1            03/03/2013        82             71  ...   \n",
              "2079                  1            06/23/2013        83            161  ...   \n",
              "2081                  1            10/18/2013        95            264  ...   \n",
              "2084                  0            10/30/2013        75            532  ...   \n",
              "2228                  0            08/12/2012        53             32  ...   \n",
              "\n",
              "      Número_Visitas_Web_Mês  Campanha3_aceita  Campanha4_aceita  \\\n",
              "10                         7                 0                 0   \n",
              "27                         1                 0                 0   \n",
              "43                         2                 0                 0   \n",
              "48                         6                 0                 0   \n",
              "58                         6                 0                 0   \n",
              "71                         8                 0                 0   \n",
              "90                         9                 0                 0   \n",
              "91                         7                 0                 0   \n",
              "92                         1                 0                 0   \n",
              "128                        6                 0                 0   \n",
              "133                        4                 0                 0   \n",
              "312                        3                 0                 1   \n",
              "319                        7                 0                 1   \n",
              "1379                       5                 0                 0   \n",
              "1382                       5                 0                 0   \n",
              "1383                       7                 0                 0   \n",
              "1386                       7                 0                 0   \n",
              "2059                       3                 0                 0   \n",
              "2061                       6                 0                 0   \n",
              "2078                       8                 0                 0   \n",
              "2079                       6                 0                 0   \n",
              "2081                       7                 0                 0   \n",
              "2084                       1                 0                 0   \n",
              "2228                       0                 0                 1   \n",
              "\n",
              "      Campanha5_aceita  Campanha1_aceita  Campanha2_aceita  Reclamações  \\\n",
              "10                   0                 0                 0            0   \n",
              "27                   0                 0                 0            0   \n",
              "43                   0                 0                 0            0   \n",
              "48                   0                 0                 0            0   \n",
              "58                   0                 0                 0            0   \n",
              "71                   0                 0                 0            0   \n",
              "90                   0                 0                 0            0   \n",
              "91                   0                 0                 0            0   \n",
              "92                   0                 0                 0            0   \n",
              "128                  0                 0                 0            0   \n",
              "133                  0                 0                 0            0   \n",
              "312                  0                 1                 0            0   \n",
              "319                  0                 1                 0            0   \n",
              "1379                 0                 0                 0            0   \n",
              "1382                 0                 0                 0            0   \n",
              "1383                 0                 0                 0            0   \n",
              "1386                 0                 0                 0            0   \n",
              "2059                 0                 0                 0            0   \n",
              "2061                 0                 0                 0            0   \n",
              "2078                 0                 0                 0            0   \n",
              "2079                 0                 0                 0            0   \n",
              "2081                 0                 0                 0            0   \n",
              "2084                 1                 0                 0            0   \n",
              "2228                 0                 0                 0            0   \n",
              "\n",
              "      Z_Contato_Custo  Z_Receita  Resposta  \n",
              "10                  3         11         0  \n",
              "27                  3         11         0  \n",
              "43                  3         11         0  \n",
              "48                  3         11         0  \n",
              "58                  3         11         0  \n",
              "71                  3         11         0  \n",
              "90                  3         11         0  \n",
              "91                  3         11         0  \n",
              "92                  3         11         0  \n",
              "128                 3         11         0  \n",
              "133                 3         11         0  \n",
              "312                 3         11         0  \n",
              "319                 3         11         0  \n",
              "1379                3         11         0  \n",
              "1382                3         11         0  \n",
              "1383                3         11         0  \n",
              "1386                3         11         0  \n",
              "2059                3         11         0  \n",
              "2061                3         11         0  \n",
              "2078                3         11         0  \n",
              "2079                3         11         0  \n",
              "2081                3         11         0  \n",
              "2084                3         11         1  \n",
              "2228                3         11         0  \n",
              "\n",
              "[24 rows x 29 columns]"
            ],
            "text/html": [
              "\n",
              "  <div id=\"df-716e3941-fe43-4d1d-b0e7-595f2e79da04\">\n",
              "    <div class=\"colab-df-container\">\n",
              "      <div>\n",
              "<style scoped>\n",
              "    .dataframe tbody tr th:only-of-type {\n",
              "        vertical-align: middle;\n",
              "    }\n",
              "\n",
              "    .dataframe tbody tr th {\n",
              "        vertical-align: top;\n",
              "    }\n",
              "\n",
              "    .dataframe thead th {\n",
              "        text-align: right;\n",
              "    }\n",
              "</style>\n",
              "<table border=\"1\" class=\"dataframe\">\n",
              "  <thead>\n",
              "    <tr style=\"text-align: right;\">\n",
              "      <th></th>\n",
              "      <th>ID</th>\n",
              "      <th>Ano_Nascimento</th>\n",
              "      <th>Escolaridade</th>\n",
              "      <th>Estado_Civil</th>\n",
              "      <th>Renda</th>\n",
              "      <th>Crianças_Casa</th>\n",
              "      <th>Adolescentes_Casa</th>\n",
              "      <th>Data_Cadastro_Cliente</th>\n",
              "      <th>Recência</th>\n",
              "      <th>Quantia_Vinho</th>\n",
              "      <th>...</th>\n",
              "      <th>Número_Visitas_Web_Mês</th>\n",
              "      <th>Campanha3_aceita</th>\n",
              "      <th>Campanha4_aceita</th>\n",
              "      <th>Campanha5_aceita</th>\n",
              "      <th>Campanha1_aceita</th>\n",
              "      <th>Campanha2_aceita</th>\n",
              "      <th>Reclamações</th>\n",
              "      <th>Z_Contato_Custo</th>\n",
              "      <th>Z_Receita</th>\n",
              "      <th>Resposta</th>\n",
              "    </tr>\n",
              "  </thead>\n",
              "  <tbody>\n",
              "    <tr>\n",
              "      <th>10</th>\n",
              "      <td>1994</td>\n",
              "      <td>1983</td>\n",
              "      <td>Graduação</td>\n",
              "      <td>Casado(a)</td>\n",
              "      <td>NaN</td>\n",
              "      <td>1</td>\n",
              "      <td>0</td>\n",
              "      <td>11/15/2013</td>\n",
              "      <td>11</td>\n",
              "      <td>5</td>\n",
              "      <td>...</td>\n",
              "      <td>7</td>\n",
              "      <td>0</td>\n",
              "      <td>0</td>\n",
              "      <td>0</td>\n",
              "      <td>0</td>\n",
              "      <td>0</td>\n",
              "      <td>0</td>\n",
              "      <td>3</td>\n",
              "      <td>11</td>\n",
              "      <td>0</td>\n",
              "    </tr>\n",
              "    <tr>\n",
              "      <th>27</th>\n",
              "      <td>5255</td>\n",
              "      <td>1986</td>\n",
              "      <td>Graduação</td>\n",
              "      <td>Solteiro(a)</td>\n",
              "      <td>NaN</td>\n",
              "      <td>1</td>\n",
              "      <td>0</td>\n",
              "      <td>02/20/2013</td>\n",
              "      <td>19</td>\n",
              "      <td>5</td>\n",
              "      <td>...</td>\n",
              "      <td>1</td>\n",
              "      <td>0</td>\n",
              "      <td>0</td>\n",
              "      <td>0</td>\n",
              "      <td>0</td>\n",
              "      <td>0</td>\n",
              "      <td>0</td>\n",
              "      <td>3</td>\n",
              "      <td>11</td>\n",
              "      <td>0</td>\n",
              "    </tr>\n",
              "    <tr>\n",
              "      <th>43</th>\n",
              "      <td>7281</td>\n",
              "      <td>1959</td>\n",
              "      <td>Doutorado</td>\n",
              "      <td>Solteiro(a)</td>\n",
              "      <td>NaN</td>\n",
              "      <td>0</td>\n",
              "      <td>0</td>\n",
              "      <td>11/05/2013</td>\n",
              "      <td>80</td>\n",
              "      <td>81</td>\n",
              "      <td>...</td>\n",
              "      <td>2</td>\n",
              "      <td>0</td>\n",
              "      <td>0</td>\n",
              "      <td>0</td>\n",
              "      <td>0</td>\n",
              "      <td>0</td>\n",
              "      <td>0</td>\n",
              "      <td>3</td>\n",
              "      <td>11</td>\n",
              "      <td>0</td>\n",
              "    </tr>\n",
              "    <tr>\n",
              "      <th>48</th>\n",
              "      <td>7244</td>\n",
              "      <td>1951</td>\n",
              "      <td>Graduação</td>\n",
              "      <td>Solteiro(a)</td>\n",
              "      <td>NaN</td>\n",
              "      <td>2</td>\n",
              "      <td>1</td>\n",
              "      <td>01/01/2014</td>\n",
              "      <td>96</td>\n",
              "      <td>48</td>\n",
              "      <td>...</td>\n",
              "      <td>6</td>\n",
              "      <td>0</td>\n",
              "      <td>0</td>\n",
              "      <td>0</td>\n",
              "      <td>0</td>\n",
              "      <td>0</td>\n",
              "      <td>0</td>\n",
              "      <td>3</td>\n",
              "      <td>11</td>\n",
              "      <td>0</td>\n",
              "    </tr>\n",
              "    <tr>\n",
              "      <th>58</th>\n",
              "      <td>8557</td>\n",
              "      <td>1982</td>\n",
              "      <td>Graduação</td>\n",
              "      <td>Solteiro(a)</td>\n",
              "      <td>NaN</td>\n",
              "      <td>1</td>\n",
              "      <td>0</td>\n",
              "      <td>06/17/2013</td>\n",
              "      <td>57</td>\n",
              "      <td>11</td>\n",
              "      <td>...</td>\n",
              "      <td>6</td>\n",
              "      <td>0</td>\n",
              "      <td>0</td>\n",
              "      <td>0</td>\n",
              "      <td>0</td>\n",
              "      <td>0</td>\n",
              "      <td>0</td>\n",
              "      <td>3</td>\n",
              "      <td>11</td>\n",
              "      <td>0</td>\n",
              "    </tr>\n",
              "    <tr>\n",
              "      <th>71</th>\n",
              "      <td>10629</td>\n",
              "      <td>1973</td>\n",
              "      <td>Ensino Médio</td>\n",
              "      <td>Casado(a)</td>\n",
              "      <td>NaN</td>\n",
              "      <td>1</td>\n",
              "      <td>0</td>\n",
              "      <td>09/14/2012</td>\n",
              "      <td>25</td>\n",
              "      <td>25</td>\n",
              "      <td>...</td>\n",
              "      <td>8</td>\n",
              "      <td>0</td>\n",
              "      <td>0</td>\n",
              "      <td>0</td>\n",
              "      <td>0</td>\n",
              "      <td>0</td>\n",
              "      <td>0</td>\n",
              "      <td>3</td>\n",
              "      <td>11</td>\n",
              "      <td>0</td>\n",
              "    </tr>\n",
              "    <tr>\n",
              "      <th>90</th>\n",
              "      <td>8996</td>\n",
              "      <td>1957</td>\n",
              "      <td>Doutorado</td>\n",
              "      <td>Casado(a)</td>\n",
              "      <td>NaN</td>\n",
              "      <td>2</td>\n",
              "      <td>1</td>\n",
              "      <td>11/19/2012</td>\n",
              "      <td>4</td>\n",
              "      <td>230</td>\n",
              "      <td>...</td>\n",
              "      <td>9</td>\n",
              "      <td>0</td>\n",
              "      <td>0</td>\n",
              "      <td>0</td>\n",
              "      <td>0</td>\n",
              "      <td>0</td>\n",
              "      <td>0</td>\n",
              "      <td>3</td>\n",
              "      <td>11</td>\n",
              "      <td>0</td>\n",
              "    </tr>\n",
              "    <tr>\n",
              "      <th>91</th>\n",
              "      <td>9235</td>\n",
              "      <td>1957</td>\n",
              "      <td>Graduação</td>\n",
              "      <td>Solteiro(a)</td>\n",
              "      <td>NaN</td>\n",
              "      <td>1</td>\n",
              "      <td>1</td>\n",
              "      <td>05/27/2014</td>\n",
              "      <td>45</td>\n",
              "      <td>7</td>\n",
              "      <td>...</td>\n",
              "      <td>7</td>\n",
              "      <td>0</td>\n",
              "      <td>0</td>\n",
              "      <td>0</td>\n",
              "      <td>0</td>\n",
              "      <td>0</td>\n",
              "      <td>0</td>\n",
              "      <td>3</td>\n",
              "      <td>11</td>\n",
              "      <td>0</td>\n",
              "    </tr>\n",
              "    <tr>\n",
              "      <th>92</th>\n",
              "      <td>5798</td>\n",
              "      <td>1973</td>\n",
              "      <td>Mestrado</td>\n",
              "      <td>Solteiro(a)</td>\n",
              "      <td>NaN</td>\n",
              "      <td>0</td>\n",
              "      <td>0</td>\n",
              "      <td>11/23/2013</td>\n",
              "      <td>87</td>\n",
              "      <td>445</td>\n",
              "      <td>...</td>\n",
              "      <td>1</td>\n",
              "      <td>0</td>\n",
              "      <td>0</td>\n",
              "      <td>0</td>\n",
              "      <td>0</td>\n",
              "      <td>0</td>\n",
              "      <td>0</td>\n",
              "      <td>3</td>\n",
              "      <td>11</td>\n",
              "      <td>0</td>\n",
              "    </tr>\n",
              "    <tr>\n",
              "      <th>128</th>\n",
              "      <td>8268</td>\n",
              "      <td>1961</td>\n",
              "      <td>Doutorado</td>\n",
              "      <td>Casado(a)</td>\n",
              "      <td>NaN</td>\n",
              "      <td>0</td>\n",
              "      <td>1</td>\n",
              "      <td>07/11/2013</td>\n",
              "      <td>23</td>\n",
              "      <td>352</td>\n",
              "      <td>...</td>\n",
              "      <td>6</td>\n",
              "      <td>0</td>\n",
              "      <td>0</td>\n",
              "      <td>0</td>\n",
              "      <td>0</td>\n",
              "      <td>0</td>\n",
              "      <td>0</td>\n",
              "      <td>3</td>\n",
              "      <td>11</td>\n",
              "      <td>0</td>\n",
              "    </tr>\n",
              "    <tr>\n",
              "      <th>133</th>\n",
              "      <td>1295</td>\n",
              "      <td>1963</td>\n",
              "      <td>Graduação</td>\n",
              "      <td>Casado(a)</td>\n",
              "      <td>NaN</td>\n",
              "      <td>0</td>\n",
              "      <td>1</td>\n",
              "      <td>08/11/2013</td>\n",
              "      <td>96</td>\n",
              "      <td>231</td>\n",
              "      <td>...</td>\n",
              "      <td>4</td>\n",
              "      <td>0</td>\n",
              "      <td>0</td>\n",
              "      <td>0</td>\n",
              "      <td>0</td>\n",
              "      <td>0</td>\n",
              "      <td>0</td>\n",
              "      <td>3</td>\n",
              "      <td>11</td>\n",
              "      <td>0</td>\n",
              "    </tr>\n",
              "    <tr>\n",
              "      <th>312</th>\n",
              "      <td>2437</td>\n",
              "      <td>1989</td>\n",
              "      <td>Graduação</td>\n",
              "      <td>Casado(a)</td>\n",
              "      <td>NaN</td>\n",
              "      <td>0</td>\n",
              "      <td>0</td>\n",
              "      <td>06/03/2013</td>\n",
              "      <td>69</td>\n",
              "      <td>861</td>\n",
              "      <td>...</td>\n",
              "      <td>3</td>\n",
              "      <td>0</td>\n",
              "      <td>1</td>\n",
              "      <td>0</td>\n",
              "      <td>1</td>\n",
              "      <td>0</td>\n",
              "      <td>0</td>\n",
              "      <td>3</td>\n",
              "      <td>11</td>\n",
              "      <td>0</td>\n",
              "    </tr>\n",
              "    <tr>\n",
              "      <th>319</th>\n",
              "      <td>2863</td>\n",
              "      <td>1970</td>\n",
              "      <td>Graduação</td>\n",
              "      <td>Solteiro(a)</td>\n",
              "      <td>NaN</td>\n",
              "      <td>1</td>\n",
              "      <td>2</td>\n",
              "      <td>08/23/2013</td>\n",
              "      <td>67</td>\n",
              "      <td>738</td>\n",
              "      <td>...</td>\n",
              "      <td>7</td>\n",
              "      <td>0</td>\n",
              "      <td>1</td>\n",
              "      <td>0</td>\n",
              "      <td>1</td>\n",
              "      <td>0</td>\n",
              "      <td>0</td>\n",
              "      <td>3</td>\n",
              "      <td>11</td>\n",
              "      <td>0</td>\n",
              "    </tr>\n",
              "    <tr>\n",
              "      <th>1379</th>\n",
              "      <td>10475</td>\n",
              "      <td>1970</td>\n",
              "      <td>Mestrado</td>\n",
              "      <td>Solteiro(a)</td>\n",
              "      <td>NaN</td>\n",
              "      <td>0</td>\n",
              "      <td>1</td>\n",
              "      <td>04/01/2013</td>\n",
              "      <td>39</td>\n",
              "      <td>187</td>\n",
              "      <td>...</td>\n",
              "      <td>5</td>\n",
              "      <td>0</td>\n",
              "      <td>0</td>\n",
              "      <td>0</td>\n",
              "      <td>0</td>\n",
              "      <td>0</td>\n",
              "      <td>0</td>\n",
              "      <td>3</td>\n",
              "      <td>11</td>\n",
              "      <td>0</td>\n",
              "    </tr>\n",
              "    <tr>\n",
              "      <th>1382</th>\n",
              "      <td>2902</td>\n",
              "      <td>1958</td>\n",
              "      <td>Graduação</td>\n",
              "      <td>Solteiro(a)</td>\n",
              "      <td>NaN</td>\n",
              "      <td>1</td>\n",
              "      <td>1</td>\n",
              "      <td>09/03/2012</td>\n",
              "      <td>87</td>\n",
              "      <td>19</td>\n",
              "      <td>...</td>\n",
              "      <td>5</td>\n",
              "      <td>0</td>\n",
              "      <td>0</td>\n",
              "      <td>0</td>\n",
              "      <td>0</td>\n",
              "      <td>0</td>\n",
              "      <td>0</td>\n",
              "      <td>3</td>\n",
              "      <td>11</td>\n",
              "      <td>0</td>\n",
              "    </tr>\n",
              "    <tr>\n",
              "      <th>1383</th>\n",
              "      <td>4345</td>\n",
              "      <td>1964</td>\n",
              "      <td>Ensino Médio</td>\n",
              "      <td>Solteiro(a)</td>\n",
              "      <td>NaN</td>\n",
              "      <td>1</td>\n",
              "      <td>1</td>\n",
              "      <td>01/12/2014</td>\n",
              "      <td>49</td>\n",
              "      <td>5</td>\n",
              "      <td>...</td>\n",
              "      <td>7</td>\n",
              "      <td>0</td>\n",
              "      <td>0</td>\n",
              "      <td>0</td>\n",
              "      <td>0</td>\n",
              "      <td>0</td>\n",
              "      <td>0</td>\n",
              "      <td>3</td>\n",
              "      <td>11</td>\n",
              "      <td>0</td>\n",
              "    </tr>\n",
              "    <tr>\n",
              "      <th>1386</th>\n",
              "      <td>3769</td>\n",
              "      <td>1972</td>\n",
              "      <td>Doutorado</td>\n",
              "      <td>Solteiro(a)</td>\n",
              "      <td>NaN</td>\n",
              "      <td>1</td>\n",
              "      <td>0</td>\n",
              "      <td>03/02/2014</td>\n",
              "      <td>17</td>\n",
              "      <td>25</td>\n",
              "      <td>...</td>\n",
              "      <td>7</td>\n",
              "      <td>0</td>\n",
              "      <td>0</td>\n",
              "      <td>0</td>\n",
              "      <td>0</td>\n",
              "      <td>0</td>\n",
              "      <td>0</td>\n",
              "      <td>3</td>\n",
              "      <td>11</td>\n",
              "      <td>0</td>\n",
              "    </tr>\n",
              "    <tr>\n",
              "      <th>2059</th>\n",
              "      <td>7187</td>\n",
              "      <td>1969</td>\n",
              "      <td>Mestrado</td>\n",
              "      <td>Solteiro(a)</td>\n",
              "      <td>NaN</td>\n",
              "      <td>1</td>\n",
              "      <td>1</td>\n",
              "      <td>05/18/2013</td>\n",
              "      <td>52</td>\n",
              "      <td>375</td>\n",
              "      <td>...</td>\n",
              "      <td>3</td>\n",
              "      <td>0</td>\n",
              "      <td>0</td>\n",
              "      <td>0</td>\n",
              "      <td>0</td>\n",
              "      <td>0</td>\n",
              "      <td>0</td>\n",
              "      <td>3</td>\n",
              "      <td>11</td>\n",
              "      <td>0</td>\n",
              "    </tr>\n",
              "    <tr>\n",
              "      <th>2061</th>\n",
              "      <td>1612</td>\n",
              "      <td>1981</td>\n",
              "      <td>Doutorado</td>\n",
              "      <td>Solteiro(a)</td>\n",
              "      <td>NaN</td>\n",
              "      <td>1</td>\n",
              "      <td>0</td>\n",
              "      <td>05/31/2013</td>\n",
              "      <td>82</td>\n",
              "      <td>23</td>\n",
              "      <td>...</td>\n",
              "      <td>6</td>\n",
              "      <td>0</td>\n",
              "      <td>0</td>\n",
              "      <td>0</td>\n",
              "      <td>0</td>\n",
              "      <td>0</td>\n",
              "      <td>0</td>\n",
              "      <td>3</td>\n",
              "      <td>11</td>\n",
              "      <td>0</td>\n",
              "    </tr>\n",
              "    <tr>\n",
              "      <th>2078</th>\n",
              "      <td>5079</td>\n",
              "      <td>1971</td>\n",
              "      <td>Graduação</td>\n",
              "      <td>Casado(a)</td>\n",
              "      <td>NaN</td>\n",
              "      <td>1</td>\n",
              "      <td>1</td>\n",
              "      <td>03/03/2013</td>\n",
              "      <td>82</td>\n",
              "      <td>71</td>\n",
              "      <td>...</td>\n",
              "      <td>8</td>\n",
              "      <td>0</td>\n",
              "      <td>0</td>\n",
              "      <td>0</td>\n",
              "      <td>0</td>\n",
              "      <td>0</td>\n",
              "      <td>0</td>\n",
              "      <td>3</td>\n",
              "      <td>11</td>\n",
              "      <td>0</td>\n",
              "    </tr>\n",
              "    <tr>\n",
              "      <th>2079</th>\n",
              "      <td>10339</td>\n",
              "      <td>1954</td>\n",
              "      <td>Mestrado</td>\n",
              "      <td>Solteiro(a)</td>\n",
              "      <td>NaN</td>\n",
              "      <td>0</td>\n",
              "      <td>1</td>\n",
              "      <td>06/23/2013</td>\n",
              "      <td>83</td>\n",
              "      <td>161</td>\n",
              "      <td>...</td>\n",
              "      <td>6</td>\n",
              "      <td>0</td>\n",
              "      <td>0</td>\n",
              "      <td>0</td>\n",
              "      <td>0</td>\n",
              "      <td>0</td>\n",
              "      <td>0</td>\n",
              "      <td>3</td>\n",
              "      <td>11</td>\n",
              "      <td>0</td>\n",
              "    </tr>\n",
              "    <tr>\n",
              "      <th>2081</th>\n",
              "      <td>3117</td>\n",
              "      <td>1955</td>\n",
              "      <td>Graduação</td>\n",
              "      <td>Solteiro(a)</td>\n",
              "      <td>NaN</td>\n",
              "      <td>0</td>\n",
              "      <td>1</td>\n",
              "      <td>10/18/2013</td>\n",
              "      <td>95</td>\n",
              "      <td>264</td>\n",
              "      <td>...</td>\n",
              "      <td>7</td>\n",
              "      <td>0</td>\n",
              "      <td>0</td>\n",
              "      <td>0</td>\n",
              "      <td>0</td>\n",
              "      <td>0</td>\n",
              "      <td>0</td>\n",
              "      <td>3</td>\n",
              "      <td>11</td>\n",
              "      <td>0</td>\n",
              "    </tr>\n",
              "    <tr>\n",
              "      <th>2084</th>\n",
              "      <td>5250</td>\n",
              "      <td>1943</td>\n",
              "      <td>Mestrado</td>\n",
              "      <td>Viúvo(a)</td>\n",
              "      <td>NaN</td>\n",
              "      <td>0</td>\n",
              "      <td>0</td>\n",
              "      <td>10/30/2013</td>\n",
              "      <td>75</td>\n",
              "      <td>532</td>\n",
              "      <td>...</td>\n",
              "      <td>1</td>\n",
              "      <td>0</td>\n",
              "      <td>0</td>\n",
              "      <td>1</td>\n",
              "      <td>0</td>\n",
              "      <td>0</td>\n",
              "      <td>0</td>\n",
              "      <td>3</td>\n",
              "      <td>11</td>\n",
              "      <td>1</td>\n",
              "    </tr>\n",
              "    <tr>\n",
              "      <th>2228</th>\n",
              "      <td>8720</td>\n",
              "      <td>1978</td>\n",
              "      <td>Ensino Médio</td>\n",
              "      <td>Solteiro(a)</td>\n",
              "      <td>NaN</td>\n",
              "      <td>0</td>\n",
              "      <td>0</td>\n",
              "      <td>08/12/2012</td>\n",
              "      <td>53</td>\n",
              "      <td>32</td>\n",
              "      <td>...</td>\n",
              "      <td>0</td>\n",
              "      <td>0</td>\n",
              "      <td>1</td>\n",
              "      <td>0</td>\n",
              "      <td>0</td>\n",
              "      <td>0</td>\n",
              "      <td>0</td>\n",
              "      <td>3</td>\n",
              "      <td>11</td>\n",
              "      <td>0</td>\n",
              "    </tr>\n",
              "  </tbody>\n",
              "</table>\n",
              "<p>24 rows × 29 columns</p>\n",
              "</div>\n",
              "      <button class=\"colab-df-convert\" onclick=\"convertToInteractive('df-716e3941-fe43-4d1d-b0e7-595f2e79da04')\"\n",
              "              title=\"Convert this dataframe to an interactive table.\"\n",
              "              style=\"display:none;\">\n",
              "        \n",
              "  <svg xmlns=\"http://www.w3.org/2000/svg\" height=\"24px\"viewBox=\"0 0 24 24\"\n",
              "       width=\"24px\">\n",
              "    <path d=\"M0 0h24v24H0V0z\" fill=\"none\"/>\n",
              "    <path d=\"M18.56 5.44l.94 2.06.94-2.06 2.06-.94-2.06-.94-.94-2.06-.94 2.06-2.06.94zm-11 1L8.5 8.5l.94-2.06 2.06-.94-2.06-.94L8.5 2.5l-.94 2.06-2.06.94zm10 10l.94 2.06.94-2.06 2.06-.94-2.06-.94-.94-2.06-.94 2.06-2.06.94z\"/><path d=\"M17.41 7.96l-1.37-1.37c-.4-.4-.92-.59-1.43-.59-.52 0-1.04.2-1.43.59L10.3 9.45l-7.72 7.72c-.78.78-.78 2.05 0 2.83L4 21.41c.39.39.9.59 1.41.59.51 0 1.02-.2 1.41-.59l7.78-7.78 2.81-2.81c.8-.78.8-2.07 0-2.86zM5.41 20L4 18.59l7.72-7.72 1.47 1.35L5.41 20z\"/>\n",
              "  </svg>\n",
              "      </button>\n",
              "      \n",
              "  <style>\n",
              "    .colab-df-container {\n",
              "      display:flex;\n",
              "      flex-wrap:wrap;\n",
              "      gap: 12px;\n",
              "    }\n",
              "\n",
              "    .colab-df-convert {\n",
              "      background-color: #E8F0FE;\n",
              "      border: none;\n",
              "      border-radius: 50%;\n",
              "      cursor: pointer;\n",
              "      display: none;\n",
              "      fill: #1967D2;\n",
              "      height: 32px;\n",
              "      padding: 0 0 0 0;\n",
              "      width: 32px;\n",
              "    }\n",
              "\n",
              "    .colab-df-convert:hover {\n",
              "      background-color: #E2EBFA;\n",
              "      box-shadow: 0px 1px 2px rgba(60, 64, 67, 0.3), 0px 1px 3px 1px rgba(60, 64, 67, 0.15);\n",
              "      fill: #174EA6;\n",
              "    }\n",
              "\n",
              "    [theme=dark] .colab-df-convert {\n",
              "      background-color: #3B4455;\n",
              "      fill: #D2E3FC;\n",
              "    }\n",
              "\n",
              "    [theme=dark] .colab-df-convert:hover {\n",
              "      background-color: #434B5C;\n",
              "      box-shadow: 0px 1px 3px 1px rgba(0, 0, 0, 0.15);\n",
              "      filter: drop-shadow(0px 1px 2px rgba(0, 0, 0, 0.3));\n",
              "      fill: #FFFFFF;\n",
              "    }\n",
              "  </style>\n",
              "\n",
              "      <script>\n",
              "        const buttonEl =\n",
              "          document.querySelector('#df-716e3941-fe43-4d1d-b0e7-595f2e79da04 button.colab-df-convert');\n",
              "        buttonEl.style.display =\n",
              "          google.colab.kernel.accessAllowed ? 'block' : 'none';\n",
              "\n",
              "        async function convertToInteractive(key) {\n",
              "          const element = document.querySelector('#df-716e3941-fe43-4d1d-b0e7-595f2e79da04');\n",
              "          const dataTable =\n",
              "            await google.colab.kernel.invokeFunction('convertToInteractive',\n",
              "                                                     [key], {});\n",
              "          if (!dataTable) return;\n",
              "\n",
              "          const docLinkHtml = 'Like what you see? Visit the ' +\n",
              "            '<a target=\"_blank\" href=https://colab.research.google.com/notebooks/data_table.ipynb>data table notebook</a>'\n",
              "            + ' to learn more about interactive tables.';\n",
              "          element.innerHTML = '';\n",
              "          dataTable['output_type'] = 'display_data';\n",
              "          await google.colab.output.renderOutput(dataTable, element);\n",
              "          const docLink = document.createElement('div');\n",
              "          docLink.innerHTML = docLinkHtml;\n",
              "          element.appendChild(docLink);\n",
              "        }\n",
              "      </script>\n",
              "    </div>\n",
              "  </div>\n",
              "  "
            ]
          },
          "metadata": {},
          "execution_count": 35
        }
      ]
    },
    {
      "cell_type": "code",
      "source": [
        "'''\n",
        "Validando a quantidade de linhas com valores ausentes\n",
        "'''\n",
        "len(df1[df1.isna().sum(axis=1) > 0])"
      ],
      "metadata": {
        "colab": {
          "base_uri": "https://localhost:8080/"
        },
        "id": "AiDwHagXbUCz",
        "outputId": "86a75a67-28e9-45cc-d035-348d0627f756"
      },
      "execution_count": null,
      "outputs": [
        {
          "output_type": "execute_result",
          "data": {
            "text/plain": [
              "24"
            ]
          },
          "metadata": {},
          "execution_count": 36
        }
      ]
    },
    {
      "cell_type": "code",
      "source": [
        "'''\n",
        "Identifica os valores ausentes da coluna 'Renda' e substitui por \n",
        "'52247.251354' (renda média).\n",
        "'''\n",
        "df1.Renda.fillna(52247.251354, inplace=True)"
      ],
      "metadata": {
        "id": "MozZfb0abh7t"
      },
      "execution_count": null,
      "outputs": []
    },
    {
      "cell_type": "code",
      "source": [
        "#teste. Vide amostra na linha de 10.\n",
        "df1.head(11)"
      ],
      "metadata": {
        "colab": {
          "base_uri": "https://localhost:8080/",
          "height": 487
        },
        "id": "D5l1GUoulVdF",
        "outputId": "7b6a119d-a24e-4558-b5e4-e78c969d094e"
      },
      "execution_count": null,
      "outputs": [
        {
          "output_type": "execute_result",
          "data": {
            "text/plain": [
              "      ID  Ano_Nascimento Escolaridade   Estado_Civil         Renda  \\\n",
              "0   5524            1957    Graduação    Solteiro(a)  58138.000000   \n",
              "1   2174            1954    Graduação    Solteiro(a)  46344.000000   \n",
              "2   4141            1965    Graduação    Solteiro(a)  71613.000000   \n",
              "3   6182            1984    Graduação    Solteiro(a)  26646.000000   \n",
              "4   5324            1981    Doutorado      Casado(a)  58293.000000   \n",
              "5   7446            1967     Mestrado    Solteiro(a)  62513.000000   \n",
              "6    965            1971    Graduação  Divorciado(a)  55635.000000   \n",
              "7   6177            1985    Doutorado      Casado(a)  33454.000000   \n",
              "8   4855            1974    Doutorado    Solteiro(a)  30351.000000   \n",
              "9   5899            1950    Doutorado    Solteiro(a)   5648.000000   \n",
              "10  1994            1983    Graduação      Casado(a)  52247.251354   \n",
              "\n",
              "    Crianças_Casa  Adolescentes_Casa Data_Cadastro_Cliente  Recência  \\\n",
              "0               0                  0            09/04/2012        58   \n",
              "1               1                  1            03/08/2014        38   \n",
              "2               0                  0            08/21/2013        26   \n",
              "3               1                  0            02/10/2014        26   \n",
              "4               1                  0            01/19/2014        94   \n",
              "5               0                  1            09/09/2013        16   \n",
              "6               0                  1            11/13/2012        34   \n",
              "7               1                  0            05/08/2013        32   \n",
              "8               1                  0            06/06/2013        19   \n",
              "9               1                  1            03/13/2014        68   \n",
              "10              1                  0            11/15/2013        11   \n",
              "\n",
              "    Quantia_Vinho  ...  Número_Visitas_Web_Mês  Campanha3_aceita  \\\n",
              "0             635  ...                       7                 0   \n",
              "1              11  ...                       5                 0   \n",
              "2             426  ...                       4                 0   \n",
              "3              11  ...                       6                 0   \n",
              "4             173  ...                       5                 0   \n",
              "5             520  ...                       6                 0   \n",
              "6             235  ...                       6                 0   \n",
              "7              76  ...                       8                 0   \n",
              "8              14  ...                       9                 0   \n",
              "9              28  ...                      20                 1   \n",
              "10              5  ...                       7                 0   \n",
              "\n",
              "    Campanha4_aceita  Campanha5_aceita  Campanha1_aceita  Campanha2_aceita  \\\n",
              "0                  0                 0                 0                 0   \n",
              "1                  0                 0                 0                 0   \n",
              "2                  0                 0                 0                 0   \n",
              "3                  0                 0                 0                 0   \n",
              "4                  0                 0                 0                 0   \n",
              "5                  0                 0                 0                 0   \n",
              "6                  0                 0                 0                 0   \n",
              "7                  0                 0                 0                 0   \n",
              "8                  0                 0                 0                 0   \n",
              "9                  0                 0                 0                 0   \n",
              "10                 0                 0                 0                 0   \n",
              "\n",
              "    Reclamações  Z_Contato_Custo  Z_Receita  Resposta  \n",
              "0             0                3         11         1  \n",
              "1             0                3         11         0  \n",
              "2             0                3         11         0  \n",
              "3             0                3         11         0  \n",
              "4             0                3         11         0  \n",
              "5             0                3         11         0  \n",
              "6             0                3         11         0  \n",
              "7             0                3         11         0  \n",
              "8             0                3         11         1  \n",
              "9             0                3         11         0  \n",
              "10            0                3         11         0  \n",
              "\n",
              "[11 rows x 29 columns]"
            ],
            "text/html": [
              "\n",
              "  <div id=\"df-191fab8f-0a8f-4de7-8d6d-53a96552db71\">\n",
              "    <div class=\"colab-df-container\">\n",
              "      <div>\n",
              "<style scoped>\n",
              "    .dataframe tbody tr th:only-of-type {\n",
              "        vertical-align: middle;\n",
              "    }\n",
              "\n",
              "    .dataframe tbody tr th {\n",
              "        vertical-align: top;\n",
              "    }\n",
              "\n",
              "    .dataframe thead th {\n",
              "        text-align: right;\n",
              "    }\n",
              "</style>\n",
              "<table border=\"1\" class=\"dataframe\">\n",
              "  <thead>\n",
              "    <tr style=\"text-align: right;\">\n",
              "      <th></th>\n",
              "      <th>ID</th>\n",
              "      <th>Ano_Nascimento</th>\n",
              "      <th>Escolaridade</th>\n",
              "      <th>Estado_Civil</th>\n",
              "      <th>Renda</th>\n",
              "      <th>Crianças_Casa</th>\n",
              "      <th>Adolescentes_Casa</th>\n",
              "      <th>Data_Cadastro_Cliente</th>\n",
              "      <th>Recência</th>\n",
              "      <th>Quantia_Vinho</th>\n",
              "      <th>...</th>\n",
              "      <th>Número_Visitas_Web_Mês</th>\n",
              "      <th>Campanha3_aceita</th>\n",
              "      <th>Campanha4_aceita</th>\n",
              "      <th>Campanha5_aceita</th>\n",
              "      <th>Campanha1_aceita</th>\n",
              "      <th>Campanha2_aceita</th>\n",
              "      <th>Reclamações</th>\n",
              "      <th>Z_Contato_Custo</th>\n",
              "      <th>Z_Receita</th>\n",
              "      <th>Resposta</th>\n",
              "    </tr>\n",
              "  </thead>\n",
              "  <tbody>\n",
              "    <tr>\n",
              "      <th>0</th>\n",
              "      <td>5524</td>\n",
              "      <td>1957</td>\n",
              "      <td>Graduação</td>\n",
              "      <td>Solteiro(a)</td>\n",
              "      <td>58138.000000</td>\n",
              "      <td>0</td>\n",
              "      <td>0</td>\n",
              "      <td>09/04/2012</td>\n",
              "      <td>58</td>\n",
              "      <td>635</td>\n",
              "      <td>...</td>\n",
              "      <td>7</td>\n",
              "      <td>0</td>\n",
              "      <td>0</td>\n",
              "      <td>0</td>\n",
              "      <td>0</td>\n",
              "      <td>0</td>\n",
              "      <td>0</td>\n",
              "      <td>3</td>\n",
              "      <td>11</td>\n",
              "      <td>1</td>\n",
              "    </tr>\n",
              "    <tr>\n",
              "      <th>1</th>\n",
              "      <td>2174</td>\n",
              "      <td>1954</td>\n",
              "      <td>Graduação</td>\n",
              "      <td>Solteiro(a)</td>\n",
              "      <td>46344.000000</td>\n",
              "      <td>1</td>\n",
              "      <td>1</td>\n",
              "      <td>03/08/2014</td>\n",
              "      <td>38</td>\n",
              "      <td>11</td>\n",
              "      <td>...</td>\n",
              "      <td>5</td>\n",
              "      <td>0</td>\n",
              "      <td>0</td>\n",
              "      <td>0</td>\n",
              "      <td>0</td>\n",
              "      <td>0</td>\n",
              "      <td>0</td>\n",
              "      <td>3</td>\n",
              "      <td>11</td>\n",
              "      <td>0</td>\n",
              "    </tr>\n",
              "    <tr>\n",
              "      <th>2</th>\n",
              "      <td>4141</td>\n",
              "      <td>1965</td>\n",
              "      <td>Graduação</td>\n",
              "      <td>Solteiro(a)</td>\n",
              "      <td>71613.000000</td>\n",
              "      <td>0</td>\n",
              "      <td>0</td>\n",
              "      <td>08/21/2013</td>\n",
              "      <td>26</td>\n",
              "      <td>426</td>\n",
              "      <td>...</td>\n",
              "      <td>4</td>\n",
              "      <td>0</td>\n",
              "      <td>0</td>\n",
              "      <td>0</td>\n",
              "      <td>0</td>\n",
              "      <td>0</td>\n",
              "      <td>0</td>\n",
              "      <td>3</td>\n",
              "      <td>11</td>\n",
              "      <td>0</td>\n",
              "    </tr>\n",
              "    <tr>\n",
              "      <th>3</th>\n",
              "      <td>6182</td>\n",
              "      <td>1984</td>\n",
              "      <td>Graduação</td>\n",
              "      <td>Solteiro(a)</td>\n",
              "      <td>26646.000000</td>\n",
              "      <td>1</td>\n",
              "      <td>0</td>\n",
              "      <td>02/10/2014</td>\n",
              "      <td>26</td>\n",
              "      <td>11</td>\n",
              "      <td>...</td>\n",
              "      <td>6</td>\n",
              "      <td>0</td>\n",
              "      <td>0</td>\n",
              "      <td>0</td>\n",
              "      <td>0</td>\n",
              "      <td>0</td>\n",
              "      <td>0</td>\n",
              "      <td>3</td>\n",
              "      <td>11</td>\n",
              "      <td>0</td>\n",
              "    </tr>\n",
              "    <tr>\n",
              "      <th>4</th>\n",
              "      <td>5324</td>\n",
              "      <td>1981</td>\n",
              "      <td>Doutorado</td>\n",
              "      <td>Casado(a)</td>\n",
              "      <td>58293.000000</td>\n",
              "      <td>1</td>\n",
              "      <td>0</td>\n",
              "      <td>01/19/2014</td>\n",
              "      <td>94</td>\n",
              "      <td>173</td>\n",
              "      <td>...</td>\n",
              "      <td>5</td>\n",
              "      <td>0</td>\n",
              "      <td>0</td>\n",
              "      <td>0</td>\n",
              "      <td>0</td>\n",
              "      <td>0</td>\n",
              "      <td>0</td>\n",
              "      <td>3</td>\n",
              "      <td>11</td>\n",
              "      <td>0</td>\n",
              "    </tr>\n",
              "    <tr>\n",
              "      <th>5</th>\n",
              "      <td>7446</td>\n",
              "      <td>1967</td>\n",
              "      <td>Mestrado</td>\n",
              "      <td>Solteiro(a)</td>\n",
              "      <td>62513.000000</td>\n",
              "      <td>0</td>\n",
              "      <td>1</td>\n",
              "      <td>09/09/2013</td>\n",
              "      <td>16</td>\n",
              "      <td>520</td>\n",
              "      <td>...</td>\n",
              "      <td>6</td>\n",
              "      <td>0</td>\n",
              "      <td>0</td>\n",
              "      <td>0</td>\n",
              "      <td>0</td>\n",
              "      <td>0</td>\n",
              "      <td>0</td>\n",
              "      <td>3</td>\n",
              "      <td>11</td>\n",
              "      <td>0</td>\n",
              "    </tr>\n",
              "    <tr>\n",
              "      <th>6</th>\n",
              "      <td>965</td>\n",
              "      <td>1971</td>\n",
              "      <td>Graduação</td>\n",
              "      <td>Divorciado(a)</td>\n",
              "      <td>55635.000000</td>\n",
              "      <td>0</td>\n",
              "      <td>1</td>\n",
              "      <td>11/13/2012</td>\n",
              "      <td>34</td>\n",
              "      <td>235</td>\n",
              "      <td>...</td>\n",
              "      <td>6</td>\n",
              "      <td>0</td>\n",
              "      <td>0</td>\n",
              "      <td>0</td>\n",
              "      <td>0</td>\n",
              "      <td>0</td>\n",
              "      <td>0</td>\n",
              "      <td>3</td>\n",
              "      <td>11</td>\n",
              "      <td>0</td>\n",
              "    </tr>\n",
              "    <tr>\n",
              "      <th>7</th>\n",
              "      <td>6177</td>\n",
              "      <td>1985</td>\n",
              "      <td>Doutorado</td>\n",
              "      <td>Casado(a)</td>\n",
              "      <td>33454.000000</td>\n",
              "      <td>1</td>\n",
              "      <td>0</td>\n",
              "      <td>05/08/2013</td>\n",
              "      <td>32</td>\n",
              "      <td>76</td>\n",
              "      <td>...</td>\n",
              "      <td>8</td>\n",
              "      <td>0</td>\n",
              "      <td>0</td>\n",
              "      <td>0</td>\n",
              "      <td>0</td>\n",
              "      <td>0</td>\n",
              "      <td>0</td>\n",
              "      <td>3</td>\n",
              "      <td>11</td>\n",
              "      <td>0</td>\n",
              "    </tr>\n",
              "    <tr>\n",
              "      <th>8</th>\n",
              "      <td>4855</td>\n",
              "      <td>1974</td>\n",
              "      <td>Doutorado</td>\n",
              "      <td>Solteiro(a)</td>\n",
              "      <td>30351.000000</td>\n",
              "      <td>1</td>\n",
              "      <td>0</td>\n",
              "      <td>06/06/2013</td>\n",
              "      <td>19</td>\n",
              "      <td>14</td>\n",
              "      <td>...</td>\n",
              "      <td>9</td>\n",
              "      <td>0</td>\n",
              "      <td>0</td>\n",
              "      <td>0</td>\n",
              "      <td>0</td>\n",
              "      <td>0</td>\n",
              "      <td>0</td>\n",
              "      <td>3</td>\n",
              "      <td>11</td>\n",
              "      <td>1</td>\n",
              "    </tr>\n",
              "    <tr>\n",
              "      <th>9</th>\n",
              "      <td>5899</td>\n",
              "      <td>1950</td>\n",
              "      <td>Doutorado</td>\n",
              "      <td>Solteiro(a)</td>\n",
              "      <td>5648.000000</td>\n",
              "      <td>1</td>\n",
              "      <td>1</td>\n",
              "      <td>03/13/2014</td>\n",
              "      <td>68</td>\n",
              "      <td>28</td>\n",
              "      <td>...</td>\n",
              "      <td>20</td>\n",
              "      <td>1</td>\n",
              "      <td>0</td>\n",
              "      <td>0</td>\n",
              "      <td>0</td>\n",
              "      <td>0</td>\n",
              "      <td>0</td>\n",
              "      <td>3</td>\n",
              "      <td>11</td>\n",
              "      <td>0</td>\n",
              "    </tr>\n",
              "    <tr>\n",
              "      <th>10</th>\n",
              "      <td>1994</td>\n",
              "      <td>1983</td>\n",
              "      <td>Graduação</td>\n",
              "      <td>Casado(a)</td>\n",
              "      <td>52247.251354</td>\n",
              "      <td>1</td>\n",
              "      <td>0</td>\n",
              "      <td>11/15/2013</td>\n",
              "      <td>11</td>\n",
              "      <td>5</td>\n",
              "      <td>...</td>\n",
              "      <td>7</td>\n",
              "      <td>0</td>\n",
              "      <td>0</td>\n",
              "      <td>0</td>\n",
              "      <td>0</td>\n",
              "      <td>0</td>\n",
              "      <td>0</td>\n",
              "      <td>3</td>\n",
              "      <td>11</td>\n",
              "      <td>0</td>\n",
              "    </tr>\n",
              "  </tbody>\n",
              "</table>\n",
              "<p>11 rows × 29 columns</p>\n",
              "</div>\n",
              "      <button class=\"colab-df-convert\" onclick=\"convertToInteractive('df-191fab8f-0a8f-4de7-8d6d-53a96552db71')\"\n",
              "              title=\"Convert this dataframe to an interactive table.\"\n",
              "              style=\"display:none;\">\n",
              "        \n",
              "  <svg xmlns=\"http://www.w3.org/2000/svg\" height=\"24px\"viewBox=\"0 0 24 24\"\n",
              "       width=\"24px\">\n",
              "    <path d=\"M0 0h24v24H0V0z\" fill=\"none\"/>\n",
              "    <path d=\"M18.56 5.44l.94 2.06.94-2.06 2.06-.94-2.06-.94-.94-2.06-.94 2.06-2.06.94zm-11 1L8.5 8.5l.94-2.06 2.06-.94-2.06-.94L8.5 2.5l-.94 2.06-2.06.94zm10 10l.94 2.06.94-2.06 2.06-.94-2.06-.94-.94-2.06-.94 2.06-2.06.94z\"/><path d=\"M17.41 7.96l-1.37-1.37c-.4-.4-.92-.59-1.43-.59-.52 0-1.04.2-1.43.59L10.3 9.45l-7.72 7.72c-.78.78-.78 2.05 0 2.83L4 21.41c.39.39.9.59 1.41.59.51 0 1.02-.2 1.41-.59l7.78-7.78 2.81-2.81c.8-.78.8-2.07 0-2.86zM5.41 20L4 18.59l7.72-7.72 1.47 1.35L5.41 20z\"/>\n",
              "  </svg>\n",
              "      </button>\n",
              "      \n",
              "  <style>\n",
              "    .colab-df-container {\n",
              "      display:flex;\n",
              "      flex-wrap:wrap;\n",
              "      gap: 12px;\n",
              "    }\n",
              "\n",
              "    .colab-df-convert {\n",
              "      background-color: #E8F0FE;\n",
              "      border: none;\n",
              "      border-radius: 50%;\n",
              "      cursor: pointer;\n",
              "      display: none;\n",
              "      fill: #1967D2;\n",
              "      height: 32px;\n",
              "      padding: 0 0 0 0;\n",
              "      width: 32px;\n",
              "    }\n",
              "\n",
              "    .colab-df-convert:hover {\n",
              "      background-color: #E2EBFA;\n",
              "      box-shadow: 0px 1px 2px rgba(60, 64, 67, 0.3), 0px 1px 3px 1px rgba(60, 64, 67, 0.15);\n",
              "      fill: #174EA6;\n",
              "    }\n",
              "\n",
              "    [theme=dark] .colab-df-convert {\n",
              "      background-color: #3B4455;\n",
              "      fill: #D2E3FC;\n",
              "    }\n",
              "\n",
              "    [theme=dark] .colab-df-convert:hover {\n",
              "      background-color: #434B5C;\n",
              "      box-shadow: 0px 1px 3px 1px rgba(0, 0, 0, 0.15);\n",
              "      filter: drop-shadow(0px 1px 2px rgba(0, 0, 0, 0.3));\n",
              "      fill: #FFFFFF;\n",
              "    }\n",
              "  </style>\n",
              "\n",
              "      <script>\n",
              "        const buttonEl =\n",
              "          document.querySelector('#df-191fab8f-0a8f-4de7-8d6d-53a96552db71 button.colab-df-convert');\n",
              "        buttonEl.style.display =\n",
              "          google.colab.kernel.accessAllowed ? 'block' : 'none';\n",
              "\n",
              "        async function convertToInteractive(key) {\n",
              "          const element = document.querySelector('#df-191fab8f-0a8f-4de7-8d6d-53a96552db71');\n",
              "          const dataTable =\n",
              "            await google.colab.kernel.invokeFunction('convertToInteractive',\n",
              "                                                     [key], {});\n",
              "          if (!dataTable) return;\n",
              "\n",
              "          const docLinkHtml = 'Like what you see? Visit the ' +\n",
              "            '<a target=\"_blank\" href=https://colab.research.google.com/notebooks/data_table.ipynb>data table notebook</a>'\n",
              "            + ' to learn more about interactive tables.';\n",
              "          element.innerHTML = '';\n",
              "          dataTable['output_type'] = 'display_data';\n",
              "          await google.colab.output.renderOutput(dataTable, element);\n",
              "          const docLink = document.createElement('div');\n",
              "          docLink.innerHTML = docLinkHtml;\n",
              "          element.appendChild(docLink);\n",
              "        }\n",
              "      </script>\n",
              "    </div>\n",
              "  </div>\n",
              "  "
            ]
          },
          "metadata": {},
          "execution_count": 38
        }
      ]
    },
    {
      "cell_type": "markdown",
      "source": [
        "###**5.Coversão do dataframe tratado para arquivo .csv.**"
      ],
      "metadata": {
        "id": "yf-E1rLkckxI"
      }
    },
    {
      "cell_type": "code",
      "source": [
        "'''\n",
        "Coversão do dataframe tratado em arquivo .csv\n",
        "Arquivo é salvo no Drive montado automaticamente.\n",
        "'''\n",
        "df1.to_csv('campanha_marketing_tratado_pandas.csv')"
      ],
      "metadata": {
        "id": "gcCVYebRc-vq"
      },
      "execution_count": null,
      "outputs": []
    },
    {
      "cell_type": "markdown",
      "source": [
        "##**(L) Carregamento dos dados**"
      ],
      "metadata": {
        "id": "5Vkr2cQWADkY"
      }
    },
    {
      "cell_type": "markdown",
      "source": [
        "###**GCS / Bucket**"
      ],
      "metadata": {
        "id": "Co9iOQFihxnj"
      }
    },
    {
      "cell_type": "code",
      "source": [
        "'''\n",
        "Utilizando o objeto 'blob' quando do acesso ao bucket.\n",
        "Atribuindo operação a uma variável.\n",
        "\n",
        "Os blobs são objetos que podem conter grandes quantidades de texto ou \n",
        "dados binários, incluindo imagens, documentos, mídia de streaming e \n",
        "dados de arquivos.\n",
        "'''\n",
        "\n",
        "blob002 = bucket1.blob('campanha_marketing_tratado_pandas.csv')"
      ],
      "metadata": {
        "id": "CanUisungc2D"
      },
      "execution_count": null,
      "outputs": []
    },
    {
      "cell_type": "code",
      "source": [
        "'''\n",
        "Realizando o upload do arquivo do drive montado para o bucket\n",
        "anteriormente especificado.\n",
        "'''\n",
        "blob002.upload_from_filename('/content/campanha_marketing_tratado_pandas.csv')"
      ],
      "metadata": {
        "id": "dJ8Qqg5lAHrL"
      },
      "execution_count": null,
      "outputs": []
    },
    {
      "cell_type": "markdown",
      "source": [
        "###**MongoDB Atlas**"
      ],
      "metadata": {
        "id": "Pxk1KYddiAWJ"
      }
    },
    {
      "cell_type": "code",
      "source": [
        "'''\n",
        "Estabelecendo a conexão com o MongoDB Atlas\n",
        "'''\n",
        "\n",
        "'''\n",
        "Criando uma conexão utilizando o MongoClient, com string fornecida pelo\n",
        "MongoDB Atlas.\n",
        "\n",
        "Credenciais contidas na string utilizada como parâmetro.\n",
        "'''\n",
        "client = MongoClient(\"...\") #OMITIDO POR QUESTÕES DE SEGURANÇA."
      ],
      "metadata": {
        "id": "xTKNBTDYiDf-"
      },
      "execution_count": null,
      "outputs": []
    },
    {
      "cell_type": "code",
      "source": [
        "'''\n",
        "Obtendo a base de dados criada no MongoDB Atlas e atribuindo ela\n",
        "a uma variável.\n",
        "'''\n",
        "db = client.get_database(\"projeto_individual_tiago_faustino\")"
      ],
      "metadata": {
        "id": "sPg5ole6iTMB"
      },
      "execution_count": null,
      "outputs": []
    },
    {
      "cell_type": "code",
      "source": [
        "'''\n",
        "Retorna um array contendo o nome de todas as coleções, de acordo com o\n",
        "acesso concedido.\n",
        "'''\n",
        "controle = db.list_collection_names()\n",
        "print(controle)"
      ],
      "metadata": {
        "colab": {
          "base_uri": "https://localhost:8080/"
        },
        "id": "ZDJqZPHJiYXk",
        "outputId": "63218a12-34eb-44a8-c87b-a927ad37b956"
      },
      "execution_count": null,
      "outputs": [
        {
          "output_type": "stream",
          "name": "stdout",
          "text": [
            "['tratado', 'original', 'tratado_pandas', 'tratado_pyspark']\n"
          ]
        }
      ]
    },
    {
      "cell_type": "code",
      "source": [
        "'''\n",
        "Estrutura de armazenamento\n",
        "'''\n",
        "\n",
        "'''\n",
        "Criando a collection no MongoDB Atlas e\n",
        "armazenado essa collection numa variável.\n",
        "'''\n",
        "\n",
        "if 'tratado_pandas' not in controle:\n",
        "  db.create_collection('tratado_pandas')\n",
        "var_tratado_pandas_mongo = db['tratado_pandas']"
      ],
      "metadata": {
        "id": "CN1ajAN6icAa"
      },
      "execution_count": null,
      "outputs": []
    },
    {
      "cell_type": "code",
      "source": [
        "'''\n",
        "Inserção dos dados\n",
        "'''\n",
        "'''\n",
        "Inserindo os dados do arquivo .csv tratado no Mongo Atlas.\n",
        "'''\n",
        "if var_tratado_pandas_mongo.estimated_document_count()<1:\n",
        "  var_tratado_pandas_mongo.insert_many(df.to_dict(orient='records'))"
      ],
      "metadata": {
        "id": "PUozUoM6iofQ"
      },
      "execution_count": null,
      "outputs": []
    },
    {
      "cell_type": "code",
      "source": [
        "'''\n",
        "Validação (double-check)\n",
        "'''\n",
        "'''\n",
        "Validação quantitativa. Verificando a quantidade de 'documents' inseridos.\n",
        "'''\n",
        "var_tratado_pandas_mongo.count_documents({})\n",
        "print(var_tratado_pandas_mongo.count_documents({}))"
      ],
      "metadata": {
        "colab": {
          "base_uri": "https://localhost:8080/"
        },
        "id": "nePQYK3diuKx",
        "outputId": "34f1d53e-62ae-45b9-97b7-5913033d2b19"
      },
      "execution_count": null,
      "outputs": [
        {
          "output_type": "stream",
          "name": "stdout",
          "text": [
            "2240\n"
          ]
        }
      ]
    },
    {
      "cell_type": "markdown",
      "source": [
        "#**Nível PySpark**"
      ],
      "metadata": {
        "id": "B6DOw3PotJ9h"
      }
    },
    {
      "cell_type": "markdown",
      "source": [
        "##**Procedimentos iniciais**"
      ],
      "metadata": {
        "id": "oYkpSSJy9GSf"
      }
    },
    {
      "cell_type": "markdown",
      "source": [
        "###**Bibliotecas**"
      ],
      "metadata": {
        "id": "9Gg9qaeUu_3X"
      }
    },
    {
      "cell_type": "code",
      "source": [
        "'''\n",
        "SparkConf: To run a Spark application on the local/cluster, you need to set a \n",
        "few configurations and parameters, this is what SparkConf helps with. It \n",
        "provides configurations to run a Spark application.\n",
        "\n",
        "Fonte: https://www.tutorialspoint.com/pyspark/pyspark_sparkconf.htm\n",
        "Informações adicionais: https://spark.apache.org/docs/latest/api/python/reference/api/pyspark.SparkConf.html\n",
        "\n",
        "'''\n",
        "\n",
        "from pyspark.sql import SparkSession\n",
        "from pyspark import SparkConf\n",
        "import pyspark.sql.functions as F\n",
        "from pyspark.sql.types import *\n",
        "#from pyspark.sql.functions import split\n",
        "from pyspark.sql.window import Window"
      ],
      "metadata": {
        "id": "D5LNmZAnv1AT"
      },
      "execution_count": null,
      "outputs": []
    },
    {
      "cell_type": "markdown",
      "source": [
        "###**Instalações adicionais**"
      ],
      "metadata": {
        "id": "kGwiaT0bvQkG"
      }
    },
    {
      "cell_type": "code",
      "source": [
        "'''\n",
        "Após a instalação execute, novamente, a seção 'Bibliotecas'.\n",
        "'''\n",
        "!pip install pyspark"
      ],
      "metadata": {
        "colab": {
          "base_uri": "https://localhost:8080/"
        },
        "id": "2mAZ-adZtRIf",
        "outputId": "a1b4d931-9f09-4e9f-d1e2-14218ba1b4c2"
      },
      "execution_count": null,
      "outputs": [
        {
          "output_type": "stream",
          "name": "stdout",
          "text": [
            "Looking in indexes: https://pypi.org/simple, https://us-python.pkg.dev/colab-wheels/public/simple/\n",
            "Collecting pyspark\n",
            "  Downloading pyspark-3.2.1.tar.gz (281.4 MB)\n",
            "\u001b[K     |████████████████████████████████| 281.4 MB 30 kB/s \n",
            "\u001b[?25hCollecting py4j==0.10.9.3\n",
            "  Downloading py4j-0.10.9.3-py2.py3-none-any.whl (198 kB)\n",
            "\u001b[K     |████████████████████████████████| 198 kB 61.3 MB/s \n",
            "\u001b[?25hBuilding wheels for collected packages: pyspark\n",
            "  Building wheel for pyspark (setup.py) ... \u001b[?25l\u001b[?25hdone\n",
            "  Created wheel for pyspark: filename=pyspark-3.2.1-py2.py3-none-any.whl size=281853642 sha256=ac7e0bf32aae2dfb611a9d04a7f56d91361d0fe3ec920ddbab5a7d82fc54ffb8\n",
            "  Stored in directory: /root/.cache/pip/wheels/9f/f5/07/7cd8017084dce4e93e84e92efd1e1d5334db05f2e83bcef74f\n",
            "Successfully built pyspark\n",
            "Installing collected packages: py4j, pyspark\n",
            "Successfully installed py4j-0.10.9.3 pyspark-3.2.1\n"
          ]
        }
      ]
    },
    {
      "cell_type": "markdown",
      "source": [
        "##**(E) Extração dos dados**"
      ],
      "metadata": {
        "id": "2WVJsq1EaC_-"
      }
    },
    {
      "cell_type": "markdown",
      "source": [
        "###**(E) Extração dos dados - parte 1/2**\n",
        "\n"
      ],
      "metadata": {
        "id": "1lXhDQor9IS3"
      }
    },
    {
      "cell_type": "markdown",
      "source": [
        "####**SparkSession**"
      ],
      "metadata": {
        "id": "Q9tOJVOu-_Gn"
      }
    },
    {
      "cell_type": "code",
      "source": [
        "'''\n",
        "Fazendo a conexão com a SparkSession\n",
        "'''\n",
        "spark = ( SparkSession.builder\n",
        "                      . master(\"local\")\n",
        "                      .appName(\"conexao-spark\")\n",
        "                      . config(\"spark.ui.port\",\"4050\")\n",
        "                      .getOrCreate()\n",
        "         )"
      ],
      "metadata": {
        "id": "GzOvbOEG-97f"
      },
      "execution_count": null,
      "outputs": []
    },
    {
      "cell_type": "code",
      "source": [
        "spark"
      ],
      "metadata": {
        "colab": {
          "base_uri": "https://localhost:8080/"
        },
        "id": "TGdE6Uve_yeV",
        "outputId": "8a73e474-cfdd-41a4-9447-d4eef4768e85"
      },
      "execution_count": null,
      "outputs": [
        {
          "output_type": "execute_result",
          "data": {
            "text/plain": [
              "<pyspark.sql.session.SparkSession at 0x7f0a34525710>"
            ],
            "text/html": [
              "\n",
              "            <div>\n",
              "                <p><b>SparkSession - in-memory</b></p>\n",
              "                \n",
              "        <div>\n",
              "            <p><b>SparkContext</b></p>\n",
              "\n",
              "            <p><a href=\"http://37d4131b27af:4050\">Spark UI</a></p>\n",
              "\n",
              "            <dl>\n",
              "              <dt>Version</dt>\n",
              "                <dd><code>v3.2.1</code></dd>\n",
              "              <dt>Master</dt>\n",
              "                <dd><code>local</code></dd>\n",
              "              <dt>AppName</dt>\n",
              "                <dd><code>conexao-spark</code></dd>\n",
              "            </dl>\n",
              "        </div>\n",
              "        \n",
              "            </div>\n",
              "        "
            ]
          },
          "metadata": {},
          "execution_count": 52
        }
      ]
    },
    {
      "cell_type": "markdown",
      "source": [
        "####**Estrutura do DataFrame**"
      ],
      "metadata": {
        "id": "3LQxlktHQf4D"
      }
    },
    {
      "cell_type": "code",
      "source": [
        "'''\n",
        "Montando a estrutura do DataFrame, utilizando o StructType\n",
        "'''\n",
        "esquema = (\n",
        "    StructType([\n",
        "                StructField('ID', IntegerType(), True),\n",
        "                StructField('Year_Birth', IntegerType(), True),\n",
        "                StructField('Education', StringType(), True),\n",
        "                StructField('Marital_Status', StringType(), True),\n",
        "                StructField('Income', FloatType(), True),\n",
        "                StructField('Kidhome', IntegerType(), True),\n",
        "                StructField('Teenhome', IntegerType(), True),\n",
        "                StructField('Dt_Customer', StringType(), True),\n",
        "                StructField('Recency', IntegerType(), True),\n",
        "                StructField('MntWines', IntegerType(), True),\n",
        "                StructField('MntFruits', IntegerType(), True),\n",
        "                StructField('MntMeatProducts', IntegerType(), True),\n",
        "                StructField('MntFishProducts', IntegerType(), True),\n",
        "                StructField('MntSweetProducts', IntegerType(), True),\n",
        "                StructField('MntGoldProducts', IntegerType(), True),\n",
        "                StructField('NumDealsPurchases', IntegerType(), True),\n",
        "                StructField('NumWebPurchases', IntegerType(), True),\n",
        "                StructField('NumCatalogPurchases', IntegerType(), True),\n",
        "                StructField('NumStorePurchases', IntegerType(), True),\n",
        "                StructField('NumWebVisitsMonth', IntegerType(), True),\n",
        "                StructField('AcceptedCmp3', IntegerType(), True),\n",
        "                StructField('AcceptedCmp4', IntegerType(), True),\n",
        "                StructField('AcceptedCmp5', IntegerType(), True),\n",
        "                StructField('AcceptedCmp1', IntegerType(), True),\n",
        "                StructField('AcceptedCmp2', IntegerType(), True),\n",
        "                StructField('Complain', IntegerType(), True),\n",
        "                StructField('Z_CostContact', IntegerType(), True),\n",
        "                StructField('Z_Revenue', IntegerType(), True),\n",
        "                StructField('Response', IntegerType(), True)\n",
        "    ])\n",
        ")"
      ],
      "metadata": {
        "id": "PHAXWxyD_5Q5"
      },
      "execution_count": null,
      "outputs": []
    },
    {
      "cell_type": "markdown",
      "source": [
        "####**Leitura do arquivo**"
      ],
      "metadata": {
        "id": "8zntZBN2QqKe"
      }
    },
    {
      "cell_type": "code",
      "source": [
        "'''\n",
        "Criando Dataframe.\n",
        "Realizando a leitura do arquivo original .csv e inserindo na \n",
        "estrutura criada previamente.\n",
        "'''\n",
        "df2 = (\n",
        "    spark.read.format('csv')\n",
        "              .option('header', 'true')\n",
        "              .option('delimiter',';')\n",
        "              .option('inferschema', 'true')\n",
        "              .load('/content/marketing_campaign.csv', schema = esquema)\n",
        ")"
      ],
      "metadata": {
        "id": "yzayzEECNK7A"
      },
      "execution_count": null,
      "outputs": []
    },
    {
      "cell_type": "code",
      "source": [
        "'''\n",
        "The printSchema() method is used to display the schema of the PySpark dataframe.\n",
        "\n",
        "Link: https://linuxhint.com/printschema-method-pyspark/\n",
        "'''\n",
        "df2.printSchema()"
      ],
      "metadata": {
        "colab": {
          "base_uri": "https://localhost:8080/"
        },
        "id": "26d69PJCM1kg",
        "outputId": "deba49fb-23b5-4364-8c42-fa071638d343"
      },
      "execution_count": null,
      "outputs": [
        {
          "output_type": "stream",
          "name": "stdout",
          "text": [
            "root\n",
            " |-- ID: integer (nullable = true)\n",
            " |-- Year_Birth: integer (nullable = true)\n",
            " |-- Education: string (nullable = true)\n",
            " |-- Marital_Status: string (nullable = true)\n",
            " |-- Income: float (nullable = true)\n",
            " |-- Kidhome: integer (nullable = true)\n",
            " |-- Teenhome: integer (nullable = true)\n",
            " |-- Dt_Customer: string (nullable = true)\n",
            " |-- Recency: integer (nullable = true)\n",
            " |-- MntWines: integer (nullable = true)\n",
            " |-- MntFruits: integer (nullable = true)\n",
            " |-- MntMeatProducts: integer (nullable = true)\n",
            " |-- MntFishProducts: integer (nullable = true)\n",
            " |-- MntSweetProducts: integer (nullable = true)\n",
            " |-- MntGoldProducts: integer (nullable = true)\n",
            " |-- NumDealsPurchases: integer (nullable = true)\n",
            " |-- NumWebPurchases: integer (nullable = true)\n",
            " |-- NumCatalogPurchases: integer (nullable = true)\n",
            " |-- NumStorePurchases: integer (nullable = true)\n",
            " |-- NumWebVisitsMonth: integer (nullable = true)\n",
            " |-- AcceptedCmp3: integer (nullable = true)\n",
            " |-- AcceptedCmp4: integer (nullable = true)\n",
            " |-- AcceptedCmp5: integer (nullable = true)\n",
            " |-- AcceptedCmp1: integer (nullable = true)\n",
            " |-- AcceptedCmp2: integer (nullable = true)\n",
            " |-- Complain: integer (nullable = true)\n",
            " |-- Z_CostContact: integer (nullable = true)\n",
            " |-- Z_Revenue: integer (nullable = true)\n",
            " |-- Response: integer (nullable = true)\n",
            "\n"
          ]
        }
      ]
    },
    {
      "cell_type": "code",
      "source": [
        "'''\n",
        "Visualizando o dataframe criado.\n",
        "Primeiras 20 linhas.\n",
        "'''\n",
        "df2.show()"
      ],
      "metadata": {
        "colab": {
          "base_uri": "https://localhost:8080/"
        },
        "id": "wsoay695OJyN",
        "outputId": "b96e355f-5f54-449d-d51e-ca2752d3a8f0"
      },
      "execution_count": null,
      "outputs": [
        {
          "output_type": "stream",
          "name": "stdout",
          "text": [
            "+----+----------+----------+--------------+-------+-------+--------+-----------+-------+--------+---------+---------------+---------------+----------------+---------------+-----------------+---------------+-------------------+-----------------+-----------------+------------+------------+------------+------------+------------+--------+-------------+---------+--------+\n",
            "|  ID|Year_Birth| Education|Marital_Status| Income|Kidhome|Teenhome|Dt_Customer|Recency|MntWines|MntFruits|MntMeatProducts|MntFishProducts|MntSweetProducts|MntGoldProducts|NumDealsPurchases|NumWebPurchases|NumCatalogPurchases|NumStorePurchases|NumWebVisitsMonth|AcceptedCmp3|AcceptedCmp4|AcceptedCmp5|AcceptedCmp1|AcceptedCmp2|Complain|Z_CostContact|Z_Revenue|Response|\n",
            "+----+----------+----------+--------------+-------+-------+--------+-----------+-------+--------+---------+---------------+---------------+----------------+---------------+-----------------+---------------+-------------------+-----------------+-----------------+------------+------------+------------+------------+------------+--------+-------------+---------+--------+\n",
            "|5524|      1957|Graduation|        Single|58138.0|      0|       0| 2012-09-04|     58|     635|       88|            546|            172|              88|             88|                3|              8|                 10|                4|                7|           0|           0|           0|           0|           0|       0|            3|       11|       1|\n",
            "|2174|      1954|Graduation|        Single|46344.0|      1|       1| 2014-03-08|     38|      11|        1|              6|              2|               1|              6|                2|              1|                  1|                2|                5|           0|           0|           0|           0|           0|       0|            3|       11|       0|\n",
            "|4141|      1965|Graduation|      Together|71613.0|      0|       0| 2013-08-21|     26|     426|       49|            127|            111|              21|             42|                1|              8|                  2|               10|                4|           0|           0|           0|           0|           0|       0|            3|       11|       0|\n",
            "|6182|      1984|Graduation|      Together|26646.0|      1|       0| 2014-02-10|     26|      11|        4|             20|             10|               3|              5|                2|              2|                  0|                4|                6|           0|           0|           0|           0|           0|       0|            3|       11|       0|\n",
            "|5324|      1981|       PhD|       Married|58293.0|      1|       0| 2014-01-19|     94|     173|       43|            118|             46|              27|             15|                5|              5|                  3|                6|                5|           0|           0|           0|           0|           0|       0|            3|       11|       0|\n",
            "|7446|      1967|    Master|      Together|62513.0|      0|       1| 2013-09-09|     16|     520|       42|             98|              0|              42|             14|                2|              6|                  4|               10|                6|           0|           0|           0|           0|           0|       0|            3|       11|       0|\n",
            "| 965|      1971|Graduation|      Divorced|55635.0|      0|       1| 2012-11-13|     34|     235|       65|            164|             50|              49|             27|                4|              7|                  3|                7|                6|           0|           0|           0|           0|           0|       0|            3|       11|       0|\n",
            "|6177|      1985|       PhD|       Married|33454.0|      1|       0| 2013-05-08|     32|      76|       10|             56|              3|               1|             23|                2|              4|                  0|                4|                8|           0|           0|           0|           0|           0|       0|            3|       11|       0|\n",
            "|4855|      1974|       PhD|      Together|30351.0|      1|       0| 2013-06-06|     19|      14|        0|             24|              3|               3|              2|                1|              3|                  0|                2|                9|           0|           0|           0|           0|           0|       0|            3|       11|       1|\n",
            "|5899|      1950|       PhD|      Together| 5648.0|      1|       1| 2014-03-13|     68|      28|        0|              6|              1|               1|             13|                1|              1|                  0|                0|               20|           1|           0|           0|           0|           0|       0|            3|       11|       0|\n",
            "|1994|      1983|Graduation|       Married|   null|      1|       0| 2013-11-15|     11|       5|        5|              6|              0|               2|              1|                1|              1|                  0|                2|                7|           0|           0|           0|           0|           0|       0|            3|       11|       0|\n",
            "| 387|      1976|     Basic|       Married| 7500.0|      0|       0| 2012-11-13|     59|       6|       16|             11|             11|               1|             16|                1|              2|                  0|                3|                8|           0|           0|           0|           0|           0|       0|            3|       11|       0|\n",
            "|2125|      1959|Graduation|      Divorced|63033.0|      0|       0| 2013-11-15|     82|     194|       61|            480|            225|             112|             30|                1|              3|                  4|                8|                2|           0|           0|           0|           0|           0|       0|            3|       11|       0|\n",
            "|8180|      1952|    Master|      Divorced|59354.0|      1|       1| 2013-11-15|     53|     233|        2|             53|              3|               5|             14|                3|              6|                  1|                5|                6|           0|           0|           0|           0|           0|       0|            3|       11|       0|\n",
            "|2569|      1987|Graduation|       Married|17323.0|      0|       0| 2012-10-10|     38|       3|       14|             17|              6|               1|              5|                1|              1|                  0|                3|                8|           0|           0|           0|           0|           0|       0|            3|       11|       0|\n",
            "|2114|      1946|       PhD|        Single|82800.0|      0|       0| 2012-11-24|     23|    1006|       22|            115|             59|              68|             45|                1|              7|                  6|               12|                3|           0|           0|           1|           1|           0|       0|            3|       11|       1|\n",
            "|9736|      1980|Graduation|       Married|41850.0|      1|       1| 2012-12-24|     51|      53|        5|             19|              2|              13|              4|                3|              3|                  0|                3|                8|           0|           0|           0|           0|           0|       0|            3|       11|       0|\n",
            "|4939|      1946|Graduation|      Together|37760.0|      0|       0| 2012-08-31|     20|      84|        5|             38|            150|              12|             28|                2|              4|                  1|                6|                7|           0|           0|           0|           0|           0|       0|            3|       11|       0|\n",
            "|6565|      1949|    Master|       Married|76995.0|      0|       1| 2013-03-28|     91|    1012|       80|            498|              0|              16|            176|                2|             11|                  4|                9|                5|           0|           0|           0|           1|           0|       0|            3|       11|       0|\n",
            "|2278|      1985|  2n Cycle|        Single|33812.0|      1|       0| 2012-11-03|     86|       4|       17|             19|             30|              24|             39|                2|              2|                  1|                3|                6|           0|           0|           0|           0|           0|       0|            3|       11|       0|\n",
            "+----+----------+----------+--------------+-------+-------+--------+-----------+-------+--------+---------+---------------+---------------+----------------+---------------+-----------------+---------------+-------------------+-----------------+-----------------+------------+------------+------------+------------+------------+--------+-------------+---------+--------+\n",
            "only showing top 20 rows\n",
            "\n"
          ]
        }
      ]
    },
    {
      "cell_type": "markdown",
      "source": [
        "####**Pré-análise**"
      ],
      "metadata": {
        "id": "8o2QVtZ89cNB"
      }
    },
    {
      "cell_type": "code",
      "source": [
        "'''\n",
        "Verificando o número de linhas e colunas do DataFrame.\n",
        "'''\n",
        "print('Número de linhas: ', df2.count())\n",
        "print('Número de colunas: ', len(df2.columns))"
      ],
      "metadata": {
        "colab": {
          "base_uri": "https://localhost:8080/"
        },
        "id": "7-2kQI4LeC2o",
        "outputId": "3fb2d837-4d2a-47eb-cf1e-6caa740bc7f8"
      },
      "execution_count": null,
      "outputs": [
        {
          "output_type": "stream",
          "name": "stdout",
          "text": [
            "Número de linhas:  2240\n",
            "Número de colunas:  29\n"
          ]
        }
      ]
    },
    {
      "cell_type": "code",
      "source": [
        "'''\n",
        "Verificando alguns dados estatísticos.\n",
        "'''\n",
        "df2.summary().show()"
      ],
      "metadata": {
        "colab": {
          "base_uri": "https://localhost:8080/"
        },
        "id": "J_0MgB6oenRd",
        "outputId": "bdf955b3-ae7a-4ce1-b5ad-9f2269f7da63"
      },
      "execution_count": null,
      "outputs": [
        {
          "output_type": "stream",
          "name": "stdout",
          "text": [
            "+-------+------------------+------------------+---------+--------------+------------------+-------------------+------------------+-----------+-----------------+------------------+------------------+-----------------+------------------+-----------------+----------------+-----------------+------------------+-------------------+-----------------+-----------------+-------------------+-------------------+-------------------+-------------------+--------------------+-------------------+-------------+---------+-------------------+\n",
            "|summary|                ID|        Year_Birth|Education|Marital_Status|            Income|            Kidhome|          Teenhome|Dt_Customer|          Recency|          MntWines|         MntFruits|  MntMeatProducts|   MntFishProducts| MntSweetProducts| MntGoldProducts|NumDealsPurchases|   NumWebPurchases|NumCatalogPurchases|NumStorePurchases|NumWebVisitsMonth|       AcceptedCmp3|       AcceptedCmp4|       AcceptedCmp5|       AcceptedCmp1|        AcceptedCmp2|           Complain|Z_CostContact|Z_Revenue|           Response|\n",
            "+-------+------------------+------------------+---------+--------------+------------------+-------------------+------------------+-----------+-----------------+------------------+------------------+-----------------+------------------+-----------------+----------------+-----------------+------------------+-------------------+-----------------+-----------------+-------------------+-------------------+-------------------+-------------------+--------------------+-------------------+-------------+---------+-------------------+\n",
            "|  count|              2240|              2240|     2240|          2240|              2216|               2240|              2240|       2240|             2240|              2240|              2240|             2240|              2240|             2240|            2240|             2240|              2240|               2240|             2240|             2240|               2240|               2240|               2240|               2240|                2240|               2240|         2240|     2240|               2240|\n",
            "|   mean| 5592.159821428571|1968.8058035714287|     null|          null| 52247.25135379061|0.44419642857142855|           0.50625|       null|        49.109375| 303.9357142857143|26.302232142857143|           166.95| 37.52544642857143|27.06294642857143|       44.021875|            2.325| 4.084821428571429| 2.6620535714285714|5.790178571428571|5.316517857142857|0.07276785714285715|0.07455357142857143|0.07276785714285715|0.06428571428571428|0.013392857142857142|           0.009375|          3.0|     11.0|0.14910714285714285|\n",
            "| stddev|3246.6621975643416|11.984069456885827|     null|          null|25173.076660901414| 0.5383980977345935|0.5445382307698761|       null|28.96245280837821|336.59739260537197|39.773433764578584|225.7153725117536|54.628979402878095|41.28049848785491|52.1674389149973| 1.93223750085598|2.7787141473881007| 2.9231006555397463|3.250958145674428| 2.42664500954729| 0.2598130699218951|0.26272828485356176| 0.2598130699218953|0.24531597433401406| 0.11497560625548417|0.09639116794449748|          0.0|      0.0|0.35627358640847934|\n",
            "|    min|                 0|              1893| 2n Cycle|        Absurd|            1730.0|                  0|                 0| 2012-07-30|                0|                 0|                 0|                0|                 0|                0|               0|                0|                 0|                  0|                0|                0|                  0|                  0|                  0|                  0|                   0|                  0|            3|       11|                  0|\n",
            "|    25%|              2826|              1959|     null|          null|           35246.0|                  0|                 0|       null|               24|                23|                 1|               16|                 3|                1|               9|                1|                 2|                  0|                3|                3|                  0|                  0|                  0|                  0|                   0|                  0|            3|       11|                  0|\n",
            "|    50%|              5455|              1970|     null|          null|           51373.0|                  0|                 0|       null|               49|               173|                 8|               67|                12|                8|              24|                2|                 4|                  2|                5|                6|                  0|                  0|                  0|                  0|                   0|                  0|            3|       11|                  0|\n",
            "|    75%|              8427|              1977|     null|          null|           68487.0|                  1|                 1|       null|               74|               504|                33|              232|                50|               33|              56|                3|                 6|                  4|                8|                7|                  0|                  0|                  0|                  0|                   0|                  0|            3|       11|                  0|\n",
            "|    max|             11191|              1996|      PhD|          YOLO|          666666.0|                  2|                 2| 2014-06-29|               99|              1493|               199|             1725|               259|              263|             362|               15|                27|                 28|               13|               20|                  1|                  1|                  1|                  1|                   1|                  1|            3|       11|                  1|\n",
            "+-------+------------------+------------------+---------+--------------+------------------+-------------------+------------------+-----------+-----------------+------------------+------------------+-----------------+------------------+-----------------+----------------+-----------------+------------------+-------------------+-----------------+-----------------+-------------------+-------------------+-------------------+-------------------+--------------------+-------------------+-------------+---------+-------------------+\n",
            "\n"
          ]
        }
      ]
    },
    {
      "cell_type": "code",
      "source": [
        "'''\n",
        "Verificando a quantidade de valores ausentes na\n",
        "coluna \"Income\"\n",
        "\n",
        "Fonte da inpiração: https://www.web-dev-qa-db-pt.com/pt/filter/como-filtrar-valores-nulos-no-pyspark-dataframe/836844795/\n",
        "'''\n",
        "df2.where(F.isnull(F.col(\"Income\"))).count()"
      ],
      "metadata": {
        "colab": {
          "base_uri": "https://localhost:8080/"
        },
        "id": "beFFfpvcm7M7",
        "outputId": "237f273b-f782-4d4e-c4b4-2c6044e879e4"
      },
      "execution_count": null,
      "outputs": [
        {
          "output_type": "execute_result",
          "data": {
            "text/plain": [
              "24"
            ]
          },
          "metadata": {},
          "execution_count": 59
        }
      ]
    },
    {
      "cell_type": "code",
      "source": [
        "'''\n",
        "Agora que já sabemos a quantidade de valores ausentes,\n",
        "a proposta é passar essa quantidade como parâmetro para\n",
        "verificar, exatamente, quais são as linhas que possuem\n",
        "os valores ausentes na coluna \"Income\".\n",
        "'''\n",
        "df2.where(F.isnull(F.col(\"Income\"))).show(24)"
      ],
      "metadata": {
        "colab": {
          "base_uri": "https://localhost:8080/"
        },
        "id": "VULxggvggMgI",
        "outputId": "a10c319d-94b6-430a-a44e-7c3b1926dcba"
      },
      "execution_count": null,
      "outputs": [
        {
          "output_type": "stream",
          "name": "stdout",
          "text": [
            "+-----+----------+----------+--------------+------+-------+--------+-----------+-------+--------+---------+---------------+---------------+----------------+---------------+-----------------+---------------+-------------------+-----------------+-----------------+------------+------------+------------+------------+------------+--------+-------------+---------+--------+\n",
            "|   ID|Year_Birth| Education|Marital_Status|Income|Kidhome|Teenhome|Dt_Customer|Recency|MntWines|MntFruits|MntMeatProducts|MntFishProducts|MntSweetProducts|MntGoldProducts|NumDealsPurchases|NumWebPurchases|NumCatalogPurchases|NumStorePurchases|NumWebVisitsMonth|AcceptedCmp3|AcceptedCmp4|AcceptedCmp5|AcceptedCmp1|AcceptedCmp2|Complain|Z_CostContact|Z_Revenue|Response|\n",
            "+-----+----------+----------+--------------+------+-------+--------+-----------+-------+--------+---------+---------------+---------------+----------------+---------------+-----------------+---------------+-------------------+-----------------+-----------------+------------+------------+------------+------------+------------+--------+-------------+---------+--------+\n",
            "| 1994|      1983|Graduation|       Married|  null|      1|       0| 2013-11-15|     11|       5|        5|              6|              0|               2|              1|                1|              1|                  0|                2|                7|           0|           0|           0|           0|           0|       0|            3|       11|       0|\n",
            "| 5255|      1986|Graduation|        Single|  null|      1|       0| 2013-02-20|     19|       5|        1|              3|              3|             263|            362|                0|             27|                  0|                0|                1|           0|           0|           0|           0|           0|       0|            3|       11|       0|\n",
            "| 7281|      1959|       PhD|        Single|  null|      0|       0| 2013-11-05|     80|      81|       11|             50|              3|               2|             39|                1|              1|                  3|                4|                2|           0|           0|           0|           0|           0|       0|            3|       11|       0|\n",
            "| 7244|      1951|Graduation|        Single|  null|      2|       1| 2014-01-01|     96|      48|        5|             48|              6|              10|              7|                3|              2|                  1|                4|                6|           0|           0|           0|           0|           0|       0|            3|       11|       0|\n",
            "| 8557|      1982|Graduation|        Single|  null|      1|       0| 2013-06-17|     57|      11|        3|             22|              2|               2|              6|                2|              2|                  0|                3|                6|           0|           0|           0|           0|           0|       0|            3|       11|       0|\n",
            "|10629|      1973|  2n Cycle|       Married|  null|      1|       0| 2012-09-14|     25|      25|        3|             43|             17|               4|             17|                3|              3|                  0|                3|                8|           0|           0|           0|           0|           0|       0|            3|       11|       0|\n",
            "| 8996|      1957|       PhD|       Married|  null|      2|       1| 2012-11-19|      4|     230|       42|            192|             49|              37|             53|               12|              7|                  2|                8|                9|           0|           0|           0|           0|           0|       0|            3|       11|       0|\n",
            "| 9235|      1957|Graduation|        Single|  null|      1|       1| 2014-05-27|     45|       7|        0|              8|              2|               0|              1|                1|              1|                  0|                2|                7|           0|           0|           0|           0|           0|       0|            3|       11|       0|\n",
            "| 5798|      1973|    Master|      Together|  null|      0|       0| 2013-11-23|     87|     445|       37|            359|             98|              28|             18|                1|              2|                  4|                8|                1|           0|           0|           0|           0|           0|       0|            3|       11|       0|\n",
            "| 8268|      1961|       PhD|       Married|  null|      0|       1| 2013-07-11|     23|     352|        0|             27|             10|               0|             15|                3|              6|                  1|                7|                6|           0|           0|           0|           0|           0|       0|            3|       11|       0|\n",
            "| 1295|      1963|Graduation|       Married|  null|      0|       1| 2013-08-11|     96|     231|       65|            196|             38|              71|            124|                1|              6|                  5|                7|                4|           0|           0|           0|           0|           0|       0|            3|       11|       0|\n",
            "| 2437|      1989|Graduation|       Married|  null|      0|       0| 2013-06-03|     69|     861|      138|            461|             60|              30|             61|                1|              6|                  5|               12|                3|           0|           1|           0|           1|           0|       0|            3|       11|       0|\n",
            "| 2863|      1970|Graduation|        Single|  null|      1|       2| 2013-08-23|     67|     738|       20|            172|             52|              50|             20|                6|              2|                  3|               10|                7|           0|           1|           0|           1|           0|       0|            3|       11|       0|\n",
            "|10475|      1970|    Master|      Together|  null|      0|       1| 2013-04-01|     39|     187|        5|             65|             26|              20|             14|                2|              4|                  2|                6|                5|           0|           0|           0|           0|           0|       0|            3|       11|       0|\n",
            "| 2902|      1958|Graduation|      Together|  null|      1|       1| 2012-09-03|     87|      19|        4|             12|              2|               2|              6|                1|              1|                  0|                3|                5|           0|           0|           0|           0|           0|       0|            3|       11|       0|\n",
            "| 4345|      1964|  2n Cycle|        Single|  null|      1|       1| 2014-01-12|     49|       5|        1|              9|              2|               0|              4|                1|              1|                  0|                2|                7|           0|           0|           0|           0|           0|       0|            3|       11|       0|\n",
            "| 3769|      1972|       PhD|      Together|  null|      1|       0| 2014-03-02|     17|      25|        1|             13|              0|               0|              3|                1|              1|                  0|                3|                7|           0|           0|           0|           0|           0|       0|            3|       11|       0|\n",
            "| 7187|      1969|    Master|      Together|  null|      1|       1| 2013-05-18|     52|     375|       42|             48|             94|              66|             96|                7|              4|                 10|                4|                3|           0|           0|           0|           0|           0|       0|            3|       11|       0|\n",
            "| 1612|      1981|       PhD|        Single|  null|      1|       0| 2013-05-31|     82|      23|        0|             15|              0|               2|              7|                2|              3|                  0|                3|                6|           0|           0|           0|           0|           0|       0|            3|       11|       0|\n",
            "| 5079|      1971|Graduation|       Married|  null|      1|       1| 2013-03-03|     82|      71|        1|             16|              0|               0|              9|                4|              2|                  1|                3|                8|           0|           0|           0|           0|           0|       0|            3|       11|       0|\n",
            "|10339|      1954|    Master|      Together|  null|      0|       1| 2013-06-23|     83|     161|        0|             22|              0|               0|             24|                2|              4|                  1|                4|                6|           0|           0|           0|           0|           0|       0|            3|       11|       0|\n",
            "| 3117|      1955|Graduation|        Single|  null|      0|       1| 2013-10-18|     95|     264|        0|             21|             12|               6|            147|                3|              6|                  1|                5|                7|           0|           0|           0|           0|           0|       0|            3|       11|       0|\n",
            "| 5250|      1943|    Master|         Widow|  null|      0|       0| 2013-10-30|     75|     532|      126|            490|            164|             126|            126|                1|              5|                  5|               11|                1|           0|           0|           1|           0|           0|       0|            3|       11|       1|\n",
            "| 8720|      1978|  2n Cycle|      Together|  null|      0|       0| 2012-08-12|     53|      32|        2|           1607|             12|               4|             22|                0|              0|                  0|                1|                0|           0|           1|           0|           0|           0|       0|            3|       11|       0|\n",
            "+-----+----------+----------+--------------+------+-------+--------+-----------+-------+--------+---------+---------------+---------------+----------------+---------------+-----------------+---------------+-------------------+-----------------+-----------------+------------+------------+------------+------------+------------+--------+-------------+---------+--------+\n",
            "\n"
          ]
        }
      ]
    },
    {
      "cell_type": "code",
      "source": [
        "'''\n",
        "Verificando a quantidade de valores distintos nas colunas do \n",
        "DataFrame.\n",
        "Exemplo a seguir\n",
        "'''\n",
        "df2.select('Year_Birth').distinct().count()\n"
      ],
      "metadata": {
        "colab": {
          "base_uri": "https://localhost:8080/"
        },
        "id": "Wcyt0uJJr_22",
        "outputId": "98560f83-9afa-4436-e792-0d0088726c65"
      },
      "execution_count": null,
      "outputs": [
        {
          "output_type": "execute_result",
          "data": {
            "text/plain": [
              "59"
            ]
          },
          "metadata": {},
          "execution_count": 61
        }
      ]
    },
    {
      "cell_type": "code",
      "source": [
        "'''\n",
        "Verificando os tipos de dados do dataframe.\n",
        "'''\n",
        "df2.dtypes"
      ],
      "metadata": {
        "colab": {
          "base_uri": "https://localhost:8080/"
        },
        "id": "K8ep4eovKRIw",
        "outputId": "e64dca03-4a0c-40cd-f444-01aedc518cac"
      },
      "execution_count": null,
      "outputs": [
        {
          "output_type": "execute_result",
          "data": {
            "text/plain": [
              "[('ID', 'int'),\n",
              " ('Year_Birth', 'int'),\n",
              " ('Education', 'string'),\n",
              " ('Marital_Status', 'string'),\n",
              " ('Income', 'float'),\n",
              " ('Kidhome', 'int'),\n",
              " ('Teenhome', 'int'),\n",
              " ('Dt_Customer', 'string'),\n",
              " ('Recency', 'int'),\n",
              " ('MntWines', 'int'),\n",
              " ('MntFruits', 'int'),\n",
              " ('MntMeatProducts', 'int'),\n",
              " ('MntFishProducts', 'int'),\n",
              " ('MntSweetProducts', 'int'),\n",
              " ('MntGoldProducts', 'int'),\n",
              " ('NumDealsPurchases', 'int'),\n",
              " ('NumWebPurchases', 'int'),\n",
              " ('NumCatalogPurchases', 'int'),\n",
              " ('NumStorePurchases', 'int'),\n",
              " ('NumWebVisitsMonth', 'int'),\n",
              " ('AcceptedCmp3', 'int'),\n",
              " ('AcceptedCmp4', 'int'),\n",
              " ('AcceptedCmp5', 'int'),\n",
              " ('AcceptedCmp1', 'int'),\n",
              " ('AcceptedCmp2', 'int'),\n",
              " ('Complain', 'int'),\n",
              " ('Z_CostContact', 'int'),\n",
              " ('Z_Revenue', 'int'),\n",
              " ('Response', 'int')]"
            ]
          },
          "metadata": {},
          "execution_count": 62
        }
      ]
    },
    {
      "cell_type": "code",
      "source": [
        "'''\n",
        "Explorando colunas do tipo 'string', exceto 'Dt_Customer'(vide 'Observações'adiante).\n",
        "'''\n",
        "'''\n",
        "Apresenta os valores únicos na coluna 'Education'.\n",
        "'''\n",
        "df2.select('Education').distinct().show()"
      ],
      "metadata": {
        "colab": {
          "base_uri": "https://localhost:8080/"
        },
        "id": "KhO2BBx9RoUx",
        "outputId": "ede0bbfb-9eaa-4627-995d-f0577ebfc63e"
      },
      "execution_count": null,
      "outputs": [
        {
          "output_type": "stream",
          "name": "stdout",
          "text": [
            "+----------+\n",
            "| Education|\n",
            "+----------+\n",
            "|  2n Cycle|\n",
            "|       PhD|\n",
            "|    Master|\n",
            "|Graduation|\n",
            "|     Basic|\n",
            "+----------+\n",
            "\n"
          ]
        }
      ]
    },
    {
      "cell_type": "code",
      "source": [
        "'''\n",
        "Apresenta os valores únicos na coluna 'Marital_Status'.\n",
        "'''\n",
        "df2.select('Marital_Status').distinct().show()"
      ],
      "metadata": {
        "colab": {
          "base_uri": "https://localhost:8080/"
        },
        "id": "9TJHtCl0SKOH",
        "outputId": "6ee91a5f-403e-4d96-d395-5361fe24d948"
      },
      "execution_count": null,
      "outputs": [
        {
          "output_type": "stream",
          "name": "stdout",
          "text": [
            "+--------------+\n",
            "|Marital_Status|\n",
            "+--------------+\n",
            "|          YOLO|\n",
            "|      Together|\n",
            "|       Married|\n",
            "|        Absurd|\n",
            "|         Widow|\n",
            "|      Divorced|\n",
            "|         Alone|\n",
            "|        Single|\n",
            "+--------------+\n",
            "\n"
          ]
        }
      ]
    },
    {
      "cell_type": "code",
      "source": [
        "'''\n",
        "Verificando valores duplicados no dataframe.\n",
        "'''\n",
        "total = (df2.count()) - (df2.dropDuplicates().count())\n",
        "print(total)"
      ],
      "metadata": {
        "colab": {
          "base_uri": "https://localhost:8080/"
        },
        "id": "ffLWzNCXoelo",
        "outputId": "1cc56cec-c882-4bd5-c5b2-00ed71c56f5b"
      },
      "execution_count": null,
      "outputs": [
        {
          "output_type": "stream",
          "name": "stdout",
          "text": [
            "0\n"
          ]
        }
      ]
    },
    {
      "cell_type": "markdown",
      "source": [
        "####**Observações**\n",
        ">- Não há valores duplicados.\n",
        ">- Somente a coluna 'Income' possui 'valores ausentes'. 24 no total. Inserir o valor '52247.251354' (renda média)\n",
        ">- Coluna 'Dt_Customer' possui o tipo 'string'. Formato mais correto seria date. Realizar tratamento.\n",
        ">- Mudar o nome de pelo menos 2 colunas.\n",
        "\n",
        "####**Pontos adicionais**\n",
        "\n",
        ">- Criar pelo menos duas novas colunas contendo alguma informação relevante sobre as outras colunas já existentes (Funções de Agrupamento, Agregação ou Joins).\n",
        "\n",
        ">- Utilizar filtros, ordenação e agrupamento, trazendo dados relevantes para o negócio em questão. (Use a sua capacidade analítica)\n",
        "\n",
        ">- Utilizar pelo menos duas Window Functions."
      ],
      "metadata": {
        "id": "U3vGJkgL9fFd"
      }
    },
    {
      "cell_type": "markdown",
      "source": [
        "###**(E) Extração dos dados - parte 2/2**"
      ],
      "metadata": {
        "id": "8hoXfBKIW5f3"
      }
    },
    {
      "cell_type": "markdown",
      "source": [
        "####**Conexões MongoDB Atlas e GCS / Bucket**\n",
        "Etapa desnecessária, pois irá aproveitar-se a conexão\n",
        "já criada quando da utilização do Pandas."
      ],
      "metadata": {
        "id": "N6YTGOtiWgEJ"
      }
    },
    {
      "cell_type": "markdown",
      "source": [
        "##**(T) Tratamento dos dados**"
      ],
      "metadata": {
        "id": "VdRN9B9UYKI5"
      }
    },
    {
      "cell_type": "markdown",
      "source": [
        "###**Recordando...**\n",
        "###**Observações após pré-análise**:\n",
        "\n",
        "> **O que se sabe?**\n",
        "\n",
        ">1. Não há valores duplicados no df, portanto, tratamento desse tipo não é necessário.\n",
        "\n",
        "> **O que é preciso fazer?**\n",
        "\n",
        "\n",
        ">1. Mudar o nome de pelo menos 2 colunas.\n",
        "\n",
        ">2. Criar pelo menos duas novas colunas contendo alguma informação relevante sobre as outras colunas já existentes (Funções de Agrupamento, Agregação ou Joins).\n",
        "\n",
        ">3. Inserir o valor '52247.251354' (renda média) para os 24 valores ausentes da coluna 'Income'.\n",
        "\n",
        ">4. Alterar o tipo da coluna 'Dt_Customer' para data.\n",
        "\n",
        ">5. Utilizar filtros, ordenação e agrupamento, trazendo dados relevantes para o negócio em questão. (Use a sua capacidade analítica)\n",
        "\n",
        ">6. Utilizar pelo menos duas Window Functions.\n",
        "\n"
      ],
      "metadata": {
        "id": "KjgYTjrIYMae"
      }
    },
    {
      "cell_type": "markdown",
      "source": [
        "###**1. Mudar o nome de pelo menos 2 colunas.**"
      ],
      "metadata": {
        "id": "ngIFG457aWFn"
      }
    },
    {
      "cell_type": "code",
      "source": [
        "#teste\n",
        "df3 = df2"
      ],
      "metadata": {
        "id": "tzEzdOHnbNOv"
      },
      "execution_count": null,
      "outputs": []
    },
    {
      "cell_type": "code",
      "source": [
        "#teste\n",
        "df3.show()"
      ],
      "metadata": {
        "colab": {
          "base_uri": "https://localhost:8080/"
        },
        "id": "UYhdqOwKbXPP",
        "outputId": "06239a6d-7d2b-49e8-fbeb-89107d373e6d"
      },
      "execution_count": null,
      "outputs": [
        {
          "output_type": "stream",
          "name": "stdout",
          "text": [
            "+----+----------+----------+--------------+-------+-------+--------+-----------+-------+--------+---------+---------------+---------------+----------------+---------------+-----------------+---------------+-------------------+-----------------+-----------------+------------+------------+------------+------------+------------+--------+-------------+---------+--------+\n",
            "|  ID|Year_Birth| Education|Marital_Status| Income|Kidhome|Teenhome|Dt_Customer|Recency|MntWines|MntFruits|MntMeatProducts|MntFishProducts|MntSweetProducts|MntGoldProducts|NumDealsPurchases|NumWebPurchases|NumCatalogPurchases|NumStorePurchases|NumWebVisitsMonth|AcceptedCmp3|AcceptedCmp4|AcceptedCmp5|AcceptedCmp1|AcceptedCmp2|Complain|Z_CostContact|Z_Revenue|Response|\n",
            "+----+----------+----------+--------------+-------+-------+--------+-----------+-------+--------+---------+---------------+---------------+----------------+---------------+-----------------+---------------+-------------------+-----------------+-----------------+------------+------------+------------+------------+------------+--------+-------------+---------+--------+\n",
            "|5524|      1957|Graduation|        Single|58138.0|      0|       0| 2012-09-04|     58|     635|       88|            546|            172|              88|             88|                3|              8|                 10|                4|                7|           0|           0|           0|           0|           0|       0|            3|       11|       1|\n",
            "|2174|      1954|Graduation|        Single|46344.0|      1|       1| 2014-03-08|     38|      11|        1|              6|              2|               1|              6|                2|              1|                  1|                2|                5|           0|           0|           0|           0|           0|       0|            3|       11|       0|\n",
            "|4141|      1965|Graduation|      Together|71613.0|      0|       0| 2013-08-21|     26|     426|       49|            127|            111|              21|             42|                1|              8|                  2|               10|                4|           0|           0|           0|           0|           0|       0|            3|       11|       0|\n",
            "|6182|      1984|Graduation|      Together|26646.0|      1|       0| 2014-02-10|     26|      11|        4|             20|             10|               3|              5|                2|              2|                  0|                4|                6|           0|           0|           0|           0|           0|       0|            3|       11|       0|\n",
            "|5324|      1981|       PhD|       Married|58293.0|      1|       0| 2014-01-19|     94|     173|       43|            118|             46|              27|             15|                5|              5|                  3|                6|                5|           0|           0|           0|           0|           0|       0|            3|       11|       0|\n",
            "|7446|      1967|    Master|      Together|62513.0|      0|       1| 2013-09-09|     16|     520|       42|             98|              0|              42|             14|                2|              6|                  4|               10|                6|           0|           0|           0|           0|           0|       0|            3|       11|       0|\n",
            "| 965|      1971|Graduation|      Divorced|55635.0|      0|       1| 2012-11-13|     34|     235|       65|            164|             50|              49|             27|                4|              7|                  3|                7|                6|           0|           0|           0|           0|           0|       0|            3|       11|       0|\n",
            "|6177|      1985|       PhD|       Married|33454.0|      1|       0| 2013-05-08|     32|      76|       10|             56|              3|               1|             23|                2|              4|                  0|                4|                8|           0|           0|           0|           0|           0|       0|            3|       11|       0|\n",
            "|4855|      1974|       PhD|      Together|30351.0|      1|       0| 2013-06-06|     19|      14|        0|             24|              3|               3|              2|                1|              3|                  0|                2|                9|           0|           0|           0|           0|           0|       0|            3|       11|       1|\n",
            "|5899|      1950|       PhD|      Together| 5648.0|      1|       1| 2014-03-13|     68|      28|        0|              6|              1|               1|             13|                1|              1|                  0|                0|               20|           1|           0|           0|           0|           0|       0|            3|       11|       0|\n",
            "|1994|      1983|Graduation|       Married|   null|      1|       0| 2013-11-15|     11|       5|        5|              6|              0|               2|              1|                1|              1|                  0|                2|                7|           0|           0|           0|           0|           0|       0|            3|       11|       0|\n",
            "| 387|      1976|     Basic|       Married| 7500.0|      0|       0| 2012-11-13|     59|       6|       16|             11|             11|               1|             16|                1|              2|                  0|                3|                8|           0|           0|           0|           0|           0|       0|            3|       11|       0|\n",
            "|2125|      1959|Graduation|      Divorced|63033.0|      0|       0| 2013-11-15|     82|     194|       61|            480|            225|             112|             30|                1|              3|                  4|                8|                2|           0|           0|           0|           0|           0|       0|            3|       11|       0|\n",
            "|8180|      1952|    Master|      Divorced|59354.0|      1|       1| 2013-11-15|     53|     233|        2|             53|              3|               5|             14|                3|              6|                  1|                5|                6|           0|           0|           0|           0|           0|       0|            3|       11|       0|\n",
            "|2569|      1987|Graduation|       Married|17323.0|      0|       0| 2012-10-10|     38|       3|       14|             17|              6|               1|              5|                1|              1|                  0|                3|                8|           0|           0|           0|           0|           0|       0|            3|       11|       0|\n",
            "|2114|      1946|       PhD|        Single|82800.0|      0|       0| 2012-11-24|     23|    1006|       22|            115|             59|              68|             45|                1|              7|                  6|               12|                3|           0|           0|           1|           1|           0|       0|            3|       11|       1|\n",
            "|9736|      1980|Graduation|       Married|41850.0|      1|       1| 2012-12-24|     51|      53|        5|             19|              2|              13|              4|                3|              3|                  0|                3|                8|           0|           0|           0|           0|           0|       0|            3|       11|       0|\n",
            "|4939|      1946|Graduation|      Together|37760.0|      0|       0| 2012-08-31|     20|      84|        5|             38|            150|              12|             28|                2|              4|                  1|                6|                7|           0|           0|           0|           0|           0|       0|            3|       11|       0|\n",
            "|6565|      1949|    Master|       Married|76995.0|      0|       1| 2013-03-28|     91|    1012|       80|            498|              0|              16|            176|                2|             11|                  4|                9|                5|           0|           0|           0|           1|           0|       0|            3|       11|       0|\n",
            "|2278|      1985|  2n Cycle|        Single|33812.0|      1|       0| 2012-11-03|     86|       4|       17|             19|             30|              24|             39|                2|              2|                  1|                3|                6|           0|           0|           0|           0|           0|       0|            3|       11|       0|\n",
            "+----+----------+----------+--------------+-------+-------+--------+-----------+-------+--------+---------+---------------+---------------+----------------+---------------+-----------------+---------------+-------------------+-----------------+-----------------+------------+------------+------------+------------+------------+--------+-------------+---------+--------+\n",
            "only showing top 20 rows\n",
            "\n"
          ]
        }
      ]
    },
    {
      "cell_type": "code",
      "source": [
        "'''\n",
        "Mudando o nome de algumas colunas\n",
        "'''\n",
        "df3.withColumnRenamed('Year_Birth', 'YearBirth').withColumnRenamed('Marital_Status','MaritalStatus').withColumnRenamed('Dt_Customer','DtCustomer').show()\n"
      ],
      "metadata": {
        "colab": {
          "base_uri": "https://localhost:8080/"
        },
        "id": "o44OCGTtcFvP",
        "outputId": "844f8d2b-e3d2-4726-bbf6-0bf4ee96e258"
      },
      "execution_count": null,
      "outputs": [
        {
          "output_type": "stream",
          "name": "stdout",
          "text": [
            "+----+---------+----------+-------------+-------+-------+--------+----------+-------+--------+---------+---------------+---------------+----------------+---------------+-----------------+---------------+-------------------+-----------------+-----------------+------------+------------+------------+------------+------------+--------+-------------+---------+--------+\n",
            "|  ID|YearBirth| Education|MaritalStatus| Income|Kidhome|Teenhome|DtCustomer|Recency|MntWines|MntFruits|MntMeatProducts|MntFishProducts|MntSweetProducts|MntGoldProducts|NumDealsPurchases|NumWebPurchases|NumCatalogPurchases|NumStorePurchases|NumWebVisitsMonth|AcceptedCmp3|AcceptedCmp4|AcceptedCmp5|AcceptedCmp1|AcceptedCmp2|Complain|Z_CostContact|Z_Revenue|Response|\n",
            "+----+---------+----------+-------------+-------+-------+--------+----------+-------+--------+---------+---------------+---------------+----------------+---------------+-----------------+---------------+-------------------+-----------------+-----------------+------------+------------+------------+------------+------------+--------+-------------+---------+--------+\n",
            "|5524|     1957|Graduation|       Single|58138.0|      0|       0|2012-09-04|     58|     635|       88|            546|            172|              88|             88|                3|              8|                 10|                4|                7|           0|           0|           0|           0|           0|       0|            3|       11|       1|\n",
            "|2174|     1954|Graduation|       Single|46344.0|      1|       1|2014-03-08|     38|      11|        1|              6|              2|               1|              6|                2|              1|                  1|                2|                5|           0|           0|           0|           0|           0|       0|            3|       11|       0|\n",
            "|4141|     1965|Graduation|     Together|71613.0|      0|       0|2013-08-21|     26|     426|       49|            127|            111|              21|             42|                1|              8|                  2|               10|                4|           0|           0|           0|           0|           0|       0|            3|       11|       0|\n",
            "|6182|     1984|Graduation|     Together|26646.0|      1|       0|2014-02-10|     26|      11|        4|             20|             10|               3|              5|                2|              2|                  0|                4|                6|           0|           0|           0|           0|           0|       0|            3|       11|       0|\n",
            "|5324|     1981|       PhD|      Married|58293.0|      1|       0|2014-01-19|     94|     173|       43|            118|             46|              27|             15|                5|              5|                  3|                6|                5|           0|           0|           0|           0|           0|       0|            3|       11|       0|\n",
            "|7446|     1967|    Master|     Together|62513.0|      0|       1|2013-09-09|     16|     520|       42|             98|              0|              42|             14|                2|              6|                  4|               10|                6|           0|           0|           0|           0|           0|       0|            3|       11|       0|\n",
            "| 965|     1971|Graduation|     Divorced|55635.0|      0|       1|2012-11-13|     34|     235|       65|            164|             50|              49|             27|                4|              7|                  3|                7|                6|           0|           0|           0|           0|           0|       0|            3|       11|       0|\n",
            "|6177|     1985|       PhD|      Married|33454.0|      1|       0|2013-05-08|     32|      76|       10|             56|              3|               1|             23|                2|              4|                  0|                4|                8|           0|           0|           0|           0|           0|       0|            3|       11|       0|\n",
            "|4855|     1974|       PhD|     Together|30351.0|      1|       0|2013-06-06|     19|      14|        0|             24|              3|               3|              2|                1|              3|                  0|                2|                9|           0|           0|           0|           0|           0|       0|            3|       11|       1|\n",
            "|5899|     1950|       PhD|     Together| 5648.0|      1|       1|2014-03-13|     68|      28|        0|              6|              1|               1|             13|                1|              1|                  0|                0|               20|           1|           0|           0|           0|           0|       0|            3|       11|       0|\n",
            "|1994|     1983|Graduation|      Married|   null|      1|       0|2013-11-15|     11|       5|        5|              6|              0|               2|              1|                1|              1|                  0|                2|                7|           0|           0|           0|           0|           0|       0|            3|       11|       0|\n",
            "| 387|     1976|     Basic|      Married| 7500.0|      0|       0|2012-11-13|     59|       6|       16|             11|             11|               1|             16|                1|              2|                  0|                3|                8|           0|           0|           0|           0|           0|       0|            3|       11|       0|\n",
            "|2125|     1959|Graduation|     Divorced|63033.0|      0|       0|2013-11-15|     82|     194|       61|            480|            225|             112|             30|                1|              3|                  4|                8|                2|           0|           0|           0|           0|           0|       0|            3|       11|       0|\n",
            "|8180|     1952|    Master|     Divorced|59354.0|      1|       1|2013-11-15|     53|     233|        2|             53|              3|               5|             14|                3|              6|                  1|                5|                6|           0|           0|           0|           0|           0|       0|            3|       11|       0|\n",
            "|2569|     1987|Graduation|      Married|17323.0|      0|       0|2012-10-10|     38|       3|       14|             17|              6|               1|              5|                1|              1|                  0|                3|                8|           0|           0|           0|           0|           0|       0|            3|       11|       0|\n",
            "|2114|     1946|       PhD|       Single|82800.0|      0|       0|2012-11-24|     23|    1006|       22|            115|             59|              68|             45|                1|              7|                  6|               12|                3|           0|           0|           1|           1|           0|       0|            3|       11|       1|\n",
            "|9736|     1980|Graduation|      Married|41850.0|      1|       1|2012-12-24|     51|      53|        5|             19|              2|              13|              4|                3|              3|                  0|                3|                8|           0|           0|           0|           0|           0|       0|            3|       11|       0|\n",
            "|4939|     1946|Graduation|     Together|37760.0|      0|       0|2012-08-31|     20|      84|        5|             38|            150|              12|             28|                2|              4|                  1|                6|                7|           0|           0|           0|           0|           0|       0|            3|       11|       0|\n",
            "|6565|     1949|    Master|      Married|76995.0|      0|       1|2013-03-28|     91|    1012|       80|            498|              0|              16|            176|                2|             11|                  4|                9|                5|           0|           0|           0|           1|           0|       0|            3|       11|       0|\n",
            "|2278|     1985|  2n Cycle|       Single|33812.0|      1|       0|2012-11-03|     86|       4|       17|             19|             30|              24|             39|                2|              2|                  1|                3|                6|           0|           0|           0|           0|           0|       0|            3|       11|       0|\n",
            "+----+---------+----------+-------------+-------+-------+--------+----------+-------+--------+---------+---------------+---------------+----------------+---------------+-----------------+---------------+-------------------+-----------------+-----------------+------------+------------+------------+------------+------------+--------+-------------+---------+--------+\n",
            "only showing top 20 rows\n",
            "\n"
          ]
        }
      ]
    },
    {
      "cell_type": "markdown",
      "source": [
        "###**2. Criar pelo menos duas novas colunas contendo alguma informação relevante sobre as outras colunas já existentes (Funções de Agrupamento, Agregação ou Joins).**"
      ],
      "metadata": {
        "id": "dtlGTvSKYrCg"
      }
    },
    {
      "cell_type": "code",
      "source": [
        "'''\n",
        "Adicionando nova coluna (MntAllProducts)\n",
        "MntAllProducts: Apresenta a soma das colunas 'MntWines','MntFruits','MntMeatProducts','MntFishProducts','MntSweetProducts' e 'MntGoldProducts'.\n",
        "Inspiração: https://acervolima.com/pyspark-dataframe-adicionar-coluna-com-base-em-outras-colunas/\n",
        "'''\n",
        "\n",
        "df4 = df3.withColumn('MntAllProducts',\n",
        "                       df3.MntWines + df3.MntFruits + df3.MntMeatProducts + df3.MntFishProducts + df3.MntSweetProducts + df3.MntGoldProducts)\n",
        "df4.show()"
      ],
      "metadata": {
        "colab": {
          "base_uri": "https://localhost:8080/"
        },
        "id": "o9T3Q55J830e",
        "outputId": "bc9a2384-4dcb-42b1-fab0-59d15981167d"
      },
      "execution_count": null,
      "outputs": [
        {
          "output_type": "stream",
          "name": "stdout",
          "text": [
            "+----+----------+----------+--------------+-------+-------+--------+-----------+-------+--------+---------+---------------+---------------+----------------+---------------+-----------------+---------------+-------------------+-----------------+-----------------+------------+------------+------------+------------+------------+--------+-------------+---------+--------+--------------+\n",
            "|  ID|Year_Birth| Education|Marital_Status| Income|Kidhome|Teenhome|Dt_Customer|Recency|MntWines|MntFruits|MntMeatProducts|MntFishProducts|MntSweetProducts|MntGoldProducts|NumDealsPurchases|NumWebPurchases|NumCatalogPurchases|NumStorePurchases|NumWebVisitsMonth|AcceptedCmp3|AcceptedCmp4|AcceptedCmp5|AcceptedCmp1|AcceptedCmp2|Complain|Z_CostContact|Z_Revenue|Response|MntAllProducts|\n",
            "+----+----------+----------+--------------+-------+-------+--------+-----------+-------+--------+---------+---------------+---------------+----------------+---------------+-----------------+---------------+-------------------+-----------------+-----------------+------------+------------+------------+------------+------------+--------+-------------+---------+--------+--------------+\n",
            "|5524|      1957|Graduation|        Single|58138.0|      0|       0| 2012-09-04|     58|     635|       88|            546|            172|              88|             88|                3|              8|                 10|                4|                7|           0|           0|           0|           0|           0|       0|            3|       11|       1|          1617|\n",
            "|2174|      1954|Graduation|        Single|46344.0|      1|       1| 2014-03-08|     38|      11|        1|              6|              2|               1|              6|                2|              1|                  1|                2|                5|           0|           0|           0|           0|           0|       0|            3|       11|       0|            27|\n",
            "|4141|      1965|Graduation|      Together|71613.0|      0|       0| 2013-08-21|     26|     426|       49|            127|            111|              21|             42|                1|              8|                  2|               10|                4|           0|           0|           0|           0|           0|       0|            3|       11|       0|           776|\n",
            "|6182|      1984|Graduation|      Together|26646.0|      1|       0| 2014-02-10|     26|      11|        4|             20|             10|               3|              5|                2|              2|                  0|                4|                6|           0|           0|           0|           0|           0|       0|            3|       11|       0|            53|\n",
            "|5324|      1981|       PhD|       Married|58293.0|      1|       0| 2014-01-19|     94|     173|       43|            118|             46|              27|             15|                5|              5|                  3|                6|                5|           0|           0|           0|           0|           0|       0|            3|       11|       0|           422|\n",
            "|7446|      1967|    Master|      Together|62513.0|      0|       1| 2013-09-09|     16|     520|       42|             98|              0|              42|             14|                2|              6|                  4|               10|                6|           0|           0|           0|           0|           0|       0|            3|       11|       0|           716|\n",
            "| 965|      1971|Graduation|      Divorced|55635.0|      0|       1| 2012-11-13|     34|     235|       65|            164|             50|              49|             27|                4|              7|                  3|                7|                6|           0|           0|           0|           0|           0|       0|            3|       11|       0|           590|\n",
            "|6177|      1985|       PhD|       Married|33454.0|      1|       0| 2013-05-08|     32|      76|       10|             56|              3|               1|             23|                2|              4|                  0|                4|                8|           0|           0|           0|           0|           0|       0|            3|       11|       0|           169|\n",
            "|4855|      1974|       PhD|      Together|30351.0|      1|       0| 2013-06-06|     19|      14|        0|             24|              3|               3|              2|                1|              3|                  0|                2|                9|           0|           0|           0|           0|           0|       0|            3|       11|       1|            46|\n",
            "|5899|      1950|       PhD|      Together| 5648.0|      1|       1| 2014-03-13|     68|      28|        0|              6|              1|               1|             13|                1|              1|                  0|                0|               20|           1|           0|           0|           0|           0|       0|            3|       11|       0|            49|\n",
            "|1994|      1983|Graduation|       Married|   null|      1|       0| 2013-11-15|     11|       5|        5|              6|              0|               2|              1|                1|              1|                  0|                2|                7|           0|           0|           0|           0|           0|       0|            3|       11|       0|            19|\n",
            "| 387|      1976|     Basic|       Married| 7500.0|      0|       0| 2012-11-13|     59|       6|       16|             11|             11|               1|             16|                1|              2|                  0|                3|                8|           0|           0|           0|           0|           0|       0|            3|       11|       0|            61|\n",
            "|2125|      1959|Graduation|      Divorced|63033.0|      0|       0| 2013-11-15|     82|     194|       61|            480|            225|             112|             30|                1|              3|                  4|                8|                2|           0|           0|           0|           0|           0|       0|            3|       11|       0|          1102|\n",
            "|8180|      1952|    Master|      Divorced|59354.0|      1|       1| 2013-11-15|     53|     233|        2|             53|              3|               5|             14|                3|              6|                  1|                5|                6|           0|           0|           0|           0|           0|       0|            3|       11|       0|           310|\n",
            "|2569|      1987|Graduation|       Married|17323.0|      0|       0| 2012-10-10|     38|       3|       14|             17|              6|               1|              5|                1|              1|                  0|                3|                8|           0|           0|           0|           0|           0|       0|            3|       11|       0|            46|\n",
            "|2114|      1946|       PhD|        Single|82800.0|      0|       0| 2012-11-24|     23|    1006|       22|            115|             59|              68|             45|                1|              7|                  6|               12|                3|           0|           0|           1|           1|           0|       0|            3|       11|       1|          1315|\n",
            "|9736|      1980|Graduation|       Married|41850.0|      1|       1| 2012-12-24|     51|      53|        5|             19|              2|              13|              4|                3|              3|                  0|                3|                8|           0|           0|           0|           0|           0|       0|            3|       11|       0|            96|\n",
            "|4939|      1946|Graduation|      Together|37760.0|      0|       0| 2012-08-31|     20|      84|        5|             38|            150|              12|             28|                2|              4|                  1|                6|                7|           0|           0|           0|           0|           0|       0|            3|       11|       0|           317|\n",
            "|6565|      1949|    Master|       Married|76995.0|      0|       1| 2013-03-28|     91|    1012|       80|            498|              0|              16|            176|                2|             11|                  4|                9|                5|           0|           0|           0|           1|           0|       0|            3|       11|       0|          1782|\n",
            "|2278|      1985|  2n Cycle|        Single|33812.0|      1|       0| 2012-11-03|     86|       4|       17|             19|             30|              24|             39|                2|              2|                  1|                3|                6|           0|           0|           0|           0|           0|       0|            3|       11|       0|           133|\n",
            "+----+----------+----------+--------------+-------+-------+--------+-----------+-------+--------+---------+---------------+---------------+----------------+---------------+-----------------+---------------+-------------------+-----------------+-----------------+------------+------------+------------+------------+------------+--------+-------------+---------+--------+--------------+\n",
            "only showing top 20 rows\n",
            "\n"
          ]
        }
      ]
    },
    {
      "cell_type": "code",
      "source": [
        "'''\n",
        "Adicionando nova coluna (NumAllPurchases)\n",
        "NumAllPurchases: Apresenta a soma das colunas 'NumDealsPurchases','NumWebPurchases','NumCatalogPurchases','NumStorePurchases'.\n",
        "Inspiração: https://acervolima.com/pyspark-dataframe-adicionar-coluna-com-base-em-outras-colunas/\n",
        "'''\n",
        "\n",
        "df5 = df4.withColumn('NumAllPurchases',\n",
        "                       df4.NumDealsPurchases + df4.NumWebPurchases + df4.NumCatalogPurchases + df4.NumStorePurchases)\n",
        "df5.show()"
      ],
      "metadata": {
        "colab": {
          "base_uri": "https://localhost:8080/"
        },
        "id": "SveXCB0W-2OJ",
        "outputId": "22be87ae-f76b-4096-bb75-b63e565d5433"
      },
      "execution_count": null,
      "outputs": [
        {
          "output_type": "stream",
          "name": "stdout",
          "text": [
            "+----+----------+----------+--------------+-------+-------+--------+-----------+-------+--------+---------+---------------+---------------+----------------+---------------+-----------------+---------------+-------------------+-----------------+-----------------+------------+------------+------------+------------+------------+--------+-------------+---------+--------+--------------+---------------+\n",
            "|  ID|Year_Birth| Education|Marital_Status| Income|Kidhome|Teenhome|Dt_Customer|Recency|MntWines|MntFruits|MntMeatProducts|MntFishProducts|MntSweetProducts|MntGoldProducts|NumDealsPurchases|NumWebPurchases|NumCatalogPurchases|NumStorePurchases|NumWebVisitsMonth|AcceptedCmp3|AcceptedCmp4|AcceptedCmp5|AcceptedCmp1|AcceptedCmp2|Complain|Z_CostContact|Z_Revenue|Response|MntAllProducts|NumAllPurchases|\n",
            "+----+----------+----------+--------------+-------+-------+--------+-----------+-------+--------+---------+---------------+---------------+----------------+---------------+-----------------+---------------+-------------------+-----------------+-----------------+------------+------------+------------+------------+------------+--------+-------------+---------+--------+--------------+---------------+\n",
            "|5524|      1957|Graduation|        Single|58138.0|      0|       0| 2012-09-04|     58|     635|       88|            546|            172|              88|             88|                3|              8|                 10|                4|                7|           0|           0|           0|           0|           0|       0|            3|       11|       1|          1617|             25|\n",
            "|2174|      1954|Graduation|        Single|46344.0|      1|       1| 2014-03-08|     38|      11|        1|              6|              2|               1|              6|                2|              1|                  1|                2|                5|           0|           0|           0|           0|           0|       0|            3|       11|       0|            27|              6|\n",
            "|4141|      1965|Graduation|      Together|71613.0|      0|       0| 2013-08-21|     26|     426|       49|            127|            111|              21|             42|                1|              8|                  2|               10|                4|           0|           0|           0|           0|           0|       0|            3|       11|       0|           776|             21|\n",
            "|6182|      1984|Graduation|      Together|26646.0|      1|       0| 2014-02-10|     26|      11|        4|             20|             10|               3|              5|                2|              2|                  0|                4|                6|           0|           0|           0|           0|           0|       0|            3|       11|       0|            53|              8|\n",
            "|5324|      1981|       PhD|       Married|58293.0|      1|       0| 2014-01-19|     94|     173|       43|            118|             46|              27|             15|                5|              5|                  3|                6|                5|           0|           0|           0|           0|           0|       0|            3|       11|       0|           422|             19|\n",
            "|7446|      1967|    Master|      Together|62513.0|      0|       1| 2013-09-09|     16|     520|       42|             98|              0|              42|             14|                2|              6|                  4|               10|                6|           0|           0|           0|           0|           0|       0|            3|       11|       0|           716|             22|\n",
            "| 965|      1971|Graduation|      Divorced|55635.0|      0|       1| 2012-11-13|     34|     235|       65|            164|             50|              49|             27|                4|              7|                  3|                7|                6|           0|           0|           0|           0|           0|       0|            3|       11|       0|           590|             21|\n",
            "|6177|      1985|       PhD|       Married|33454.0|      1|       0| 2013-05-08|     32|      76|       10|             56|              3|               1|             23|                2|              4|                  0|                4|                8|           0|           0|           0|           0|           0|       0|            3|       11|       0|           169|             10|\n",
            "|4855|      1974|       PhD|      Together|30351.0|      1|       0| 2013-06-06|     19|      14|        0|             24|              3|               3|              2|                1|              3|                  0|                2|                9|           0|           0|           0|           0|           0|       0|            3|       11|       1|            46|              6|\n",
            "|5899|      1950|       PhD|      Together| 5648.0|      1|       1| 2014-03-13|     68|      28|        0|              6|              1|               1|             13|                1|              1|                  0|                0|               20|           1|           0|           0|           0|           0|       0|            3|       11|       0|            49|              2|\n",
            "|1994|      1983|Graduation|       Married|   null|      1|       0| 2013-11-15|     11|       5|        5|              6|              0|               2|              1|                1|              1|                  0|                2|                7|           0|           0|           0|           0|           0|       0|            3|       11|       0|            19|              4|\n",
            "| 387|      1976|     Basic|       Married| 7500.0|      0|       0| 2012-11-13|     59|       6|       16|             11|             11|               1|             16|                1|              2|                  0|                3|                8|           0|           0|           0|           0|           0|       0|            3|       11|       0|            61|              6|\n",
            "|2125|      1959|Graduation|      Divorced|63033.0|      0|       0| 2013-11-15|     82|     194|       61|            480|            225|             112|             30|                1|              3|                  4|                8|                2|           0|           0|           0|           0|           0|       0|            3|       11|       0|          1102|             16|\n",
            "|8180|      1952|    Master|      Divorced|59354.0|      1|       1| 2013-11-15|     53|     233|        2|             53|              3|               5|             14|                3|              6|                  1|                5|                6|           0|           0|           0|           0|           0|       0|            3|       11|       0|           310|             15|\n",
            "|2569|      1987|Graduation|       Married|17323.0|      0|       0| 2012-10-10|     38|       3|       14|             17|              6|               1|              5|                1|              1|                  0|                3|                8|           0|           0|           0|           0|           0|       0|            3|       11|       0|            46|              5|\n",
            "|2114|      1946|       PhD|        Single|82800.0|      0|       0| 2012-11-24|     23|    1006|       22|            115|             59|              68|             45|                1|              7|                  6|               12|                3|           0|           0|           1|           1|           0|       0|            3|       11|       1|          1315|             26|\n",
            "|9736|      1980|Graduation|       Married|41850.0|      1|       1| 2012-12-24|     51|      53|        5|             19|              2|              13|              4|                3|              3|                  0|                3|                8|           0|           0|           0|           0|           0|       0|            3|       11|       0|            96|              9|\n",
            "|4939|      1946|Graduation|      Together|37760.0|      0|       0| 2012-08-31|     20|      84|        5|             38|            150|              12|             28|                2|              4|                  1|                6|                7|           0|           0|           0|           0|           0|       0|            3|       11|       0|           317|             13|\n",
            "|6565|      1949|    Master|       Married|76995.0|      0|       1| 2013-03-28|     91|    1012|       80|            498|              0|              16|            176|                2|             11|                  4|                9|                5|           0|           0|           0|           1|           0|       0|            3|       11|       0|          1782|             26|\n",
            "|2278|      1985|  2n Cycle|        Single|33812.0|      1|       0| 2012-11-03|     86|       4|       17|             19|             30|              24|             39|                2|              2|                  1|                3|                6|           0|           0|           0|           0|           0|       0|            3|       11|       0|           133|              8|\n",
            "+----+----------+----------+--------------+-------+-------+--------+-----------+-------+--------+---------+---------------+---------------+----------------+---------------+-----------------+---------------+-------------------+-----------------+-----------------+------------+------------+------------+------------+------------+--------+-------------+---------+--------+--------------+---------------+\n",
            "only showing top 20 rows\n",
            "\n"
          ]
        }
      ]
    },
    {
      "cell_type": "markdown",
      "source": [
        "###**3. Inserir o valor '52247.251354' (renda média) para os 24 valores ausentes da coluna 'Income'...**"
      ],
      "metadata": {
        "id": "nGqLjYDpatv2"
      }
    },
    {
      "cell_type": "code",
      "source": [
        "'''\n",
        "Identifica os valores ausentes da coluna 'Renda' e substitui por \n",
        "'52247.251354' (renda média).\n",
        "'''\n",
        "df5 = df5.fillna(value=52247.251354, subset=['Income'])\n",
        "df5.show()"
      ],
      "metadata": {
        "colab": {
          "base_uri": "https://localhost:8080/"
        },
        "id": "CrrHU5c-Cuxb",
        "outputId": "ce489965-32dd-408e-c268-5e9b9e87653f"
      },
      "execution_count": null,
      "outputs": [
        {
          "output_type": "stream",
          "name": "stdout",
          "text": [
            "+----+----------+----------+--------------+--------+-------+--------+-----------+-------+--------+---------+---------------+---------------+----------------+---------------+-----------------+---------------+-------------------+-----------------+-----------------+------------+------------+------------+------------+------------+--------+-------------+---------+--------+--------------+---------------+\n",
            "|  ID|Year_Birth| Education|Marital_Status|  Income|Kidhome|Teenhome|Dt_Customer|Recency|MntWines|MntFruits|MntMeatProducts|MntFishProducts|MntSweetProducts|MntGoldProducts|NumDealsPurchases|NumWebPurchases|NumCatalogPurchases|NumStorePurchases|NumWebVisitsMonth|AcceptedCmp3|AcceptedCmp4|AcceptedCmp5|AcceptedCmp1|AcceptedCmp2|Complain|Z_CostContact|Z_Revenue|Response|MntAllProducts|NumAllPurchases|\n",
            "+----+----------+----------+--------------+--------+-------+--------+-----------+-------+--------+---------+---------------+---------------+----------------+---------------+-----------------+---------------+-------------------+-----------------+-----------------+------------+------------+------------+------------+------------+--------+-------------+---------+--------+--------------+---------------+\n",
            "|5524|      1957|Graduation|        Single| 58138.0|      0|       0| 2012-09-04|     58|     635|       88|            546|            172|              88|             88|                3|              8|                 10|                4|                7|           0|           0|           0|           0|           0|       0|            3|       11|       1|          1617|             25|\n",
            "|2174|      1954|Graduation|        Single| 46344.0|      1|       1| 2014-03-08|     38|      11|        1|              6|              2|               1|              6|                2|              1|                  1|                2|                5|           0|           0|           0|           0|           0|       0|            3|       11|       0|            27|              6|\n",
            "|4141|      1965|Graduation|      Together| 71613.0|      0|       0| 2013-08-21|     26|     426|       49|            127|            111|              21|             42|                1|              8|                  2|               10|                4|           0|           0|           0|           0|           0|       0|            3|       11|       0|           776|             21|\n",
            "|6182|      1984|Graduation|      Together| 26646.0|      1|       0| 2014-02-10|     26|      11|        4|             20|             10|               3|              5|                2|              2|                  0|                4|                6|           0|           0|           0|           0|           0|       0|            3|       11|       0|            53|              8|\n",
            "|5324|      1981|       PhD|       Married| 58293.0|      1|       0| 2014-01-19|     94|     173|       43|            118|             46|              27|             15|                5|              5|                  3|                6|                5|           0|           0|           0|           0|           0|       0|            3|       11|       0|           422|             19|\n",
            "|7446|      1967|    Master|      Together| 62513.0|      0|       1| 2013-09-09|     16|     520|       42|             98|              0|              42|             14|                2|              6|                  4|               10|                6|           0|           0|           0|           0|           0|       0|            3|       11|       0|           716|             22|\n",
            "| 965|      1971|Graduation|      Divorced| 55635.0|      0|       1| 2012-11-13|     34|     235|       65|            164|             50|              49|             27|                4|              7|                  3|                7|                6|           0|           0|           0|           0|           0|       0|            3|       11|       0|           590|             21|\n",
            "|6177|      1985|       PhD|       Married| 33454.0|      1|       0| 2013-05-08|     32|      76|       10|             56|              3|               1|             23|                2|              4|                  0|                4|                8|           0|           0|           0|           0|           0|       0|            3|       11|       0|           169|             10|\n",
            "|4855|      1974|       PhD|      Together| 30351.0|      1|       0| 2013-06-06|     19|      14|        0|             24|              3|               3|              2|                1|              3|                  0|                2|                9|           0|           0|           0|           0|           0|       0|            3|       11|       1|            46|              6|\n",
            "|5899|      1950|       PhD|      Together|  5648.0|      1|       1| 2014-03-13|     68|      28|        0|              6|              1|               1|             13|                1|              1|                  0|                0|               20|           1|           0|           0|           0|           0|       0|            3|       11|       0|            49|              2|\n",
            "|1994|      1983|Graduation|       Married|52247.25|      1|       0| 2013-11-15|     11|       5|        5|              6|              0|               2|              1|                1|              1|                  0|                2|                7|           0|           0|           0|           0|           0|       0|            3|       11|       0|            19|              4|\n",
            "| 387|      1976|     Basic|       Married|  7500.0|      0|       0| 2012-11-13|     59|       6|       16|             11|             11|               1|             16|                1|              2|                  0|                3|                8|           0|           0|           0|           0|           0|       0|            3|       11|       0|            61|              6|\n",
            "|2125|      1959|Graduation|      Divorced| 63033.0|      0|       0| 2013-11-15|     82|     194|       61|            480|            225|             112|             30|                1|              3|                  4|                8|                2|           0|           0|           0|           0|           0|       0|            3|       11|       0|          1102|             16|\n",
            "|8180|      1952|    Master|      Divorced| 59354.0|      1|       1| 2013-11-15|     53|     233|        2|             53|              3|               5|             14|                3|              6|                  1|                5|                6|           0|           0|           0|           0|           0|       0|            3|       11|       0|           310|             15|\n",
            "|2569|      1987|Graduation|       Married| 17323.0|      0|       0| 2012-10-10|     38|       3|       14|             17|              6|               1|              5|                1|              1|                  0|                3|                8|           0|           0|           0|           0|           0|       0|            3|       11|       0|            46|              5|\n",
            "|2114|      1946|       PhD|        Single| 82800.0|      0|       0| 2012-11-24|     23|    1006|       22|            115|             59|              68|             45|                1|              7|                  6|               12|                3|           0|           0|           1|           1|           0|       0|            3|       11|       1|          1315|             26|\n",
            "|9736|      1980|Graduation|       Married| 41850.0|      1|       1| 2012-12-24|     51|      53|        5|             19|              2|              13|              4|                3|              3|                  0|                3|                8|           0|           0|           0|           0|           0|       0|            3|       11|       0|            96|              9|\n",
            "|4939|      1946|Graduation|      Together| 37760.0|      0|       0| 2012-08-31|     20|      84|        5|             38|            150|              12|             28|                2|              4|                  1|                6|                7|           0|           0|           0|           0|           0|       0|            3|       11|       0|           317|             13|\n",
            "|6565|      1949|    Master|       Married| 76995.0|      0|       1| 2013-03-28|     91|    1012|       80|            498|              0|              16|            176|                2|             11|                  4|                9|                5|           0|           0|           0|           1|           0|       0|            3|       11|       0|          1782|             26|\n",
            "|2278|      1985|  2n Cycle|        Single| 33812.0|      1|       0| 2012-11-03|     86|       4|       17|             19|             30|              24|             39|                2|              2|                  1|                3|                6|           0|           0|           0|           0|           0|       0|            3|       11|       0|           133|              8|\n",
            "+----+----------+----------+--------------+--------+-------+--------+-----------+-------+--------+---------+---------------+---------------+----------------+---------------+-----------------+---------------+-------------------+-----------------+-----------------+------------+------------+------------+------------+------------+--------+-------------+---------+--------+--------------+---------------+\n",
            "only showing top 20 rows\n",
            "\n"
          ]
        }
      ]
    },
    {
      "cell_type": "markdown",
      "source": [
        "###**4. Alterar o tipo da coluna 'Dt_Customer' para data.**"
      ],
      "metadata": {
        "id": "TerFwkMBan-G"
      }
    },
    {
      "cell_type": "code",
      "source": [
        "'''\n",
        "Alterando o tipo da coluna 'Dt_Customer' para 'date'.\n",
        "'''\n",
        "df5 = df5.withColumn(\"Dt_Customer\", \n",
        "                                  df5[\"Dt_Customer\"]\n",
        "                                  .cast('date'))\n",
        "df5.printSchema()"
      ],
      "metadata": {
        "colab": {
          "base_uri": "https://localhost:8080/"
        },
        "id": "PI23eMo1FUyc",
        "outputId": "90bd3636-5049-4d28-a1d3-2b0832fdee47"
      },
      "execution_count": null,
      "outputs": [
        {
          "output_type": "stream",
          "name": "stdout",
          "text": [
            "root\n",
            " |-- ID: integer (nullable = true)\n",
            " |-- Year_Birth: integer (nullable = true)\n",
            " |-- Education: string (nullable = true)\n",
            " |-- Marital_Status: string (nullable = true)\n",
            " |-- Income: float (nullable = false)\n",
            " |-- Kidhome: integer (nullable = true)\n",
            " |-- Teenhome: integer (nullable = true)\n",
            " |-- Dt_Customer: date (nullable = true)\n",
            " |-- Recency: integer (nullable = true)\n",
            " |-- MntWines: integer (nullable = true)\n",
            " |-- MntFruits: integer (nullable = true)\n",
            " |-- MntMeatProducts: integer (nullable = true)\n",
            " |-- MntFishProducts: integer (nullable = true)\n",
            " |-- MntSweetProducts: integer (nullable = true)\n",
            " |-- MntGoldProducts: integer (nullable = true)\n",
            " |-- NumDealsPurchases: integer (nullable = true)\n",
            " |-- NumWebPurchases: integer (nullable = true)\n",
            " |-- NumCatalogPurchases: integer (nullable = true)\n",
            " |-- NumStorePurchases: integer (nullable = true)\n",
            " |-- NumWebVisitsMonth: integer (nullable = true)\n",
            " |-- AcceptedCmp3: integer (nullable = true)\n",
            " |-- AcceptedCmp4: integer (nullable = true)\n",
            " |-- AcceptedCmp5: integer (nullable = true)\n",
            " |-- AcceptedCmp1: integer (nullable = true)\n",
            " |-- AcceptedCmp2: integer (nullable = true)\n",
            " |-- Complain: integer (nullable = true)\n",
            " |-- Z_CostContact: integer (nullable = true)\n",
            " |-- Z_Revenue: integer (nullable = true)\n",
            " |-- Response: integer (nullable = true)\n",
            " |-- MntAllProducts: integer (nullable = true)\n",
            " |-- NumAllPurchases: integer (nullable = true)\n",
            "\n"
          ]
        }
      ]
    },
    {
      "cell_type": "markdown",
      "source": [
        "###**5. Utilizar filtros, ordenação e agrupamento, trazendo dados relevantes para o negócio em questão. (Use a sua capacidade analítica)**"
      ],
      "metadata": {
        "id": "RiemW4_rZS24"
      }
    },
    {
      "cell_type": "code",
      "source": [
        "'''\n",
        "Aplicando filtros\n",
        "'''\n",
        "'''\n",
        "Função: Filtro para trazer as informações dos clientes que gastaram mais de 2500, considerando a soma de todos os produtos.\n",
        "'''\n",
        "df5.filter((F.col('MntAllProducts') > 2500)).show()"
      ],
      "metadata": {
        "colab": {
          "base_uri": "https://localhost:8080/"
        },
        "id": "YI0_pnAc-GyC",
        "outputId": "876bf5b8-5178-4440-c62e-4042bb4df77f"
      },
      "execution_count": null,
      "outputs": [
        {
          "output_type": "stream",
          "name": "stdout",
          "text": [
            "+----+----------+----------+--------------+-------+-------+--------+-----------+-------+--------+---------+---------------+---------------+----------------+---------------+-----------------+---------------+-------------------+-----------------+-----------------+------------+------------+------------+------------+------------+--------+-------------+---------+--------+--------------+---------------+\n",
            "|  ID|Year_Birth| Education|Marital_Status| Income|Kidhome|Teenhome|Dt_Customer|Recency|MntWines|MntFruits|MntMeatProducts|MntFishProducts|MntSweetProducts|MntGoldProducts|NumDealsPurchases|NumWebPurchases|NumCatalogPurchases|NumStorePurchases|NumWebVisitsMonth|AcceptedCmp3|AcceptedCmp4|AcceptedCmp5|AcceptedCmp1|AcceptedCmp2|Complain|Z_CostContact|Z_Revenue|Response|MntAllProducts|NumAllPurchases|\n",
            "+----+----------+----------+--------------+-------+-------+--------+-----------+-------+--------+---------+---------------+---------------+----------------+---------------+-----------------+---------------+-------------------+-----------------+-----------------+------------+------------+------------+------------+------------+--------+-------------+---------+--------+--------------+---------------+\n",
            "|5735|      1991|    Master|        Single|90638.0|      0|       0| 2014-02-13|     29|    1156|      120|            915|             94|             144|             96|                1|              3|                  4|               10|                1|           0|           0|           1|           0|           0|       0|            3|       11|       0|          2525|             18|\n",
            "|1763|      1988|Graduation|      Together|87679.0|      0|       0| 2013-07-27|     62|    1259|      172|            815|             97|             148|             33|                1|              7|                 11|               10|                4|           1|           0|           1|           1|           0|       0|            3|       11|       1|          2524|             29|\n",
            "|5350|      1991|    Master|        Single|90638.0|      0|       0| 2014-02-13|     29|    1156|      120|            915|             94|             144|             96|                1|              3|                  4|               10|                1|           0|           0|           1|           0|           0|       0|            3|       11|       1|          2525|             18|\n",
            "+----+----------+----------+--------------+-------+-------+--------+-----------+-------+--------+---------+---------------+---------------+----------------+---------------+-----------------+---------------+-------------------+-----------------+-----------------+------------+------------+------------+------------+------------+--------+-------------+---------+--------+--------------+---------------+\n",
            "\n"
          ]
        }
      ]
    },
    {
      "cell_type": "code",
      "source": [
        "'''\n",
        "Função: SORT ASC - Ordenação pela coluna 'Year_Birth' em ordem ascendente.\n",
        "'''\n",
        "df5.sort(F.col('Year_Birth').asc()).show()"
      ],
      "metadata": {
        "colab": {
          "base_uri": "https://localhost:8080/"
        },
        "id": "JoKkTjtUWqIR",
        "outputId": "b9754d49-ede9-443b-b1a9-2add324db3ca"
      },
      "execution_count": null,
      "outputs": [
        {
          "output_type": "stream",
          "name": "stdout",
          "text": [
            "+-----+----------+----------+--------------+--------+-------+--------+-----------+-------+--------+---------+---------------+---------------+----------------+---------------+-----------------+---------------+-------------------+-----------------+-----------------+------------+------------+------------+------------+------------+--------+-------------+---------+--------+--------------+---------------+\n",
            "|   ID|Year_Birth| Education|Marital_Status|  Income|Kidhome|Teenhome|Dt_Customer|Recency|MntWines|MntFruits|MntMeatProducts|MntFishProducts|MntSweetProducts|MntGoldProducts|NumDealsPurchases|NumWebPurchases|NumCatalogPurchases|NumStorePurchases|NumWebVisitsMonth|AcceptedCmp3|AcceptedCmp4|AcceptedCmp5|AcceptedCmp1|AcceptedCmp2|Complain|Z_CostContact|Z_Revenue|Response|MntAllProducts|NumAllPurchases|\n",
            "+-----+----------+----------+--------------+--------+-------+--------+-----------+-------+--------+---------+---------------+---------------+----------------+---------------+-----------------+---------------+-------------------+-----------------+-----------------+------------+------------+------------+------------+------------+--------+-------------+---------+--------+--------------+---------------+\n",
            "|11004|      1893|  2n Cycle|        Single| 60182.0|      0|       1| 2014-05-17|     23|       8|        0|              5|              7|               0|              2|                1|              1|                  0|                2|                4|           0|           0|           0|           0|           0|       0|            3|       11|       0|            22|              4|\n",
            "| 1150|      1899|       PhD|      Together| 83532.0|      0|       0| 2013-09-26|     36|     755|      144|            562|            104|              64|            224|                1|              4|                  6|                4|                1|           0|           0|           1|           0|           0|       0|            3|       11|       0|          1853|             15|\n",
            "| 7829|      1900|  2n Cycle|      Divorced| 36640.0|      1|       0| 2013-09-26|     99|      15|        6|              8|              7|               4|             25|                1|              2|                  1|                2|                5|           0|           0|           0|           0|           0|       1|            3|       11|       0|            65|              6|\n",
            "| 6663|      1940|       PhD|        Single| 51141.0|      0|       0| 2013-07-08|     96|     144|        0|              7|              0|               0|              6|                1|              3|                  1|                4|                5|           0|           0|           0|           0|           0|       0|            3|       11|       0|           157|              9|\n",
            "| 6932|      1941|       PhD|       Married| 93027.0|      0|       0| 2013-04-13|     77|    1285|       42|            716|             55|               0|             21|                0|              7|                 10|                5|                2|           0|           0|           1|           0|           0|       0|            3|       11|       0|          2119|             22|\n",
            "| 6142|      1943|    Master|       Married| 65073.0|      0|       0| 2013-08-20|     65|     629|       17|            177|             69|               0|              8|                1|              5|                  3|                5|                2|           0|           0|           0|           0|           0|       1|            3|       11|       0|           900|             14|\n",
            "| 7106|      1943|       PhD|       Married| 75865.0|      0|       0| 2014-03-31|     73|     483|        0|            591|            156|               0|             12|                1|              3|                  5|               10|                1|           0|           0|           0|           0|           0|       0|            3|       11|       0|          1242|             19|\n",
            "| 4994|      1943|    Master|        Single| 77598.0|      0|       0| 2013-10-01|     53|    1193|       33|            281|            129|              66|             33|                1|              7|                  5|               13|                3|           0|           0|           1|           0|           0|       0|            3|       11|       0|          1735|             26|\n",
            "| 5250|      1943|    Master|         Widow|52247.25|      0|       0| 2013-10-30|     75|     532|      126|            490|            164|             126|            126|                1|              5|                  5|               11|                1|           0|           0|           1|           0|           0|       0|            3|       11|       1|          1564|             22|\n",
            "| 2968|      1943|       PhD|      Divorced| 48948.0|      0|       0| 2013-02-01|     53|     437|        8|            206|            160|              49|             42|                2|              7|                 10|                5|                6|           1|           0|           0|           0|           0|       0|            3|       11|       1|           902|             24|\n",
            "| 8800|      1943|       PhD|      Divorced| 48948.0|      0|       0| 2013-02-01|     53|     437|        8|            206|            160|              49|             42|                2|              7|                 10|                5|                6|           1|           0|           0|           0|           0|       0|            3|       11|       1|           902|             24|\n",
            "| 1453|      1943|       PhD|         Widow| 57513.0|      0|       0| 2013-07-06|     59|     735|       40|            183|             52|              20|             30|                2|              9|                  3|               13|                6|           0|           0|           0|           0|           0|       0|            3|       11|       0|          1060|             27|\n",
            "|  466|      1944|Graduation|       Married| 65275.0|      0|       0| 2013-04-03|      9|     388|       14|            218|             91|              14|             21|                1|              4|                  3|               13|                2|           0|           0|           0|           0|           0|       0|            3|       11|       0|           746|             21|\n",
            "| 9930|      1944|       PhD|        Single| 82716.0|      0|       0| 2013-11-05|      8|     606|      148|            228|             15|             148|             22|                1|              6|                  8|               13|                2|           0|           0|           0|           0|           0|       0|            3|       11|       0|          1167|             28|\n",
            "| 3711|      1944|    Master|       Married| 80184.0|      0|       0| 2014-03-01|     19|    1035|      134|            670|             25|              38|              0|                1|              6|                  3|               10|                3|           0|           0|           1|           1|           0|       0|            3|       11|       0|          1902|             20|\n",
            "| 4587|      1944|    Master|         Widow| 45006.0|      0|       0| 2013-07-18|     90|     162|       25|             53|             16|               0|             10|                1|              3|                  1|                7|                3|           0|           0|           0|           0|           0|       0|            3|       11|       0|           266|             12|\n",
            "| 1740|      1944|Graduation|       Married| 55956.0|      0|       0| 2014-04-07|     22|     760|       38|            104|             50|               9|             38|                2|              7|                  3|                4|                4|           0|           1|           0|           0|           0|       0|            3|       11|       0|           999|             16|\n",
            "| 6605|      1944|       PhD|      Divorced| 55614.0|      0|       0| 2013-11-27|     85|     504|       13|            131|              8|               0|             26|                1|              9|                  4|                6|                7|           0|           1|           0|           0|           0|       0|            3|       11|       0|           682|             20|\n",
            "| 4310|      1944|Graduation|       Married| 80589.0|      0|       0| 2014-01-22|     25|     507|       93|            520|            242|              40|             26|                1|              5|                 10|                5|                1|           0|           0|           0|           1|           0|       0|            3|       11|       1|          1428|             21|\n",
            "| 9260|      1945|       PhD|       Married| 70356.0|      0|       0| 2012-11-05|     20|    1349|       16|            249|             43|              16|             33|                2|             10|                  6|                9|                6|           0|           0|           0|           0|           0|       0|            3|       11|       0|          1706|             27|\n",
            "+-----+----------+----------+--------------+--------+-------+--------+-----------+-------+--------+---------+---------------+---------------+----------------+---------------+-----------------+---------------+-------------------+-----------------+-----------------+------------+------------+------------+------------+------------+--------+-------------+---------+--------+--------------+---------------+\n",
            "only showing top 20 rows\n",
            "\n"
          ]
        }
      ]
    },
    {
      "cell_type": "code",
      "source": [
        "'''\n",
        "Função: GROUP BY - Agrupamento pela coluna 'Marital_Status'.\n",
        "'''\n",
        "df5.groupBy('Marital_Status').count().show()"
      ],
      "metadata": {
        "colab": {
          "base_uri": "https://localhost:8080/"
        },
        "id": "rHVax5a4aRKL",
        "outputId": "4e541c92-7080-48a3-9e06-fd62ff9ccc55"
      },
      "execution_count": null,
      "outputs": [
        {
          "output_type": "stream",
          "name": "stdout",
          "text": [
            "+--------------+-----+\n",
            "|Marital_Status|count|\n",
            "+--------------+-----+\n",
            "|          YOLO|    2|\n",
            "|      Together|  580|\n",
            "|       Married|  864|\n",
            "|        Absurd|    2|\n",
            "|         Widow|   77|\n",
            "|      Divorced|  232|\n",
            "|         Alone|    3|\n",
            "|        Single|  480|\n",
            "+--------------+-----+\n",
            "\n"
          ]
        }
      ]
    },
    {
      "cell_type": "markdown",
      "source": [
        "###**6. Utilizar pelo menos duas Window Functions.**"
      ],
      "metadata": {
        "id": "7LKZe2YNZcZT"
      }
    },
    {
      "cell_type": "code",
      "source": [
        "'''\n",
        "Particionado os dados usando 'Window.partitionBy()'\n",
        "'''\n",
        "w0 = Window.partitionBy(F.col('Education')).orderBy('Income')"
      ],
      "metadata": {
        "id": "3qUqk6HibFvR"
      },
      "execution_count": null,
      "outputs": []
    },
    {
      "cell_type": "code",
      "source": [
        "'''\n",
        "Window Functions 1: RANK\n",
        "'''\n",
        "df5.withColumn('rank', F.rank().over(w0)).show()"
      ],
      "metadata": {
        "id": "H6F3upUSgw8F",
        "colab": {
          "base_uri": "https://localhost:8080/"
        },
        "outputId": "559e8bad-e5de-4c8d-db4c-9b87c7795c50"
      },
      "execution_count": null,
      "outputs": [
        {
          "output_type": "stream",
          "name": "stdout",
          "text": [
            "+-----+----------+---------+--------------+-------+-------+--------+-----------+-------+--------+---------+---------------+---------------+----------------+---------------+-----------------+---------------+-------------------+-----------------+-----------------+------------+------------+------------+------------+------------+--------+-------------+---------+--------+--------------+---------------+----+\n",
            "|   ID|Year_Birth|Education|Marital_Status| Income|Kidhome|Teenhome|Dt_Customer|Recency|MntWines|MntFruits|MntMeatProducts|MntFishProducts|MntSweetProducts|MntGoldProducts|NumDealsPurchases|NumWebPurchases|NumCatalogPurchases|NumStorePurchases|NumWebVisitsMonth|AcceptedCmp3|AcceptedCmp4|AcceptedCmp5|AcceptedCmp1|AcceptedCmp2|Complain|Z_CostContact|Z_Revenue|Response|MntAllProducts|NumAllPurchases|rank|\n",
            "+-----+----------+---------+--------------+-------+-------+--------+-----------+-------+--------+---------+---------------+---------------+----------------+---------------+-----------------+---------------+-------------------+-----------------+-----------------+------------+------------+------------+------------+------------+--------+-------------+---------+--------+--------------+---------------+----+\n",
            "| 9909|      1996| 2n Cycle|       Married| 7500.0|      0|       0| 2012-11-09|     24|       3|       18|             14|             15|              22|             50|                3|              3|                  1|                3|                9|           0|           0|           0|           0|           0|       0|            3|       11|       1|           122|             10|   1|\n",
            "|  456|      1986| 2n Cycle|       Married| 7500.0|      1|       0| 2013-02-07|     96|       1|       11|              5|              4|               6|              9|                2|              2|                  0|                3|                8|           0|           0|           0|           0|           0|       0|            3|       11|       0|            36|              7|   1|\n",
            "|10001|      1985| 2n Cycle|      Together| 7500.0|      1|       0| 2012-08-01|     98|       5|       17|             17|             13|              14|             34|                4|              2|                  1|                3|                9|           0|           0|           0|           0|           0|       0|            3|       11|       0|           100|             10|   1|\n",
            "|10659|      1979| 2n Cycle|      Together| 7500.0|      1|       0| 2013-05-07|      7|       2|        8|             11|              3|               8|             21|                4|              3|                  2|                2|                7|           0|           0|           0|           0|           0|       0|            3|       11|       0|            53|             11|   1|\n",
            "| 5987|      1989| 2n Cycle|      Together|10404.0|      1|       0| 2014-05-04|     52|       2|        2|             11|             10|               6|             12|                2|              1|                  0|                4|                5|           0|           0|           0|           0|           0|       0|            3|       11|       0|            43|              7|   5|\n",
            "|10241|      1975| 2n Cycle|      Divorced|11448.0|      0|       0| 2013-12-15|     16|       0|        0|              0|              6|               2|              6|                1|              1|                  0|                2|                6|           0|           0|           0|           0|           0|       0|            3|       11|       0|            14|              4|   6|\n",
            "| 1773|      1978| 2n Cycle|       Married|12393.0|      0|       0| 2012-12-04|     38|       5|        6|             15|             11|               7|             13|                1|              2|                  0|                3|                9|           0|           0|           0|           0|           0|       0|            3|       11|       0|            57|              6|   7|\n",
            "| 8812|      1979| 2n Cycle|      Divorced|13533.0|      1|       0| 2013-03-10|     45|      12|        3|              8|              8|               0|             17|                2|              2|                  0|                3|                7|           0|           0|           0|           0|           0|       0|            3|       11|       0|            48|              7|   8|\n",
            "| 8213|      1980| 2n Cycle|      Together|14515.0|      1|       0| 2012-11-09|     71|       6|        4|              9|              6|              36|             35|                4|              2|                  2|                3|                7|           0|           0|           0|           0|           0|       0|            3|       11|       1|            96|             11|   9|\n",
            "| 1241|      1984| 2n Cycle|       Married|14796.0|      1|       0| 2012-09-17|      1|      13|        3|              8|              7|               4|             16|                2|              1|                  0|                3|                9|           0|           0|           0|           0|           0|       0|            3|       11|       1|            51|              6|  10|\n",
            "| 8420|      1970| 2n Cycle|       Married|15315.0|      0|       0| 2013-08-03|     27|       7|        4|             13|             15|               8|             17|                2|              2|                  0|                4|                5|           0|           0|           0|           0|           0|       0|            3|       11|       0|            64|              8|  11|\n",
            "|10065|      1970| 2n Cycle|       Married|15315.0|      0|       0| 2013-08-03|     27|       7|        4|             13|             15|               8|             17|                2|              2|                  0|                4|                5|           0|           0|           0|           0|           0|       0|            3|       11|       0|            64|              8|  11|\n",
            "|10995|      1988| 2n Cycle|       Married|15716.0|      1|       0| 2012-11-12|      8|      16|        5|             30|              8|               7|             26|                3|              3|                  0|                4|                8|           0|           0|           0|           0|           0|       1|            3|       11|       0|            92|             10|  13|\n",
            "| 3559|      1988| 2n Cycle|       Married|16248.0|      1|       0| 2014-05-10|     77|      12|       11|             10|              3|              12|              9|                3|              2|                  1|                3|                6|           0|           0|           0|           0|           0|       0|            3|       11|       0|            57|              9|  14|\n",
            "| 7235|      1975| 2n Cycle|       Married|17003.0|      1|       0| 2013-12-09|     37|       2|        5|             12|              4|               8|              7|                3|              2|                  0|                4|                5|           0|           0|           0|           0|           0|       0|            3|       11|       0|            38|              9|  15|\n",
            "| 3270|      1978| 2n Cycle|      Together|17117.0|      1|       0| 2013-01-17|     96|      12|       23|             38|             30|              18|              7|                4|              3|                  1|                3|                9|           0|           0|           0|           0|           0|       0|            3|       11|       0|           128|             11|  16|\n",
            "| 3102|      1981| 2n Cycle|      Together|19414.0|      1|       0| 2013-10-16|     32|       2|        3|             12|              3|               5|              7|                1|              1|                  0|                3|                8|           0|           0|           0|           0|           0|       0|            3|       11|       0|            32|              5|  17|\n",
            "| 6504|      1975| 2n Cycle|      Together|19789.0|      1|       0| 2013-11-20|     24|       2|        5|              9|             28|               6|             28|                3|              2|                  1|                3|                5|           1|           0|           0|           0|           0|       0|            3|       11|       0|            78|              9|  18|\n",
            "| 2106|      1974| 2n Cycle|       Married|20130.0|      0|       0| 2014-03-17|     99|       0|        6|              3|              7|               6|             12|                1|              1|                  0|                3|                8|           0|           0|           0|           0|           0|       0|            3|       11|       0|            34|              5|  19|\n",
            "| 3363|      1974| 2n Cycle|       Married|20130.0|      0|       0| 2014-03-17|     99|       0|        6|              3|              7|               6|             12|                1|              1|                  0|                3|                8|           0|           0|           0|           0|           0|       0|            3|       11|       0|            34|              5|  19|\n",
            "+-----+----------+---------+--------------+-------+-------+--------+-----------+-------+--------+---------+---------------+---------------+----------------+---------------+-----------------+---------------+-------------------+-----------------+-----------------+------------+------------+------------+------------+------------+--------+-------------+---------+--------+--------------+---------------+----+\n",
            "only showing top 20 rows\n",
            "\n"
          ]
        }
      ]
    },
    {
      "cell_type": "code",
      "source": [
        "'''\n",
        "Window Functions 2: LEAD\n",
        "'''\n",
        "df5.withColumn('lead', F.lead('Income',1).over(w0)).show()"
      ],
      "metadata": {
        "colab": {
          "base_uri": "https://localhost:8080/"
        },
        "id": "pCyVZbl6dO8L",
        "outputId": "f6ed21b3-0a31-4937-bcc8-e81130bfc135"
      },
      "execution_count": null,
      "outputs": [
        {
          "output_type": "stream",
          "name": "stdout",
          "text": [
            "+-----+----------+---------+--------------+-------+-------+--------+-----------+-------+--------+---------+---------------+---------------+----------------+---------------+-----------------+---------------+-------------------+-----------------+-----------------+------------+------------+------------+------------+------------+--------+-------------+---------+--------+--------------+---------------+-------+\n",
            "|   ID|Year_Birth|Education|Marital_Status| Income|Kidhome|Teenhome|Dt_Customer|Recency|MntWines|MntFruits|MntMeatProducts|MntFishProducts|MntSweetProducts|MntGoldProducts|NumDealsPurchases|NumWebPurchases|NumCatalogPurchases|NumStorePurchases|NumWebVisitsMonth|AcceptedCmp3|AcceptedCmp4|AcceptedCmp5|AcceptedCmp1|AcceptedCmp2|Complain|Z_CostContact|Z_Revenue|Response|MntAllProducts|NumAllPurchases|   lead|\n",
            "+-----+----------+---------+--------------+-------+-------+--------+-----------+-------+--------+---------+---------------+---------------+----------------+---------------+-----------------+---------------+-------------------+-----------------+-----------------+------------+------------+------------+------------+------------+--------+-------------+---------+--------+--------------+---------------+-------+\n",
            "| 9909|      1996| 2n Cycle|       Married| 7500.0|      0|       0| 2012-11-09|     24|       3|       18|             14|             15|              22|             50|                3|              3|                  1|                3|                9|           0|           0|           0|           0|           0|       0|            3|       11|       1|           122|             10| 7500.0|\n",
            "|  456|      1986| 2n Cycle|       Married| 7500.0|      1|       0| 2013-02-07|     96|       1|       11|              5|              4|               6|              9|                2|              2|                  0|                3|                8|           0|           0|           0|           0|           0|       0|            3|       11|       0|            36|              7| 7500.0|\n",
            "|10001|      1985| 2n Cycle|      Together| 7500.0|      1|       0| 2012-08-01|     98|       5|       17|             17|             13|              14|             34|                4|              2|                  1|                3|                9|           0|           0|           0|           0|           0|       0|            3|       11|       0|           100|             10| 7500.0|\n",
            "|10659|      1979| 2n Cycle|      Together| 7500.0|      1|       0| 2013-05-07|      7|       2|        8|             11|              3|               8|             21|                4|              3|                  2|                2|                7|           0|           0|           0|           0|           0|       0|            3|       11|       0|            53|             11|10404.0|\n",
            "| 5987|      1989| 2n Cycle|      Together|10404.0|      1|       0| 2014-05-04|     52|       2|        2|             11|             10|               6|             12|                2|              1|                  0|                4|                5|           0|           0|           0|           0|           0|       0|            3|       11|       0|            43|              7|11448.0|\n",
            "|10241|      1975| 2n Cycle|      Divorced|11448.0|      0|       0| 2013-12-15|     16|       0|        0|              0|              6|               2|              6|                1|              1|                  0|                2|                6|           0|           0|           0|           0|           0|       0|            3|       11|       0|            14|              4|12393.0|\n",
            "| 1773|      1978| 2n Cycle|       Married|12393.0|      0|       0| 2012-12-04|     38|       5|        6|             15|             11|               7|             13|                1|              2|                  0|                3|                9|           0|           0|           0|           0|           0|       0|            3|       11|       0|            57|              6|13533.0|\n",
            "| 8812|      1979| 2n Cycle|      Divorced|13533.0|      1|       0| 2013-03-10|     45|      12|        3|              8|              8|               0|             17|                2|              2|                  0|                3|                7|           0|           0|           0|           0|           0|       0|            3|       11|       0|            48|              7|14515.0|\n",
            "| 8213|      1980| 2n Cycle|      Together|14515.0|      1|       0| 2012-11-09|     71|       6|        4|              9|              6|              36|             35|                4|              2|                  2|                3|                7|           0|           0|           0|           0|           0|       0|            3|       11|       1|            96|             11|14796.0|\n",
            "| 1241|      1984| 2n Cycle|       Married|14796.0|      1|       0| 2012-09-17|      1|      13|        3|              8|              7|               4|             16|                2|              1|                  0|                3|                9|           0|           0|           0|           0|           0|       0|            3|       11|       1|            51|              6|15315.0|\n",
            "| 8420|      1970| 2n Cycle|       Married|15315.0|      0|       0| 2013-08-03|     27|       7|        4|             13|             15|               8|             17|                2|              2|                  0|                4|                5|           0|           0|           0|           0|           0|       0|            3|       11|       0|            64|              8|15315.0|\n",
            "|10065|      1970| 2n Cycle|       Married|15315.0|      0|       0| 2013-08-03|     27|       7|        4|             13|             15|               8|             17|                2|              2|                  0|                4|                5|           0|           0|           0|           0|           0|       0|            3|       11|       0|            64|              8|15716.0|\n",
            "|10995|      1988| 2n Cycle|       Married|15716.0|      1|       0| 2012-11-12|      8|      16|        5|             30|              8|               7|             26|                3|              3|                  0|                4|                8|           0|           0|           0|           0|           0|       1|            3|       11|       0|            92|             10|16248.0|\n",
            "| 3559|      1988| 2n Cycle|       Married|16248.0|      1|       0| 2014-05-10|     77|      12|       11|             10|              3|              12|              9|                3|              2|                  1|                3|                6|           0|           0|           0|           0|           0|       0|            3|       11|       0|            57|              9|17003.0|\n",
            "| 7235|      1975| 2n Cycle|       Married|17003.0|      1|       0| 2013-12-09|     37|       2|        5|             12|              4|               8|              7|                3|              2|                  0|                4|                5|           0|           0|           0|           0|           0|       0|            3|       11|       0|            38|              9|17117.0|\n",
            "| 3270|      1978| 2n Cycle|      Together|17117.0|      1|       0| 2013-01-17|     96|      12|       23|             38|             30|              18|              7|                4|              3|                  1|                3|                9|           0|           0|           0|           0|           0|       0|            3|       11|       0|           128|             11|19414.0|\n",
            "| 3102|      1981| 2n Cycle|      Together|19414.0|      1|       0| 2013-10-16|     32|       2|        3|             12|              3|               5|              7|                1|              1|                  0|                3|                8|           0|           0|           0|           0|           0|       0|            3|       11|       0|            32|              5|19789.0|\n",
            "| 6504|      1975| 2n Cycle|      Together|19789.0|      1|       0| 2013-11-20|     24|       2|        5|              9|             28|               6|             28|                3|              2|                  1|                3|                5|           1|           0|           0|           0|           0|       0|            3|       11|       0|            78|              9|20130.0|\n",
            "| 2106|      1974| 2n Cycle|       Married|20130.0|      0|       0| 2014-03-17|     99|       0|        6|              3|              7|               6|             12|                1|              1|                  0|                3|                8|           0|           0|           0|           0|           0|       0|            3|       11|       0|            34|              5|20130.0|\n",
            "| 3363|      1974| 2n Cycle|       Married|20130.0|      0|       0| 2014-03-17|     99|       0|        6|              3|              7|               6|             12|                1|              1|                  0|                3|                8|           0|           0|           0|           0|           0|       0|            3|       11|       0|            34|              5|20193.0|\n",
            "+-----+----------+---------+--------------+-------+-------+--------+-----------+-------+--------+---------+---------------+---------------+----------------+---------------+-----------------+---------------+-------------------+-----------------+-----------------+------------+------------+------------+------------+------------+--------+-------------+---------+--------+--------------+---------------+-------+\n",
            "only showing top 20 rows\n",
            "\n"
          ]
        }
      ]
    },
    {
      "cell_type": "markdown",
      "source": [
        "###**7.Coversão do dataframe tratado para arquivo .csv.**"
      ],
      "metadata": {
        "id": "AiVoqJZGayA6"
      }
    },
    {
      "cell_type": "code",
      "source": [
        "'''\n",
        "Coversão do dataframe tratado em arquivo .csv\n",
        "Arquivo é salvo no Drive montado automaticamente.\n",
        "'''\n",
        "df5.toPandas().to_csv('marketing_campaign_tratado_pyspark.csv')"
      ],
      "metadata": {
        "id": "om44nSv-h8jn"
      },
      "execution_count": null,
      "outputs": []
    },
    {
      "cell_type": "markdown",
      "source": [
        "##**(L) Carregamento dos dados**"
      ],
      "metadata": {
        "id": "BnhgljVLje96"
      }
    },
    {
      "cell_type": "markdown",
      "source": [
        "###**GCS / Bucket**"
      ],
      "metadata": {
        "id": "OuqC1h69jgTY"
      }
    },
    {
      "cell_type": "code",
      "source": [
        "'''\n",
        "Utilizando o objeto 'blob' quando do acesso ao bucket.\n",
        "Atribuindo operação a uma variável.\n",
        "\n",
        "Os blobs são objetos que podem conter grandes quantidades de texto ou \n",
        "dados binários, incluindo imagens, documentos, mídia de streaming e \n",
        "dados de arquivos.\n",
        "'''\n",
        "\n",
        "blob003 = bucket1.blob('marketing_campaign_tratado_pyspark.csv')"
      ],
      "metadata": {
        "id": "L1SWrb5Xj3at"
      },
      "execution_count": null,
      "outputs": []
    },
    {
      "cell_type": "code",
      "source": [
        "'''\n",
        "Realizando o upload do arquivo do drive montado para o bucket\n",
        "anteriormente especificado.\n",
        "'''\n",
        "blob003.upload_from_filename('/content/marketing_campaign_tratado_pyspark.csv')"
      ],
      "metadata": {
        "id": "ZjO0p8Jwj_SP"
      },
      "execution_count": null,
      "outputs": []
    },
    {
      "cell_type": "markdown",
      "source": [
        "###**MongoDB Atlas**"
      ],
      "metadata": {
        "id": "akvoE3eWj0UQ"
      }
    },
    {
      "cell_type": "code",
      "source": [
        "'''\n",
        "Estrutura de armazenamento\n",
        "'''\n",
        "\n",
        "'''\n",
        "Criando a collection no MongoDB Atlas e\n",
        "armazenado essa collection numa variável.\n",
        "'''\n",
        "\n",
        "if 'tratado_pyspark' not in controle:\n",
        "  db.create_collection('tratado_pyspark')\n",
        "var_tratado_pyspark_mongo = db['tratado_pyspark']"
      ],
      "metadata": {
        "id": "4AR4WHz4kTSX"
      },
      "execution_count": null,
      "outputs": []
    },
    {
      "cell_type": "code",
      "source": [
        "'''\n",
        "Inserção dos dados\n",
        "'''\n",
        "'''\n",
        "Inserindo os dados do arquivo .csv tratado no Mongo Atlas.\n",
        "'''\n",
        "if var_tratado_pyspark_mongo.estimated_document_count()<1:\n",
        "  var_tratado_pyspark_mongo.insert_many(df.to_dict(orient='records'))"
      ],
      "metadata": {
        "id": "dVlh9AVVkuG-"
      },
      "execution_count": null,
      "outputs": []
    },
    {
      "cell_type": "code",
      "source": [
        "'''\n",
        "Validação (double-check)\n",
        "'''\n",
        "'''\n",
        "Validação quantitativa. Verificando a quantidade de 'documents' inseridos.\n",
        "'''\n",
        "var_tratado_pyspark_mongo.count_documents({})\n",
        "print(var_tratado_pyspark_mongo.count_documents({}))"
      ],
      "metadata": {
        "colab": {
          "base_uri": "https://localhost:8080/"
        },
        "id": "8BQx8FKyk3Dv",
        "outputId": "b256fe2d-4098-4397-d16f-1a5d6025d0d0"
      },
      "execution_count": null,
      "outputs": [
        {
          "output_type": "stream",
          "name": "stdout",
          "text": [
            "2240\n"
          ]
        }
      ]
    },
    {
      "cell_type": "markdown",
      "source": [
        "#**Nível SparkSQL**"
      ],
      "metadata": {
        "id": "juwX1gknmAxm"
      }
    },
    {
      "cell_type": "markdown",
      "source": [
        "####**Utilizar no minimo 5 consultas diferentes utilizando o SparkSQL, comentando o porquê de ter escolhido essas funções e explicando o que cada consulta faz.**"
      ],
      "metadata": {
        "id": "wz9AsqVymFkV"
      }
    },
    {
      "cell_type": "code",
      "source": [
        "'''\n",
        "Consulta geral do DataFrame\n",
        "Alguns dados estatístico.\n",
        "'''\n",
        "df5.summary().show()"
      ],
      "metadata": {
        "colab": {
          "base_uri": "https://localhost:8080/"
        },
        "id": "neZGvfti-m37",
        "outputId": "66ba55b4-d024-4903-e01f-4fdd9052a9ca"
      },
      "execution_count": null,
      "outputs": [
        {
          "output_type": "stream",
          "name": "stdout",
          "text": [
            "+-------+------------------+------------------+---------+--------------+------------------+-------------------+------------------+-----------------+------------------+------------------+-----------------+------------------+-----------------+----------------+-----------------+------------------+-------------------+-----------------+-----------------+-------------------+-------------------+-------------------+-------------------+--------------------+-------------------+-------------+---------+-------------------+-----------------+------------------+\n",
            "|summary|                ID|        Year_Birth|Education|Marital_Status|            Income|            Kidhome|          Teenhome|          Recency|          MntWines|         MntFruits|  MntMeatProducts|   MntFishProducts| MntSweetProducts| MntGoldProducts|NumDealsPurchases|   NumWebPurchases|NumCatalogPurchases|NumStorePurchases|NumWebVisitsMonth|       AcceptedCmp3|       AcceptedCmp4|       AcceptedCmp5|       AcceptedCmp1|        AcceptedCmp2|           Complain|Z_CostContact|Z_Revenue|           Response|   MntAllProducts|   NumAllPurchases|\n",
            "+-------+------------------+------------------+---------+--------------+------------------+-------------------+------------------+-----------------+------------------+------------------+-----------------+------------------+-----------------+----------------+-----------------+------------------+-------------------+-----------------+-----------------+-------------------+-------------------+-------------------+-------------------+--------------------+-------------------+-------------+---------+-------------------+-----------------+------------------+\n",
            "|  count|              2240|              2240|     2240|          2240|              2240|               2240|              2240|             2240|              2240|              2240|             2240|              2240|             2240|            2240|             2240|              2240|               2240|             2240|             2240|               2240|               2240|               2240|               2240|                2240|               2240|         2240|     2240|               2240|             2240|              2240|\n",
            "|   mean| 5592.159821428571|1968.8058035714287|     null|          null|52247.251339285714|0.44419642857142855|           0.50625|        49.109375| 303.9357142857143|26.302232142857143|           166.95| 37.52544642857143|27.06294642857143|       44.021875|            2.325| 4.084821428571429| 2.6620535714285714|5.790178571428571|5.316517857142857|0.07276785714285715|0.07455357142857143|0.07276785714285715|0.06428571428571428|0.013392857142857142|           0.009375|          3.0|     11.0|0.14910714285714285|605.7982142857143|14.862053571428572|\n",
            "| stddev|3246.6621975643416|11.984069456885827|     null|          null| 25037.79716839231| 0.5383980977345935|0.5445382307698761|28.96245280837821|336.59739260537197|39.773433764578584|225.7153725117536|54.628979402878095|41.28049848785491|52.1674389149973| 1.93223750085598|2.7787141473881007| 2.9231006555397463|3.250958145674428| 2.42664500954729| 0.2598130699218951|0.26272828485356176| 0.2598130699218953|0.24531597433401406| 0.11497560625548417|0.09639116794449748|          0.0|      0.0|0.35627358640847934|602.2492880109676| 7.677172608175905|\n",
            "|    min|                 0|              1893| 2n Cycle|        Absurd|            1730.0|                  0|                 0|                0|                 0|                 0|                0|                 0|                0|               0|                0|                 0|                  0|                0|                0|                  0|                  0|                  0|                  0|                   0|                  0|            3|       11|                  0|                5|                 0|\n",
            "|    25%|              2826|              1959|     null|          null|           35523.0|                  0|                 0|               24|                23|                 1|               16|                 3|                1|               9|                1|                 2|                  0|                3|                3|                  0|                  0|                  0|                  0|                   0|                  0|            3|       11|                  0|               68|                 8|\n",
            "|    50%|              5455|              1970|     null|          null|           51717.0|                  0|                 0|               49|               173|                 8|               67|                12|                8|              24|                2|                 4|                  2|                5|                6|                  0|                  0|                  0|                  0|                   0|                  0|            3|       11|                  0|              396|                15|\n",
            "|    75%|              8427|              1977|     null|          null|           68281.0|                  1|                 1|               74|               504|                33|              232|                50|               33|              56|                3|                 6|                  4|                8|                7|                  0|                  0|                  0|                  0|                   0|                  0|            3|       11|                  0|             1045|                21|\n",
            "|    max|             11191|              1996|      PhD|          YOLO|          666666.0|                  2|                 2|               99|              1493|               199|             1725|               259|              263|             362|               15|                27|                 28|               13|               20|                  1|                  1|                  1|                  1|                   1|                  1|            3|       11|                  1|             2525|                44|\n",
            "+-------+------------------+------------------+---------+--------------+------------------+-------------------+------------------+-----------------+------------------+------------------+-----------------+------------------+-----------------+----------------+-----------------+------------------+-------------------+-----------------+-----------------+-------------------+-------------------+-------------------+-------------------+--------------------+-------------------+-------------+---------+-------------------+-----------------+------------------+\n",
            "\n"
          ]
        }
      ]
    },
    {
      "cell_type": "markdown",
      "source": [
        "#####**1ª consulta (where): Identificando quantas vezes o salário passado como parâmetro aparece**"
      ],
      "metadata": {
        "id": "Gng93bBlA9-I"
      }
    },
    {
      "cell_type": "code",
      "source": [
        "'''\n",
        "Consultando a quantidade de vezes que o salário médio \n",
        "aparece na coluna 'Income'.\n",
        "\n",
        "Explicação: Consulta relevante para identificar, eficientemente,\n",
        "a quantidade de vezes que o valor passado como parâmetro está \n",
        "na coluna 'Income'. Possui flexibilidade, aceitando qualquer valor\n",
        "informado. Consulta pode ser adaptada para outras colunas.\n",
        "'''\n",
        "df5.where(F.col(\"Income\").isin({'52247.25'} )).count()\n",
        "\n"
      ],
      "metadata": {
        "colab": {
          "base_uri": "https://localhost:8080/"
        },
        "id": "vRF3yWejAcrU",
        "outputId": "37e22ec9-ff7a-4b60-fcd6-a79d69c1a3dc"
      },
      "execution_count": null,
      "outputs": [
        {
          "output_type": "execute_result",
          "data": {
            "text/plain": [
              "24"
            ]
          },
          "metadata": {},
          "execution_count": 185
        }
      ]
    },
    {
      "cell_type": "markdown",
      "source": [
        "#####**2ª consulta (select...distinct): Selecionando os valores distintos da coluna 'Marital_Status'**"
      ],
      "metadata": {
        "id": "6hV34GRPCw9N"
      }
    },
    {
      "cell_type": "code",
      "source": [
        "'''\n",
        "Consultando os valores distintos da coluna 'Marital_Status'.\n",
        "\n",
        "Explicação: Deseja-se saber os valores distintos da \n",
        "coluna 'Marital_Status'. Essa consulta atende exatamente\n",
        "essa finalidade, por isso sua escolha.\n",
        "'''\n",
        "\n",
        "df5.select(df5.Marital_Status).distinct().show()"
      ],
      "metadata": {
        "colab": {
          "base_uri": "https://localhost:8080/"
        },
        "id": "PLM6ZyvYrx5Y",
        "outputId": "cb8aa9d7-b9f3-4453-d269-13ff79937d19"
      },
      "execution_count": null,
      "outputs": [
        {
          "output_type": "stream",
          "name": "stdout",
          "text": [
            "+--------------+\n",
            "|Marital_Status|\n",
            "+--------------+\n",
            "|          YOLO|\n",
            "|      Together|\n",
            "|       Married|\n",
            "|        Absurd|\n",
            "|         Widow|\n",
            "|      Divorced|\n",
            "|         Alone|\n",
            "|        Single|\n",
            "+--------------+\n",
            "\n"
          ]
        }
      ]
    },
    {
      "cell_type": "markdown",
      "source": [
        "#####**3ª consulta (groupBy): Selecionando algumas colunas especifícas e agrupando-as pela coluna 'MntAllProducts', com contagem de quantas vezes as colunas passadas como parâmetro ocorreram.**"
      ],
      "metadata": {
        "id": "wm2SMJEPFcPN"
      }
    },
    {
      "cell_type": "code",
      "source": [
        "'''\n",
        "Selecionando algumas colunas especifícas e agrupando-as pela \n",
        "coluna 'MntAllProducts', com contagem de quantas vezes os valores\n",
        "das colunas passadas como parâmetro ocorreram.\n",
        "\n",
        "Explicação: Deseja-se agrupar algumas informações para compôr\n",
        "um relatório. Essa consulta atende exatamente essa finalidade, por isso\n",
        "sua escolha.\n",
        "'''\n",
        "\n",
        "df5.groupBy('MntAllProducts','NumAllPurchases','Marital_Status','Income').count().show()"
      ],
      "metadata": {
        "colab": {
          "base_uri": "https://localhost:8080/"
        },
        "id": "22OGXap-Mtto",
        "outputId": "55b5e419-ed52-4642-9e8b-0a407f6c1ad9"
      },
      "execution_count": null,
      "outputs": [
        {
          "output_type": "stream",
          "name": "stdout",
          "text": [
            "+--------------+---------------+--------------+-------+-----+\n",
            "|MntAllProducts|NumAllPurchases|Marital_Status| Income|count|\n",
            "+--------------+---------------+--------------+-------+-----+\n",
            "|          1693|             29|       Married|79143.0|    1|\n",
            "|           945|             24|       Married|65665.0|    1|\n",
            "|           764|             23|        Single|55284.0|    1|\n",
            "|          1826|             33|      Divorced|64176.0|    1|\n",
            "|          1501|             23|       Married|81051.0|    1|\n",
            "|           789|             23|       Married|63915.0|    1|\n",
            "|            61|              7|       Married|36026.0|    1|\n",
            "|            39|              9|      Divorced|29819.0|    1|\n",
            "|            80|              9|        Single|32557.0|    1|\n",
            "|          1231|             18|        Single|80317.0|    1|\n",
            "|            31|              6|       Married|31353.0|    2|\n",
            "|            28|              6|       Married|30833.0|    1|\n",
            "|          1379|             17|        Single|81246.0|    1|\n",
            "|          1572|             19|        Single|81741.0|    1|\n",
            "|            30|              6|       Married|42169.0|    1|\n",
            "|          1477|             26|      Divorced|63120.0|    1|\n",
            "|           172|             12|       Married|36145.0|    1|\n",
            "|          1171|             20|       Married|58512.0|    1|\n",
            "|           729|             17|       Married|82017.0|    1|\n",
            "|           170|             10|       Married|34838.0|    1|\n",
            "+--------------+---------------+--------------+-------+-----+\n",
            "only showing top 20 rows\n",
            "\n"
          ]
        }
      ]
    },
    {
      "cell_type": "markdown",
      "source": [
        "#####**4ª consulta (orderBy): Ordenando informações pela coluna 'Income'. 10 maiores rendas.**"
      ],
      "metadata": {
        "id": "nMwGmbq7ab34"
      }
    },
    {
      "cell_type": "code",
      "source": [
        "'''\n",
        "Ordenando valores pela coluna 'Income'. Trazendo os dados atrelados\n",
        "às 10 maiores rendas identificadas.\n",
        "\n",
        "Explicação: Deseja-se ordenar informações pela coluna Income. Essa \n",
        "consulta atende exatamente essa finalidade, por isso sua escolha.\n",
        "'''\n",
        "df5.orderBy(F.col('Income').desc()).show(10)"
      ],
      "metadata": {
        "colab": {
          "base_uri": "https://localhost:8080/"
        },
        "id": "hlCgofZKa3Vl",
        "outputId": "e5fb58dd-86d3-4224-dd82-1bde9e75c497"
      },
      "execution_count": null,
      "outputs": [
        {
          "output_type": "stream",
          "name": "stdout",
          "text": [
            "+-----+----------+----------+--------------+--------+-------+--------+-----------+-------+--------+---------+---------------+---------------+----------------+---------------+-----------------+---------------+-------------------+-----------------+-----------------+------------+------------+------------+------------+------------+--------+-------------+---------+--------+--------------+---------------+\n",
            "|   ID|Year_Birth| Education|Marital_Status|  Income|Kidhome|Teenhome|Dt_Customer|Recency|MntWines|MntFruits|MntMeatProducts|MntFishProducts|MntSweetProducts|MntGoldProducts|NumDealsPurchases|NumWebPurchases|NumCatalogPurchases|NumStorePurchases|NumWebVisitsMonth|AcceptedCmp3|AcceptedCmp4|AcceptedCmp5|AcceptedCmp1|AcceptedCmp2|Complain|Z_CostContact|Z_Revenue|Response|MntAllProducts|NumAllPurchases|\n",
            "+-----+----------+----------+--------------+--------+-------+--------+-----------+-------+--------+---------+---------------+---------------+----------------+---------------+-----------------+---------------+-------------------+-----------------+-----------------+------------+------------+------------+------------+------------+--------+-------------+---------+--------+--------------+---------------+\n",
            "| 9432|      1977|Graduation|      Together|666666.0|      1|       0| 2013-06-02|     23|       9|       14|             18|              8|               1|             12|                4|              3|                  1|                3|                6|           0|           0|           0|           0|           0|       0|            3|       11|       0|            62|             11|\n",
            "| 1503|      1976|       PhD|      Together|162397.0|      1|       1| 2013-06-03|     31|      85|        1|             16|              2|               1|              2|                0|              0|                  0|                1|                1|           0|           0|           0|           0|           0|       0|            3|       11|       0|           107|              1|\n",
            "| 1501|      1982|       PhD|       Married|160803.0|      0|       0| 2012-08-04|     21|      55|       16|           1622|             17|               3|              4|               15|              0|                 28|                1|                0|           0|           0|           0|           0|           0|       0|            3|       11|       0|          1717|             44|\n",
            "| 5336|      1971|    Master|      Together|157733.0|      1|       0| 2013-06-04|     37|      39|        1|              9|              2|               0|              8|                0|              1|                  0|                1|                1|           0|           0|           0|           0|           0|       0|            3|       11|       0|            59|              2|\n",
            "| 8475|      1973|       PhD|       Married|157243.0|      0|       1| 2014-03-01|     98|      20|        2|           1582|              1|               2|              1|               15|              0|                 22|                0|                0|           0|           0|           0|           0|           0|       0|            3|       11|       0|          1608|             37|\n",
            "| 4931|      1977|Graduation|      Together|157146.0|      0|       0| 2013-04-29|     13|       1|        0|           1725|              2|               1|              1|                0|              0|                 28|                0|                1|           0|           0|           0|           0|           0|       0|            3|       11|       0|          1730|             28|\n",
            "|11181|      1949|       PhD|       Married|156924.0|      0|       0| 2013-08-29|     85|       2|        1|              2|              1|               1|              1|                0|              0|                  0|                0|                0|           0|           0|           0|           0|           0|       0|            3|       11|       0|             8|              0|\n",
            "| 5555|      1975|Graduation|      Divorced|153924.0|      0|       0| 2014-02-07|     81|       1|        1|              1|              1|               1|              1|                0|              0|                  0|                0|                0|           0|           0|           0|           0|           0|       0|            3|       11|       0|             6|              0|\n",
            "| 4619|      1945|       PhD|        Single|113734.0|      0|       0| 2014-05-28|      9|       6|        2|              3|              1|             262|              3|                0|             27|                  0|                0|                1|           0|           0|           0|           0|           0|       0|            3|       11|       0|           277|             27|\n",
            "| 4611|      1970|Graduation|      Together|105471.0|      0|       0| 2013-01-21|     36|    1009|      181|            104|            202|              21|            207|                0|              9|                  8|               13|                3|           0|           0|           1|           1|           0|       0|            3|       11|       1|          1724|             30|\n",
            "+-----+----------+----------+--------------+--------+-------+--------+-----------+-------+--------+---------+---------------+---------------+----------------+---------------+-----------------+---------------+-------------------+-----------------+-----------------+------------+------------+------------+------------+------------+--------+-------------+---------+--------+--------------+---------------+\n",
            "only showing top 10 rows\n",
            "\n"
          ]
        }
      ]
    },
    {
      "cell_type": "markdown",
      "source": [
        "#####**5ª consulta (groupBy...max): Agrupando os valores máximos da coluna 'NumAllPurchases' tendo como referência a coluna 'ID'.**"
      ],
      "metadata": {
        "id": "DHpXGQ75a5Ek"
      }
    },
    {
      "cell_type": "code",
      "source": [
        "'''\n",
        "Agrupando os valores máximos da coluna 'NumAllPurchases' tendo como referência \n",
        "a coluna 'ID'.\n",
        "\n",
        "Explicação: Deseja-se agrupar os valores máximos identificados na coluna \n",
        "'NumAllPurchases' tendo como referência a coluna 'ID'. Essa consulta atende \n",
        "exatamente essa finalidade, por isso sua escolha.\n",
        "'''\n",
        "\n",
        "df5.groupBy('ID').max('NumAllPurchases').show()"
      ],
      "metadata": {
        "colab": {
          "base_uri": "https://localhost:8080/"
        },
        "id": "8ybzyor-dxhh",
        "outputId": "65c9bcd6-9b42-42a5-8213-62f957bcc974"
      },
      "execution_count": null,
      "outputs": [
        {
          "output_type": "stream",
          "name": "stdout",
          "text": [
            "+-----+--------------------+\n",
            "|   ID|max(NumAllPurchases)|\n",
            "+-----+--------------------+\n",
            "| 6336|                  10|\n",
            "| 5300|                   6|\n",
            "|10623|                   5|\n",
            "| 5156|                  26|\n",
            "| 3749|                  24|\n",
            "| 8086|                   7|\n",
            "| 6357|                  18|\n",
            "| 6466|                  10|\n",
            "| 1829|                  21|\n",
            "|  833|                   9|\n",
            "| 6658|                  32|\n",
            "| 2563|                   6|\n",
            "| 8932|                  25|\n",
            "| 2387|                  17|\n",
            "|10703|                  11|\n",
            "| 3179|                  19|\n",
            "|10914|                   6|\n",
            "| 1127|                  20|\n",
            "| 3698|                  19|\n",
            "| 2811|                   7|\n",
            "+-----+--------------------+\n",
            "only showing top 20 rows\n",
            "\n"
          ]
        }
      ]
    },
    {
      "cell_type": "markdown",
      "source": [
        "#**Nível DataStudio**"
      ],
      "metadata": {
        "id": "Uu6Hy906fiQF"
      }
    },
    {
      "cell_type": "markdown",
      "source": [
        "###**Link - Data Studio:**\n",
        "\n",
        "https://datastudio.google.com/s/g_-fXC4Iacw  #Temporariamente com indisponibilidade dos dados para migração da base para outro 'Bucket'. Para acesso acesso ao pdf do Dashborad, clique neste link: https://github.com/tiagotff/projeto_individual_SoulCode/blob/tiagosoulcode/Dashboard_Data_Studio.pdf\n"
      ],
      "metadata": {
        "id": "wMHRrYgRfnuS"
      }
    },
    {
      "cell_type": "markdown",
      "source": [
        "###**Queries que serão representadas no DataStudio**"
      ],
      "metadata": {
        "id": "1_eOiJSbfiOc"
      }
    },
    {
      "cell_type": "code",
      "source": [
        "'''\n",
        "View temporária do DataFrame.\n",
        "O tempo de vida dessa tabela temporária está vinculada a SparkSession\n",
        "criada previamente.\n",
        "\n",
        "Fonte: https://spark.apache.org/docs/latest/api/python/reference/api/pyspark.sql.DataFrame.createOrReplaceTempView.html\n",
        "'''\n",
        "df5.createOrReplaceTempView('exemplo')"
      ],
      "metadata": {
        "id": "03uQRtEWCRwg"
      },
      "execution_count": null,
      "outputs": []
    },
    {
      "cell_type": "code",
      "source": [
        "spark.sql('SELECT Education FROM exemplo').show()"
      ],
      "metadata": {
        "id": "BVacx11qAqpg"
      },
      "execution_count": null,
      "outputs": []
    },
    {
      "cell_type": "code",
      "source": [
        "spark.sql('SELECT Marital_Status, NumDealsPurchases, NumWebPurchases, NumCatalogPurchases, NumStorePurchases FROM exemplo').show()"
      ],
      "metadata": {
        "colab": {
          "base_uri": "https://localhost:8080/"
        },
        "id": "tpEb3dxMbgu5",
        "outputId": "8eed7e34-7377-4989-b5ea-df2be1473c7e"
      },
      "execution_count": null,
      "outputs": [
        {
          "output_type": "stream",
          "name": "stdout",
          "text": [
            "+--------------+-----------------+---------------+-------------------+-----------------+\n",
            "|Marital_Status|NumDealsPurchases|NumWebPurchases|NumCatalogPurchases|NumStorePurchases|\n",
            "+--------------+-----------------+---------------+-------------------+-----------------+\n",
            "|        Single|                3|              8|                 10|                4|\n",
            "|        Single|                2|              1|                  1|                2|\n",
            "|      Together|                1|              8|                  2|               10|\n",
            "|      Together|                2|              2|                  0|                4|\n",
            "|       Married|                5|              5|                  3|                6|\n",
            "|      Together|                2|              6|                  4|               10|\n",
            "|      Divorced|                4|              7|                  3|                7|\n",
            "|       Married|                2|              4|                  0|                4|\n",
            "|      Together|                1|              3|                  0|                2|\n",
            "|      Together|                1|              1|                  0|                0|\n",
            "|       Married|                1|              1|                  0|                2|\n",
            "|       Married|                1|              2|                  0|                3|\n",
            "|      Divorced|                1|              3|                  4|                8|\n",
            "|      Divorced|                3|              6|                  1|                5|\n",
            "|       Married|                1|              1|                  0|                3|\n",
            "|        Single|                1|              7|                  6|               12|\n",
            "|       Married|                3|              3|                  0|                3|\n",
            "|      Together|                2|              4|                  1|                6|\n",
            "|       Married|                2|             11|                  4|                9|\n",
            "|        Single|                2|              2|                  1|                3|\n",
            "+--------------+-----------------+---------------+-------------------+-----------------+\n",
            "only showing top 20 rows\n",
            "\n"
          ]
        }
      ]
    },
    {
      "cell_type": "code",
      "source": [
        "spark.sql('SELECT AcceptedCmp1 FROM exemplo').show()"
      ],
      "metadata": {
        "colab": {
          "base_uri": "https://localhost:8080/"
        },
        "id": "MvmDz9CZc-6t",
        "outputId": "ce8f362d-8d6f-42ce-80f7-b01d56938e2a"
      },
      "execution_count": null,
      "outputs": [
        {
          "output_type": "stream",
          "name": "stdout",
          "text": [
            "+------------+\n",
            "|AcceptedCmp1|\n",
            "+------------+\n",
            "|           0|\n",
            "|           0|\n",
            "|           0|\n",
            "|           0|\n",
            "|           0|\n",
            "|           0|\n",
            "|           0|\n",
            "|           0|\n",
            "|           0|\n",
            "|           0|\n",
            "|           0|\n",
            "|           0|\n",
            "|           0|\n",
            "|           0|\n",
            "|           0|\n",
            "|           1|\n",
            "|           0|\n",
            "|           0|\n",
            "|           1|\n",
            "|           0|\n",
            "+------------+\n",
            "only showing top 20 rows\n",
            "\n"
          ]
        }
      ]
    },
    {
      "cell_type": "code",
      "source": [
        "spark.sql('SELECT AcceptedCmp2 FROM exemplo').show()"
      ],
      "metadata": {
        "colab": {
          "base_uri": "https://localhost:8080/"
        },
        "id": "KfFwj5WDdMgy",
        "outputId": "6f70b38e-bf5c-4eb6-ae0f-18344833258b"
      },
      "execution_count": null,
      "outputs": [
        {
          "output_type": "stream",
          "name": "stdout",
          "text": [
            "+------------+\n",
            "|AcceptedCmp2|\n",
            "+------------+\n",
            "|           0|\n",
            "|           0|\n",
            "|           0|\n",
            "|           0|\n",
            "|           0|\n",
            "|           0|\n",
            "|           0|\n",
            "|           0|\n",
            "|           0|\n",
            "|           0|\n",
            "|           0|\n",
            "|           0|\n",
            "|           0|\n",
            "|           0|\n",
            "|           0|\n",
            "|           0|\n",
            "|           0|\n",
            "|           0|\n",
            "|           0|\n",
            "|           0|\n",
            "+------------+\n",
            "only showing top 20 rows\n",
            "\n"
          ]
        }
      ]
    },
    {
      "cell_type": "code",
      "source": [
        "spark.sql('SELECT AcceptedCmp3 FROM exemplo').show()"
      ],
      "metadata": {
        "colab": {
          "base_uri": "https://localhost:8080/"
        },
        "id": "DNkzUrmJdQog",
        "outputId": "d01f1f9e-6f17-448c-8e4a-aea33b19735c"
      },
      "execution_count": null,
      "outputs": [
        {
          "output_type": "stream",
          "name": "stdout",
          "text": [
            "+------------+\n",
            "|AcceptedCmp3|\n",
            "+------------+\n",
            "|           0|\n",
            "|           0|\n",
            "|           0|\n",
            "|           0|\n",
            "|           0|\n",
            "|           0|\n",
            "|           0|\n",
            "|           0|\n",
            "|           0|\n",
            "|           1|\n",
            "|           0|\n",
            "|           0|\n",
            "|           0|\n",
            "|           0|\n",
            "|           0|\n",
            "|           0|\n",
            "|           0|\n",
            "|           0|\n",
            "|           0|\n",
            "|           0|\n",
            "+------------+\n",
            "only showing top 20 rows\n",
            "\n"
          ]
        }
      ]
    },
    {
      "cell_type": "code",
      "source": [
        "spark.sql('SELECT AcceptedCmp4 FROM exemplo').show()"
      ],
      "metadata": {
        "colab": {
          "base_uri": "https://localhost:8080/"
        },
        "id": "wPknfpZQdSU5",
        "outputId": "5207ea17-58ea-4fd6-fc3d-0d40592ae822"
      },
      "execution_count": null,
      "outputs": [
        {
          "output_type": "stream",
          "name": "stdout",
          "text": [
            "+------------+\n",
            "|AcceptedCmp4|\n",
            "+------------+\n",
            "|           0|\n",
            "|           0|\n",
            "|           0|\n",
            "|           0|\n",
            "|           0|\n",
            "|           0|\n",
            "|           0|\n",
            "|           0|\n",
            "|           0|\n",
            "|           0|\n",
            "|           0|\n",
            "|           0|\n",
            "|           0|\n",
            "|           0|\n",
            "|           0|\n",
            "|           0|\n",
            "|           0|\n",
            "|           0|\n",
            "|           0|\n",
            "|           0|\n",
            "+------------+\n",
            "only showing top 20 rows\n",
            "\n"
          ]
        }
      ]
    },
    {
      "cell_type": "code",
      "source": [
        "spark.sql('SELECT AcceptedCmp5 FROM exemplo').show()"
      ],
      "metadata": {
        "colab": {
          "base_uri": "https://localhost:8080/"
        },
        "id": "T9-SL2IodUgo",
        "outputId": "45b73038-8e5e-4499-903c-462a91fc59ee"
      },
      "execution_count": null,
      "outputs": [
        {
          "output_type": "stream",
          "name": "stdout",
          "text": [
            "+------------+\n",
            "|AcceptedCmp5|\n",
            "+------------+\n",
            "|           0|\n",
            "|           0|\n",
            "|           0|\n",
            "|           0|\n",
            "|           0|\n",
            "|           0|\n",
            "|           0|\n",
            "|           0|\n",
            "|           0|\n",
            "|           0|\n",
            "|           0|\n",
            "|           0|\n",
            "|           0|\n",
            "|           0|\n",
            "|           0|\n",
            "|           1|\n",
            "|           0|\n",
            "|           0|\n",
            "|           0|\n",
            "|           0|\n",
            "+------------+\n",
            "only showing top 20 rows\n",
            "\n"
          ]
        }
      ]
    },
    {
      "cell_type": "code",
      "source": [
        "spark.sql('SELECT Marital_Status FROM exemplo').show()"
      ],
      "metadata": {
        "colab": {
          "base_uri": "https://localhost:8080/"
        },
        "id": "p8U7_AP7dxUq",
        "outputId": "44513c8f-7156-439c-9a08-b186ae6b4bb0"
      },
      "execution_count": null,
      "outputs": [
        {
          "output_type": "stream",
          "name": "stdout",
          "text": [
            "+--------------+\n",
            "|Marital_Status|\n",
            "+--------------+\n",
            "|        Single|\n",
            "|        Single|\n",
            "|      Together|\n",
            "|      Together|\n",
            "|       Married|\n",
            "|      Together|\n",
            "|      Divorced|\n",
            "|       Married|\n",
            "|      Together|\n",
            "|      Together|\n",
            "|       Married|\n",
            "|       Married|\n",
            "|      Divorced|\n",
            "|      Divorced|\n",
            "|       Married|\n",
            "|        Single|\n",
            "|       Married|\n",
            "|      Together|\n",
            "|       Married|\n",
            "|        Single|\n",
            "+--------------+\n",
            "only showing top 20 rows\n",
            "\n"
          ]
        }
      ]
    }
  ]
}